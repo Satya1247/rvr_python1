{
 "cells": [
  {
   "cell_type": "code",
   "execution_count": 6,
   "id": "generous-quest",
   "metadata": {},
   "outputs": [
    {
     "name": "stdout",
     "output_type": "stream",
     "text": [
      "sai12345satya@gmail.com\n",
      "prasannaraj@gmail.com\n",
      "rvrjc123@gmail.com\n"
     ]
    }
   ],
   "source": [
    "## email pattern\n",
    "import re\n",
    "li=['apssdc.123@gmail.com','sai12345satya@gmail.com','prasannaraj@gmail.com','rvrjc123@gmail.com','raj#$%%^^@gmail.com','prasanna123@gmmail.co.in']\n",
    "for i in li:\n",
    "    if re.findall('^[a-z0-9]+[a-z0-9]@gmail.com$',i):\n",
    "        print(i)   "
   ]
  },
  {
   "cell_type": "markdown",
   "id": "regulated-living",
   "metadata": {},
   "source": [
    "# file handling techniques using python\n",
    "## what is a file?\n",
    "  --collection of records\n",
    "--store the data\n",
    "##file operations\n",
    "--open a file\n",
    "   -open('file name','mode')\n",
    "-- read the dat into a file  read() \n",
    "--write a file\n",
    "--to write a data into a file  write()  previous data cleared\n",
    "--append()  :to add the data into a file   append the new data and also present the new data\n",
    "--close a file  :close()"
   ]
  },
  {
   "cell_type": "code",
   "execution_count": 11,
   "id": "opposite-suspect",
   "metadata": {},
   "outputs": [
    {
     "name": "stdout",
     "output_type": "stream",
     "text": [
      "<_io.TextIOWrapper name='C:\\\\Users\\\\APSSDC-RVRJC\\\\Desktop\\\\github files\\\\Y19EC096 APSSDC\\\\file11.txt' mode='r' encoding='cp1252'>\n"
     ]
    }
   ],
   "source": [
    "f=open('C:\\\\Users\\\\APSSDC-RVRJC\\\\Desktop\\\\github files\\\\Y19EC096 APSSDC\\\\file11.txt','r')   ##path copy and put double \\\\ or / ssingle forward slash\n",
    "print(f)  ## uni code error if not give the double slash"
   ]
  },
  {
   "cell_type": "code",
   "execution_count": 13,
   "id": "magnetic-advice",
   "metadata": {},
   "outputs": [
    {
     "name": "stdout",
     "output_type": "stream",
     "text": [
      "append\n",
      "read\n",
      "write\n",
      "satya sai\n"
     ]
    }
   ],
   "source": [
    "## read the data\n",
    "f=open('C:\\\\Users\\\\APSSDC-RVRJC\\\\Desktop\\\\github files\\\\Y19EC096 APSSDC\\\\file11.txt','r') \n",
    "f1=f.read()\n",
    "print(f1)"
   ]
  },
  {
   "cell_type": "code",
   "execution_count": 16,
   "id": "fossil-graph",
   "metadata": {},
   "outputs": [
    {
     "name": "stdout",
     "output_type": "stream",
     "text": [
      "a=int(input('enter a value))\n",
      "b=int(input('enter a value'))\n",
      "c=a+b\n",
      "print(c)\n"
     ]
    }
   ],
   "source": [
    "## write the data\n",
    "f=open('file.py','r')\n",
    "f1=f.read()\n",
    "print(f1)"
   ]
  },
  {
   "cell_type": "code",
   "execution_count": 32,
   "id": "dramatic-swift",
   "metadata": {},
   "outputs": [
    {
     "name": "stdout",
     "output_type": "stream",
     "text": [
      "18\n"
     ]
    }
   ],
   "source": [
    "f=open('C:\\\\Users\\\\APSSDC-RVRJC\\\\Desktop\\\\github files\\\\Y19EC096 APSSDC\\\\file11.txt','w')\n",
    "data='satya sai kumar123'\n",
    "f1=f.write(data)\n",
    "f.close()\n",
    "print(f1)"
   ]
  },
  {
   "cell_type": "code",
   "execution_count": 34,
   "id": "first-scott",
   "metadata": {},
   "outputs": [
    {
     "data": {
      "text/plain": [
       "'satya sai kumar123'"
      ]
     },
     "execution_count": 34,
     "metadata": {},
     "output_type": "execute_result"
    }
   ],
   "source": [
    "f2=open('C:\\\\Users\\\\APSSDC-RVRJC\\\\Desktop\\\\github files\\\\Y19EC096 APSSDC\\\\file11.txt')\n",
    "f3=f2.read()\n",
    "f3"
   ]
  },
  {
   "cell_type": "code",
   "execution_count": 42,
   "id": "valuable-third",
   "metadata": {},
   "outputs": [
    {
     "name": "stdout",
     "output_type": "stream",
     "text": [
      "21\n"
     ]
    }
   ],
   "source": [
    "## append\n",
    "f2=open('C:\\\\Users\\\\APSSDC-RVRJC\\\\Desktop\\\\github files\\\\Y19EC096 APSSDC\\\\file11.txt','a')\n",
    "a='  python programmming'\n",
    "f4=f2.write(a)\n",
    "f2.close()\n",
    "print(f4)"
   ]
  },
  {
   "cell_type": "code",
   "execution_count": 43,
   "id": "standing-request",
   "metadata": {},
   "outputs": [
    {
     "data": {
      "text/plain": [
       "'satya sai kumar123python programmming  python programmming'"
      ]
     },
     "execution_count": 43,
     "metadata": {},
     "output_type": "execute_result"
    }
   ],
   "source": [
    "f2=open('C:\\\\Users\\\\APSSDC-RVRJC\\\\Desktop\\\\github files\\\\Y19EC096 APSSDC\\\\file11.txt')\n",
    "f5=f2.read()\n",
    "f5"
   ]
  },
  {
   "cell_type": "code",
   "execution_count": 46,
   "id": "stupid-comment",
   "metadata": {},
   "outputs": [
    {
     "name": "stdout",
     "output_type": "stream",
     "text": [
      "<_io.TextIOWrapper name='file.java' mode='r' encoding='cp1252'>\n"
     ]
    }
   ],
   "source": [
    "s=open('file.java','r')\n",
    "print(s)"
   ]
  },
  {
   "cell_type": "code",
   "execution_count": 47,
   "id": "resistant-audio",
   "metadata": {},
   "outputs": [
    {
     "name": "stdout",
     "output_type": "stream",
     "text": [
      "name:k.v.satya sai kumar\n",
      "y18ec0\n",
      "company:infosys\n",
      "\n"
     ]
    }
   ],
   "source": [
    "f=open('file.java','r')\n",
    "f1=f.read()\n",
    "print(f1)"
   ]
  },
  {
   "cell_type": "code",
   "execution_count": 48,
   "id": "hispanic-tender",
   "metadata": {},
   "outputs": [
    {
     "name": "stdout",
     "output_type": "stream",
     "text": [
      "3\n"
     ]
    }
   ],
   "source": [
    "f=open('file.java','a')\n",
    "f1=f.write('rvr')\n",
    "print(f1)"
   ]
  },
  {
   "cell_type": "code",
   "execution_count": 49,
   "id": "adopted-mixture",
   "metadata": {},
   "outputs": [
    {
     "name": "stdout",
     "output_type": "stream",
     "text": [
      "name:k.v.satya sai kumar\n",
      "y18ec0\n",
      "company:infosys\n",
      "rvr\n"
     ]
    }
   ],
   "source": [
    "f=open('file.java','r')\n",
    "f1=f.read()\n",
    "print(f1)"
   ]
  },
  {
   "cell_type": "code",
   "execution_count": 50,
   "id": "reverse-smooth",
   "metadata": {},
   "outputs": [
    {
     "name": "stdout",
     "output_type": "stream",
     "text": [
      "5\n"
     ]
    }
   ],
   "source": [
    "f=open('file.java','w')\n",
    "f1=f.write('satya')\n",
    "print(f1)"
   ]
  },
  {
   "cell_type": "code",
   "execution_count": 51,
   "id": "emotional-gabriel",
   "metadata": {},
   "outputs": [
    {
     "name": "stdout",
     "output_type": "stream",
     "text": [
      "satya\n"
     ]
    }
   ],
   "source": [
    "f=open('file.java','r')\n",
    "f1=f.read()\n",
    "print(f1)"
   ]
  },
  {
   "cell_type": "markdown",
   "id": "planned-moore",
   "metadata": {},
   "source": [
    "# with out close a file\n",
    "-with open('filename','mode') as f:"
   ]
  },
  {
   "cell_type": "code",
   "execution_count": 52,
   "id": "professional-weekend",
   "metadata": {},
   "outputs": [
    {
     "name": "stdout",
     "output_type": "stream",
     "text": [
      "append data success\n"
     ]
    }
   ],
   "source": [
    "with open('file.java','a') as kumar:\n",
    "    data='apssdc'\n",
    "    kumar.write(data)\n",
    "    print('append data success')"
   ]
  },
  {
   "cell_type": "code",
   "execution_count": 53,
   "id": "hispanic-worst",
   "metadata": {},
   "outputs": [
    {
     "name": "stdout",
     "output_type": "stream",
     "text": [
      "Collecting pyPDF2\n",
      "  Downloading https://files.pythonhosted.org/packages/b4/01/68fcc0d43daf4c6bdbc6b33cc3f77bda531c86b174cac56ef0ffdb96faab/PyPDF2-1.26.0.tar.gz (77kB)\n",
      "Installing collected packages: pyPDF2\n",
      "  Running setup.py install for pyPDF2: started\n",
      "    Running setup.py install for pyPDF2: finished with status 'done'\n",
      "Successfully installed pyPDF2-1.26.0\n",
      "Note: you may need to restart the kernel to use updated packages.\n"
     ]
    },
    {
     "name": "stderr",
     "output_type": "stream",
     "text": [
      "WARNING: You are using pip version 19.2.3, however version 21.0.1 is available.\n",
      "You should consider upgrading via the 'python -m pip install --upgrade pip' command.\n"
     ]
    }
   ],
   "source": [
    "pip install pyPDF2"
   ]
  },
  {
   "cell_type": "code",
   "execution_count": 54,
   "id": "scheduled-fight",
   "metadata": {},
   "outputs": [
    {
     "ename": "FileNotFoundError",
     "evalue": "[Errno 2] No such file or directory: 'example.pdf'",
     "output_type": "error",
     "traceback": [
      "\u001b[1;31m---------------------------------------------------------------------------\u001b[0m",
      "\u001b[1;31mFileNotFoundError\u001b[0m                         Traceback (most recent call last)",
      "\u001b[1;32m<ipython-input-54-55b6bd8717a4>\u001b[0m in \u001b[0;36m<module>\u001b[1;34m\u001b[0m\n\u001b[0;32m      3\u001b[0m \u001b[1;33m\u001b[0m\u001b[0m\n\u001b[0;32m      4\u001b[0m \u001b[1;31m# creating a pdf file object\u001b[0m\u001b[1;33m\u001b[0m\u001b[1;33m\u001b[0m\u001b[1;33m\u001b[0m\u001b[0m\n\u001b[1;32m----> 5\u001b[1;33m \u001b[0mpdfFileObj\u001b[0m \u001b[1;33m=\u001b[0m \u001b[0mopen\u001b[0m\u001b[1;33m(\u001b[0m\u001b[1;34m'example.pdf'\u001b[0m\u001b[1;33m,\u001b[0m \u001b[1;34m'rb'\u001b[0m\u001b[1;33m)\u001b[0m\u001b[1;33m\u001b[0m\u001b[1;33m\u001b[0m\u001b[0m\n\u001b[0m\u001b[0;32m      6\u001b[0m \u001b[1;33m\u001b[0m\u001b[0m\n\u001b[0;32m      7\u001b[0m \u001b[1;31m# creating a pdf reader object\u001b[0m\u001b[1;33m\u001b[0m\u001b[1;33m\u001b[0m\u001b[1;33m\u001b[0m\u001b[0m\n",
      "\u001b[1;31mFileNotFoundError\u001b[0m: [Errno 2] No such file or directory: 'example.pdf'"
     ]
    }
   ],
   "source": [
    "# importing required modules \n",
    "import PyPDF2 \n",
    "  \n",
    "# creating a pdf file object \n",
    "pdfFileObj = open('example.pdf', 'rb') \n",
    "  \n",
    "# creating a pdf reader object \n",
    "pdfReader = PyPDF2.PdfFileReader(pdfFileObj) \n",
    "  \n",
    "# printing number of pages in pdf file \n",
    "print(pdfReader.numPages) \n",
    "  \n",
    "# creating a page object \n",
    "pageObj = pdfReader.getPage(0) \n",
    "  \n",
    "# extracting text from page \n",
    "print(pageObj.extractText()) \n",
    "  \n",
    "# closing the pdf file object \n",
    "pdfFileObj.close() "
   ]
  },
  {
   "cell_type": "code",
   "execution_count": null,
   "id": "desirable-wallet",
   "metadata": {},
   "outputs": [],
   "source": [
    "### greeksforgeeks visit website\n",
    "## w3schools python\n",
    "## javatpoint tutorial"
   ]
  }
 ],
 "metadata": {
  "kernelspec": {
   "display_name": "Python 3",
   "language": "python",
   "name": "python3"
  },
  "language_info": {
   "codemirror_mode": {
    "name": "ipython",
    "version": 3
   },
   "file_extension": ".py",
   "mimetype": "text/x-python",
   "name": "python",
   "nbconvert_exporter": "python",
   "pygments_lexer": "ipython3",
   "version": "3.8.1"
  }
 },
 "nbformat": 4,
 "nbformat_minor": 5
}
