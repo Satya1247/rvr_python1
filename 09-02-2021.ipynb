{
 "cells": [
  {
   "cell_type": "markdown",
   "id": "looking-roads",
   "metadata": {},
   "source": [
    "# regular expression\n",
    "-it is one of the package represented in RE\n",
    "-RE is the sequence of characters that forms a pattern\n",
    "like search pattern,find pattern,find all\n",
    "-validation purpose\n",
    "-must and should import RE"
   ]
  },
  {
   "cell_type": "code",
   "execution_count": 1,
   "id": "located-services",
   "metadata": {},
   "outputs": [],
   "source": [
    "import re"
   ]
  },
  {
   "cell_type": "code",
   "execution_count": 2,
   "id": "reliable-slovakia",
   "metadata": {},
   "outputs": [
    {
     "data": {
      "text/plain": [
       "['A',\n",
       " 'ASCII',\n",
       " 'DEBUG',\n",
       " 'DOTALL',\n",
       " 'I',\n",
       " 'IGNORECASE',\n",
       " 'L',\n",
       " 'LOCALE',\n",
       " 'M',\n",
       " 'MULTILINE',\n",
       " 'Match',\n",
       " 'Pattern',\n",
       " 'RegexFlag',\n",
       " 'S',\n",
       " 'Scanner',\n",
       " 'T',\n",
       " 'TEMPLATE',\n",
       " 'U',\n",
       " 'UNICODE',\n",
       " 'VERBOSE',\n",
       " 'X',\n",
       " '_MAXCACHE',\n",
       " '__all__',\n",
       " '__builtins__',\n",
       " '__cached__',\n",
       " '__doc__',\n",
       " '__file__',\n",
       " '__loader__',\n",
       " '__name__',\n",
       " '__package__',\n",
       " '__spec__',\n",
       " '__version__',\n",
       " '_cache',\n",
       " '_compile',\n",
       " '_compile_repl',\n",
       " '_expand',\n",
       " '_locale',\n",
       " '_pickle',\n",
       " '_special_chars_map',\n",
       " '_subx',\n",
       " 'compile',\n",
       " 'copyreg',\n",
       " 'enum',\n",
       " 'error',\n",
       " 'escape',\n",
       " 'findall',\n",
       " 'finditer',\n",
       " 'fullmatch',\n",
       " 'functools',\n",
       " 'match',\n",
       " 'purge',\n",
       " 'search',\n",
       " 'split',\n",
       " 'sre_compile',\n",
       " 'sre_parse',\n",
       " 'sub',\n",
       " 'subn',\n",
       " 'template']"
      ]
     },
     "execution_count": 2,
     "metadata": {},
     "output_type": "execute_result"
    }
   ],
   "source": [
    "dir(re)"
   ]
  },
  {
   "cell_type": "code",
   "execution_count": 15,
   "id": "backed-horse",
   "metadata": {},
   "outputs": [
    {
     "name": "stdout",
     "output_type": "stream",
     "text": [
      "<re.Match object; span=(0, 1), match='s'>\n"
     ]
    }
   ],
   "source": [
    "## method:match:--syntax is:re.match(pattern,string)\n",
    "import re\n",
    "a=re.match('s','satya sai')   ### only starting character checking match or not\n",
    "print(a)"
   ]
  },
  {
   "cell_type": "code",
   "execution_count": 18,
   "id": "refined-blanket",
   "metadata": {},
   "outputs": [
    {
     "data": {
      "text/plain": [
       "<re.Match object; span=(2, 4), match='ss'>"
      ]
     },
     "execution_count": 18,
     "metadata": {},
     "output_type": "execute_result"
    }
   ],
   "source": [
    "b=re.search('ss','apssdc')   #any where the element can be find\n",
    "b"
   ]
  },
  {
   "cell_type": "code",
   "execution_count": 19,
   "id": "sweet-harrison",
   "metadata": {},
   "outputs": [
    {
     "data": {
      "text/plain": [
       "<re.Match object; span=(0, 5), match='satya'>"
      ]
     },
     "execution_count": 19,
     "metadata": {},
     "output_type": "execute_result"
    }
   ],
   "source": [
    "c=re.match('satya','satya sai')\n",
    "c"
   ]
  },
  {
   "cell_type": "code",
   "execution_count": 20,
   "id": "fossil-editing",
   "metadata": {},
   "outputs": [],
   "source": [
    "c=re.search('satyac','satya sai')  ## not getting o/p \n",
    "c"
   ]
  },
  {
   "cell_type": "code",
   "execution_count": 27,
   "id": "hybrid-folks",
   "metadata": {},
   "outputs": [
    {
     "data": {
      "text/plain": [
       "['satya', 'satya']"
      ]
     },
     "execution_count": 27,
     "metadata": {},
     "output_type": "execute_result"
    }
   ],
   "source": [
    "c=re.findall('satya','satya kumar satya sai')\n",
    "c"
   ]
  },
  {
   "cell_type": "markdown",
   "id": "sporting-professional",
   "metadata": {},
   "source": [
    "# ^ :matches the beginning of a line\n",
    "## $ :matches the end of the line\n",
    "## . :matches any charcter\n",
    "## \\s :matches white space\n",
    "## \\S :matches any non white spaces\n",
    "## * :repeats a character zero or more times\n",
    "## *? :repeats a character zero or more items (non-greedy)\n",
    "## + :repeats a character one or more times\n",
    "## +? : repeats a character one or more times(non greedy)\n",
    "## [aeiou] :matches a single character in  the linked list\n",
    "## [^XYZ] :matches a single character not in the list set\n",
    "## [a-z0-9] : the set of characters can include a range\n",
    "## ( :indicates where string extraction is to start\n",
    "## ) :indicates where string extraction is to end"
   ]
  },
  {
   "cell_type": "code",
   "execution_count": 29,
   "id": "arranged-sheriff",
   "metadata": {},
   "outputs": [
    {
     "data": {
      "text/plain": [
       "<re.Match object; span=(0, 13), match='RVR JC Guntur'>"
      ]
     },
     "execution_count": 29,
     "metadata": {},
     "output_type": "execute_result"
    }
   ],
   "source": [
    "a='RVR JC Guntur'\n",
    "c=re.search('^R.*r$',a)\n",
    "c"
   ]
  },
  {
   "cell_type": "code",
   "execution_count": 44,
   "id": "sustained-editor",
   "metadata": {},
   "outputs": [
    {
     "data": {
      "text/plain": [
       "<re.Match object; span=(0, 6), match='python'>"
      ]
     },
     "execution_count": 44,
     "metadata": {},
     "output_type": "execute_result"
    }
   ],
   "source": [
    "## findall\n",
    "a='python workshop python rvrjc python satya'\n",
    "b=re.search('p....n',a)\n",
    "b"
   ]
  },
  {
   "cell_type": "code",
   "execution_count": 46,
   "id": "attractive-treasure",
   "metadata": {},
   "outputs": [
    {
     "data": {
      "text/plain": [
       "['python', 'python', 'python']"
      ]
     },
     "execution_count": 46,
     "metadata": {},
     "output_type": "execute_result"
    }
   ],
   "source": [
    "b=re.findall('p....n',a)\n",
    "b"
   ]
  },
  {
   "cell_type": "code",
   "execution_count": 47,
   "id": "breathing-oxide",
   "metadata": {},
   "outputs": [
    {
     "data": {
      "text/plain": [
       "['python']"
      ]
     },
     "execution_count": 47,
     "metadata": {},
     "output_type": "execute_result"
    }
   ],
   "source": [
    "b=re.findall('^p....n',a)\n",
    "b"
   ]
  },
  {
   "cell_type": "code",
   "execution_count": 55,
   "id": "located-activation",
   "metadata": {},
   "outputs": [
    {
     "data": {
      "text/plain": [
       "<re.Match object; span=(3, 5), match='jc'>"
      ]
     },
     "execution_count": 55,
     "metadata": {},
     "output_type": "execute_result"
    }
   ],
   "source": [
    "a='rvrjcece'\n",
    "m=re.search('.c',a)\n",
    "m"
   ]
  },
  {
   "cell_type": "code",
   "execution_count": 60,
   "id": "healthy-italian",
   "metadata": {},
   "outputs": [
    {
     "data": {
      "text/plain": [
       "[' ', ' ', ' ', ' ', ' ', ' ']"
      ]
     },
     "execution_count": 60,
     "metadata": {},
     "output_type": "execute_result"
    }
   ],
   "source": [
    "## \\s=white spaces\n",
    "a=' rvr jc ece python workshop '\n",
    "b=re.findall('\\s',a)\n",
    "b"
   ]
  },
  {
   "cell_type": "code",
   "execution_count": 61,
   "id": "meaningful-palace",
   "metadata": {},
   "outputs": [
    {
     "name": "stdout",
     "output_type": "stream",
     "text": [
      "['r', 'v', 'r', 'j', 'c', 'e', 'c', 'e', 'p', 'y', 't', 'h', 'o', 'n', 'w', 'o', 'r', 'k', 's', 'h', 'o', 'p']"
     ]
    }
   ],
   "source": [
    "b=re.findall('\\S',a)\n",
    "print(b,end='')"
   ]
  },
  {
   "cell_type": "code",
   "execution_count": 63,
   "id": "nominated-therapy",
   "metadata": {},
   "outputs": [
    {
     "data": {
      "text/plain": [
       "<re.Match object; span=(0, 2), match='99'>"
      ]
     },
     "execution_count": 63,
     "metadata": {},
     "output_type": "execute_result"
    }
   ],
   "source": [
    "## * :repeats a character zero or more times\n",
    "a='998852582995'\n",
    "b=re.search('9*',a)\n",
    "b"
   ]
  },
  {
   "cell_type": "code",
   "execution_count": 79,
   "id": "attached-lover",
   "metadata": {},
   "outputs": [
    {
     "name": "stdout",
     "output_type": "stream",
     "text": [
      "None\n",
      "None\n",
      "<re.Match object; span=(0, 7), match='Avinash'>\n",
      "None\n"
     ]
    }
   ],
   "source": [
    "li=['ramu','raj','Avinash','gopi'] ## find 'avinash'\n",
    "for i in li:\n",
    "    b=re.search('^A.*h$',i)\n",
    "    print(b)"
   ]
  },
  {
   "cell_type": "code",
   "execution_count": 87,
   "id": "increasing-virginia",
   "metadata": {},
   "outputs": [
    {
     "name": "stdout",
     "output_type": "stream",
     "text": [
      "enter a value4\n",
      "* \n",
      "* * \n",
      "* * * \n",
      "* * * * \n"
     ]
    }
   ],
   "source": [
    "n=int(input('enter a value'))\n",
    "for i in range(0,n):\n",
    "    for j in range(0,i+1):\n",
    "        print('*',end=' ')\n",
    "    print('\\r')\n",
    "        "
   ]
  },
  {
   "cell_type": "code",
   "execution_count": 90,
   "id": "headed-basics",
   "metadata": {},
   "outputs": [
    {
     "name": "stdout",
     "output_type": "stream",
     "text": [
      "9877637222\n",
      "8787878787\n",
      "7665434123\n",
      "6787878888\n"
     ]
    }
   ],
   "source": [
    "### mobile number pattern   ### \\d means digits\n",
    "li=['9877637222','8787878787','7665434123','5432167890','6787878888','9999999999999999999','8786786575676657665']\n",
    "for i in li:\n",
    "    if re.findall('^[6-9]\\d{9}$',i):   ## [6789] or [6,7,8,9]\n",
    "        print(i)"
   ]
  },
  {
   "cell_type": "markdown",
   "id": "productive-currency",
   "metadata": {},
   "source": [
    "# regex.101 visit website for regular expressions"
   ]
  },
  {
   "cell_type": "code",
   "execution_count": 93,
   "id": "junior-philadelphia",
   "metadata": {},
   "outputs": [],
   "source": [
    "## email pattern\n",
    "li=['apssdc.123@gmail.com','apssdcrvr@apssdc.in','prasannaraj.m@gmail.com','rvrjc123@gmail.com','raj#$%%^^@gmail.com','prasanna123@gmmail.co.in']\n",
    "for i in li:\n",
    "    if re.findall('^[a-z0-9].\\d{20}@gmail.com$',i):\n",
    "        print(i)\n",
    "     "
   ]
  },
  {
   "cell_type": "code",
   "execution_count": null,
   "id": "social-planner",
   "metadata": {},
   "outputs": [],
   "source": []
  }
 ],
 "metadata": {
  "kernelspec": {
   "display_name": "Python 3",
   "language": "python",
   "name": "python3"
  },
  "language_info": {
   "codemirror_mode": {
    "name": "ipython",
    "version": 3
   },
   "file_extension": ".py",
   "mimetype": "text/x-python",
   "name": "python",
   "nbconvert_exporter": "python",
   "pygments_lexer": "ipython3",
   "version": "3.8.1"
  }
 },
 "nbformat": 4,
 "nbformat_minor": 5
}
