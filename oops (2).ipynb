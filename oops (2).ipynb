{
 "cells": [
  {
   "cell_type": "code",
   "execution_count": 3,
   "id": "0599af63",
   "metadata": {},
   "outputs": [
    {
     "name": "stdout",
     "output_type": "stream",
     "text": [
      "50\n",
      "satya\n"
     ]
    }
   ],
   "source": [
    "class student:\n",
    "    def __init__(self):\n",
    "        self.id=50\n",
    "        self.name=\"satya\"\n",
    "    def display(self):\n",
    "        print(self.id)\n",
    "        print(self.name)\n",
    "s=student()\n",
    "s.display()"
   ]
  },
  {
   "cell_type": "code",
   "execution_count": 11,
   "id": "74b3af99",
   "metadata": {},
   "outputs": [
    {
     "name": "stdout",
     "output_type": "stream",
     "text": [
      "50\n",
      "60\n",
      "50\n",
      "60\n"
     ]
    }
   ],
   "source": [
    "#accessing instance variables\n",
    "#instance variables is varied from objectbto object\n",
    "#access inside using self and outside the class using objectvariable name\n",
    "#instance variables when new object is called then every calling a copy of instance variable is created\n",
    "class Test:\n",
    "    def __init__(self):\n",
    "        self.id=50\n",
    "        self.b=60\n",
    "    def display(self):\n",
    "        print(self.id)\n",
    "        print(self.b)\n",
    "t=Test()\n",
    "t.display()\n",
    "print(t.id)\n",
    "print(t.b)"
   ]
  },
  {
   "cell_type": "code",
   "execution_count": 12,
   "id": "490ac05d",
   "metadata": {},
   "outputs": [],
   "source": [
    "del t.id\n",
    "#it will be deleted from one object,will not be deleted from other objects"
   ]
  },
  {
   "cell_type": "code",
   "execution_count": 13,
   "id": "1ab4c62f",
   "metadata": {},
   "outputs": [
    {
     "ename": "AttributeError",
     "evalue": "'Test' object has no attribute 'id'",
     "output_type": "error",
     "traceback": [
      "\u001b[1;31m---------------------------------------------------------------------------\u001b[0m",
      "\u001b[1;31mAttributeError\u001b[0m                            Traceback (most recent call last)",
      "\u001b[1;32m~\\AppData\\Local\\Temp/ipykernel_1108/1579324095.py\u001b[0m in \u001b[0;36m<module>\u001b[1;34m\u001b[0m\n\u001b[1;32m----> 1\u001b[1;33m \u001b[0mprint\u001b[0m\u001b[1;33m(\u001b[0m\u001b[0mt\u001b[0m\u001b[1;33m.\u001b[0m\u001b[0mid\u001b[0m\u001b[1;33m)\u001b[0m\u001b[1;33m\u001b[0m\u001b[1;33m\u001b[0m\u001b[0m\n\u001b[0m",
      "\u001b[1;31mAttributeError\u001b[0m: 'Test' object has no attribute 'id'"
     ]
    }
   ],
   "source": [
    "print(t.id)"
   ]
  },
  {
   "cell_type": "code",
   "execution_count": 14,
   "id": "5d5036ac",
   "metadata": {},
   "outputs": [
    {
     "data": {
      "text/plain": [
       "{'b': 60}"
      ]
     },
     "execution_count": 14,
     "metadata": {},
     "output_type": "execute_result"
    }
   ],
   "source": [
    "t.__dict__"
   ]
  },
  {
   "cell_type": "markdown",
   "id": "836ef8a2",
   "metadata": {},
   "source": [
    "# static variables\n",
    "#it cant change object to object and a single copy is shared for all the objects and it is declared\n",
    "#outside methods"
   ]
  },
  {
   "cell_type": "code",
   "execution_count": 18,
   "id": "9b7d8836",
   "metadata": {},
   "outputs": [
    {
     "name": "stdout",
     "output_type": "stream",
     "text": [
      "10 20\n",
      "20 10\n",
      "999 888\n",
      "999 20\n"
     ]
    }
   ],
   "source": [
    "class Test:\n",
    "    x=10\n",
    "    def __init__(self):\n",
    "        self.y=20\n",
    "t=Test()\n",
    "t1=Test()\n",
    "print(t.x,t1.y)\n",
    "print(t.y,t1.x)\n",
    "Test.x=999\n",
    "t1.y=888\n",
    "print(t1.x,t1.y)\n",
    "print(t.x,t.y)"
   ]
  },
  {
   "cell_type": "code",
   "execution_count": null,
   "id": "33fc455f",
   "metadata": {},
   "outputs": [],
   "source": [
    "class Test:\n",
    "    x=10\n",
    "    def __init__(self):\n",
    "        self.y=20\n",
    "t=Test()\n",
    "t1=Test()\n",
    "print(t.x,t1.y)\n"
   ]
  },
  {
   "cell_type": "code",
   "execution_count": 19,
   "id": "ec2cde93",
   "metadata": {},
   "outputs": [],
   "source": [
    "#inside constructor: by using either self or classname\n",
    "#inside instance:by using either self,class name\n",
    "#inside class method:by using either cls variable or classname\n",
    "#inside static method: by using classname\n",
    "#from outside of class: by using either object reference or classname"
   ]
  },
  {
   "cell_type": "code",
   "execution_count": 25,
   "id": "7a3857a3",
   "metadata": {},
   "outputs": [],
   "source": [
    "#we can either with in the class or outside the class we can modify by using classname\n",
    "#but inside class method,by using class variable"
   ]
  },
  {
   "cell_type": "code",
   "execution_count": 7,
   "id": "0d92fee5",
   "metadata": {},
   "outputs": [
    {
     "name": "stdout",
     "output_type": "stream",
     "text": [
      "777\n",
      "888\n",
      "999\n"
     ]
    }
   ],
   "source": [
    "class Test:\n",
    "    a=777\n",
    "    @classmethod\n",
    "    def m1(cls):\n",
    "        cls.a=888\n",
    "    def m2():\n",
    "        Test.a=999\n",
    "print(Test.a)\n",
    "Test.m1()\n",
    "print(Test.a)\n",
    "Test.m2()\n",
    "print(Test.a)"
   ]
  },
  {
   "cell_type": "code",
   "execution_count": 27,
   "id": "3c2306c5",
   "metadata": {},
   "outputs": [],
   "source": [
    "#setter and getter methods"
   ]
  },
  {
   "cell_type": "code",
   "execution_count": 28,
   "id": "ca282aa3",
   "metadata": {},
   "outputs": [],
   "source": [
    "#setter methods are used to set the values to instance variables,setter methods are called \n",
    "#mutator methods"
   ]
  },
  {
   "cell_type": "code",
   "execution_count": 29,
   "id": "2453f8bd",
   "metadata": {},
   "outputs": [],
   "source": [
    "#getter methods are used to get values from the instance variables.these methods are also called accessor methods"
   ]
  },
  {
   "cell_type": "code",
   "execution_count": 9,
   "id": "1195a965",
   "metadata": {},
   "outputs": [
    {
     "name": "stdout",
     "output_type": "stream",
     "text": [
      "dog walks with 4\n"
     ]
    }
   ],
   "source": [
    "class Animal:\n",
    "    legs=4\n",
    "    @classmethod\n",
    "    def walk(cls,name):\n",
    "        print(\"{} walks with {}\".format(name,cls.legs))\n",
    "Animal.walk(\"dog\")"
   ]
  },
  {
   "cell_type": "code",
   "execution_count": 35,
   "id": "aa826b67",
   "metadata": {},
   "outputs": [],
   "source": [
    "#o=outer()\n",
    "#i=o.inner()\n",
    "#gc.isenabled()\n",
    "#destructors is __del__"
   ]
  },
  {
   "cell_type": "code",
   "execution_count": 36,
   "id": "ce90fe67",
   "metadata": {},
   "outputs": [],
   "source": [
    "#by composition it is a has a relationship\n",
    "#by inheritance it is a is-a relationship\n",
    "#by composition it is by using class name or by creating object we can access members of one class\n",
    "#inside another class is nothing but a composition"
   ]
  },
  {
   "cell_type": "code",
   "execution_count": 37,
   "id": "4660ebd1",
   "metadata": {},
   "outputs": [
    {
     "name": "stdout",
     "output_type": "stream",
     "text": [
      "car using engine functionality\n",
      "10\n",
      "20\n",
      "engine specific functionality\n"
     ]
    }
   ],
   "source": [
    "class Engine:\n",
    "    a=10\n",
    "    def __init__(self):\n",
    "        self.b=20\n",
    "    def m1(self):\n",
    "        print(\"engine specific functionality\")\n",
    "class car:\n",
    "    def __init__(self):\n",
    "        self.engine=Engine()\n",
    "    def m2(self):\n",
    "        print(\"car using engine functionality\")\n",
    "        print(self.engine.a)\n",
    "        print(self.engine.b)\n",
    "        self.engine.m1()\n",
    "c=car()\n",
    "c.m2()"
   ]
  },
  {
   "cell_type": "code",
   "execution_count": 38,
   "id": "67830dd2",
   "metadata": {},
   "outputs": [],
   "source": [
    "#inheritance--is a relationship\n",
    "#whenever variables ,methods,constructors available in the parent class by default avaialable\n",
    "#in the child class and we are not required to rewrite.\n",
    "#advantages:\n",
    "#code reusability and we can extend functionality with more extra functionality"
   ]
  },
  {
   "cell_type": "code",
   "execution_count": 42,
   "id": "3768ace2",
   "metadata": {},
   "outputs": [
    {
     "name": "stdout",
     "output_type": "stream",
     "text": [
      "10\n",
      "10\n",
      "parent instance method\n",
      "parent cls method\n",
      "parent method\n"
     ]
    }
   ],
   "source": [
    "class p:\n",
    "    a=10\n",
    "    def __init__(self):\n",
    "        self.b=10\n",
    "    def m1(self):\n",
    "        print(\"parent instance method\")\n",
    "    @classmethod\n",
    "    def m2(cls):\n",
    "        #cls.c=20\n",
    "        print(\"parent cls method\")\n",
    "    @staticmethod\n",
    "    def m3():\n",
    "        print(\"parent static method\")\n",
    "class c(p):\n",
    "    pass\n",
    "c1=c()\n",
    "print(c1.a)\n",
    "print(c1.b)\n",
    "c1.m1()\n",
    "c1.m2()\n",
    "c1.m3()\n",
    "#print(cls.c)\n"
   ]
  },
  {
   "cell_type": "code",
   "execution_count": 43,
   "id": "9c3e3b7f",
   "metadata": {},
   "outputs": [
    {
     "name": "stdout",
     "output_type": "stream",
     "text": [
      "10 20 30\n"
     ]
    }
   ],
   "source": [
    "class p:\n",
    "    a=10\n",
    "    def __init__(self):\n",
    "        self.b=20\n",
    "class c(p):\n",
    "    c=30\n",
    "    def __init__(self):\n",
    "        super().__init__()\n",
    "        self.d=30\n",
    "c1=c()\n",
    "print(c1.a,c1.b,c1.d)"
   ]
  },
  {
   "cell_type": "code",
   "execution_count": 12,
   "id": "65f9409f",
   "metadata": {},
   "outputs": [
    {
     "name": "stdout",
     "output_type": "stream",
     "text": [
      "parent instance method\n",
      "parent class method\n",
      "parent static method\n"
     ]
    }
   ],
   "source": [
    "class p:\n",
    "    a=10\n",
    "    def __init__(self):\n",
    "        self.b=20\n",
    "    def m1(self):\n",
    "        print(\"parent instance method\")\n",
    "    @classmethod\n",
    "    def m2(cls):\n",
    "        print(\"parent class method\")\n",
    "    @staticmethod\n",
    "    def m3():\n",
    "        print(\"parent static method\")\n",
    "t=p()\n",
    "p.a\n",
    "t.m1()\n",
    "t.m2()\n",
    "t.m3()\n",
    "        "
   ]
  },
  {
   "cell_type": "code",
   "execution_count": 44,
   "id": "aaa1501b",
   "metadata": {},
   "outputs": [
    {
     "name": "stdout",
     "output_type": "stream",
     "text": [
      "biryani\n",
      "coding\n",
      "satya\n",
      "48\n",
      "100\n",
      "10000\n",
      "innova 2.5 grey\n"
     ]
    }
   ],
   "source": [
    "#is a relationship vs has a relationship\n",
    "class car:\n",
    "    def __init__(self,name,model,color):\n",
    "        self.name=name\n",
    "        self.model=model\n",
    "        self.color=color\n",
    "    def getinfo(self):\n",
    "        print(self.name,self.model,self.color)\n",
    "class person:\n",
    "    def __init__(self,name,age):\n",
    "        self.name=name\n",
    "        self.age=age\n",
    "    def eatdrink(self):\n",
    "        print(\"biryani\")\n",
    "class employee(person):\n",
    "    def __init__(self,name,age,eno,esal,car):\n",
    "        super().__init__(name,age)\n",
    "        self.eno=eno\n",
    "        self.esal=esal\n",
    "        self.car=car\n",
    "    def work(self):\n",
    "        print(\"coding\")\n",
    "    def empinfo(self):\n",
    "        print(self.name)\n",
    "        print(self.age)\n",
    "        print(self.eno)\n",
    "        print(self.esal)\n",
    "        self.car.getinfo()\n",
    "c=car(\"innova\",\"2.5\",\"grey\")\n",
    "e=employee(\"satya\",48,100,10000,c)\n",
    "e.eatdrink()\n",
    "e.work()\n",
    "e.empinfo()"
   ]
  },
  {
   "cell_type": "code",
   "execution_count": 3,
   "id": "65224679",
   "metadata": {},
   "outputs": [
    {
     "name": "stdout",
     "output_type": "stream",
     "text": [
      "biryani\n",
      "coding\n",
      "satya\n",
      "20\n",
      "96\n",
      "60000\n",
      "lenovo 3 25\n"
     ]
    }
   ],
   "source": [
    "class person:\n",
    "    def __init__(self,name,age,id):\n",
    "        self.name=name\n",
    "        self.age=age\n",
    "        self.id=id\n",
    "    def eatdrink(self):\n",
    "        print(\"biryani\")\n",
    "class car:\n",
    "    def __init__(self,name,model,milage):\n",
    "        self.name=name\n",
    "        self.model=model\n",
    "        self.milage=milage\n",
    "    def getinfo(self):\n",
    "        print(self.name,self.model,self.milage)\n",
    "class employee(person):\n",
    "    def __init__(self,name,age,eno,esal,car):\n",
    "        super().__init__(name,age,id)\n",
    "        self.eno=eno\n",
    "        self.esal=esal\n",
    "        self.car=car\n",
    "    def work(self):\n",
    "        print(\"coding\")\n",
    "    def empinfo(self):\n",
    "        print(self.name)\n",
    "        print(self.age)\n",
    "        print(self.eno)\n",
    "        print(self.esal)\n",
    "        self.car.getinfo()\n",
    "c=car(\"lenovo\",3,25)\n",
    "e=employee(\"satya\",20,96,60000,c)\n",
    "e.eatdrink()\n",
    "e.work()\n",
    "e.empinfo()\n",
    "\n",
    "    "
   ]
  },
  {
   "cell_type": "code",
   "execution_count": 17,
   "id": "e5c34953",
   "metadata": {},
   "outputs": [
    {
     "name": "stdout",
     "output_type": "stream",
     "text": [
      "satya\n",
      "21\n",
      "96\n"
     ]
    }
   ],
   "source": [
    "class person:\n",
    "    def __init__(self,name,age):\n",
    "        self.name=name\n",
    "        self.age=age\n",
    "    def eat(self):\n",
    "        print(\"biryani\")\n",
    "    \n",
    "class employee(person):\n",
    "    def __init__(self,name,age,eno):\n",
    "        super().__init__(name,age)\n",
    "        self.eno=eno\n",
    "    def m1(self):\n",
    "        print(self.name)\n",
    "        print(self.age)\n",
    "        print(self.eno)\n",
    "e=employee(\"satya\",21,96)\n",
    "e.m1()\n",
    "        \n",
    "        "
   ]
  },
  {
   "cell_type": "code",
   "execution_count": 4,
   "id": "673a36d9",
   "metadata": {},
   "outputs": [
    {
     "name": "stdout",
     "output_type": "stream",
     "text": [
      "talking\n"
     ]
    },
    {
     "ename": "AttributeError",
     "evalue": "'dog' object has no attribute 'talk'",
     "output_type": "error",
     "traceback": [
      "\u001b[1;31m---------------------------------------------------------------------------\u001b[0m",
      "\u001b[1;31mAttributeError\u001b[0m                            Traceback (most recent call last)",
      "\u001b[1;32m~\\AppData\\Local\\Temp/ipykernel_15428/3948348404.py\u001b[0m in \u001b[0;36m<module>\u001b[1;34m\u001b[0m\n\u001b[0;32m     10\u001b[0m \u001b[0mf1\u001b[0m\u001b[1;33m(\u001b[0m\u001b[0md\u001b[0m\u001b[1;33m)\u001b[0m\u001b[1;33m\u001b[0m\u001b[1;33m\u001b[0m\u001b[0m\n\u001b[0;32m     11\u001b[0m \u001b[0md\u001b[0m\u001b[1;33m=\u001b[0m\u001b[0mdog\u001b[0m\u001b[1;33m(\u001b[0m\u001b[1;33m)\u001b[0m\u001b[1;33m\u001b[0m\u001b[1;33m\u001b[0m\u001b[0m\n\u001b[1;32m---> 12\u001b[1;33m \u001b[0mf1\u001b[0m\u001b[1;33m(\u001b[0m\u001b[0md\u001b[0m\u001b[1;33m)\u001b[0m\u001b[1;33m\u001b[0m\u001b[1;33m\u001b[0m\u001b[0m\n\u001b[0m",
      "\u001b[1;32m~\\AppData\\Local\\Temp/ipykernel_15428/3948348404.py\u001b[0m in \u001b[0;36mf1\u001b[1;34m(obj)\u001b[0m\n\u001b[0;32m      6\u001b[0m         \u001b[0mprint\u001b[0m\u001b[1;33m(\u001b[0m\u001b[1;34m\"bow bow\"\u001b[0m\u001b[1;33m)\u001b[0m\u001b[1;33m\u001b[0m\u001b[1;33m\u001b[0m\u001b[0m\n\u001b[0;32m      7\u001b[0m \u001b[1;32mdef\u001b[0m \u001b[0mf1\u001b[0m\u001b[1;33m(\u001b[0m\u001b[0mobj\u001b[0m\u001b[1;33m)\u001b[0m\u001b[1;33m:\u001b[0m\u001b[1;33m\u001b[0m\u001b[1;33m\u001b[0m\u001b[0m\n\u001b[1;32m----> 8\u001b[1;33m     \u001b[0mobj\u001b[0m\u001b[1;33m.\u001b[0m\u001b[0mtalk\u001b[0m\u001b[1;33m(\u001b[0m\u001b[1;33m)\u001b[0m\u001b[1;33m\u001b[0m\u001b[1;33m\u001b[0m\u001b[0m\n\u001b[0m\u001b[0;32m      9\u001b[0m \u001b[0md\u001b[0m\u001b[1;33m=\u001b[0m\u001b[0mduck\u001b[0m\u001b[1;33m(\u001b[0m\u001b[1;33m)\u001b[0m\u001b[1;33m\u001b[0m\u001b[1;33m\u001b[0m\u001b[0m\n\u001b[0;32m     10\u001b[0m \u001b[0mf1\u001b[0m\u001b[1;33m(\u001b[0m\u001b[0md\u001b[0m\u001b[1;33m)\u001b[0m\u001b[1;33m\u001b[0m\u001b[1;33m\u001b[0m\u001b[0m\n",
      "\u001b[1;31mAttributeError\u001b[0m: 'dog' object has no attribute 'talk'"
     ]
    }
   ],
   "source": [
    "class duck:\n",
    "    def talk(self):\n",
    "        print(\"talking\")\n",
    "class dog:\n",
    "    def bark(self):\n",
    "        print(\"bow bow\")\n",
    "def f1(obj):\n",
    "    obj.talk()\n",
    "d=duck()\n",
    "f1(d)\n",
    "d=dog()\n",
    "f1(d)"
   ]
  },
  {
   "cell_type": "code",
   "execution_count": 21,
   "id": "f5971e81",
   "metadata": {},
   "outputs": [
    {
     "name": "stdout",
     "output_type": "stream",
     "text": [
      "meow meow\n",
      "bow bow\n"
     ]
    }
   ],
   "source": [
    "class cat:\n",
    "    def talk(self):\n",
    "        print(\"meow meow\")\n",
    "class dog:\n",
    "    def talk(self):\n",
    "        print(\"bow bow\")\n",
    "def f1(obj):\n",
    "    obj.talk()\n",
    "c=cat()\n",
    "d=dog()\n",
    "f1(c)\n",
    "f1(d)"
   ]
  },
  {
   "cell_type": "code",
   "execution_count": 23,
   "id": "ce015aa8",
   "metadata": {},
   "outputs": [
    {
     "name": "stdout",
     "output_type": "stream",
     "text": [
      "barking\n",
      "mew mew\n",
      "duck\n"
     ]
    }
   ],
   "source": [
    "class dog:\n",
    "    def talk(self):\n",
    "        print(\"barking\")\n",
    "class duck:\n",
    "    def bark(self):\n",
    "        print(\"duck\")\n",
    "class cat:\n",
    "    def talk(self):\n",
    "        print(\"mew mew\")\n",
    "def f1(obj):\n",
    "    if(hasattr(obj,'talk')):\n",
    "        obj.talk()\n",
    "    if(hasattr(obj,'bark')):\n",
    "        obj.bark()\n",
    "d=dog()\n",
    "c=cat()\n",
    "d1=duck()\n",
    "f1(d)\n",
    "f1(c)\n",
    "f1(d1)"
   ]
  },
  {
   "cell_type": "code",
   "execution_count": null,
   "id": "bfffb2a3",
   "metadata": {},
   "outputs": [],
   "source": []
  },
  {
   "cell_type": "code",
   "execution_count": null,
   "id": "48f64ded",
   "metadata": {},
   "outputs": [],
   "source": []
  },
  {
   "cell_type": "code",
   "execution_count": 5,
   "id": "9215347a",
   "metadata": {},
   "outputs": [
    {
     "name": "stdout",
     "output_type": "stream",
     "text": [
      "talking\n",
      "bow bow\n",
      "bow bow\n"
     ]
    }
   ],
   "source": [
    "class duck:\n",
    "    def talk(self):\n",
    "        print(\"talking\")\n",
    "class human:\n",
    "    def talk(self):\n",
    "        print(\"bow bow\")\n",
    "class dog:\n",
    "    def bark(self):\n",
    "        print(\"bow bow\")\n",
    "def f1(obj):\n",
    "    if(hasattr(obj,'talk')):\n",
    "        obj.talk()\n",
    "    elif hasattr(obj,'bark'):\n",
    "        obj.bark()\n",
    "d=duck()\n",
    "f1(d)\n",
    "h=human()\n",
    "f1(h)\n",
    "d=dog()\n",
    "f1(d)"
   ]
  },
  {
   "cell_type": "code",
   "execution_count": 6,
   "id": "4198a5db",
   "metadata": {},
   "outputs": [
    {
     "ename": "TypeError",
     "evalue": "unsupported operand type(s) for +: 'book' and 'book'",
     "output_type": "error",
     "traceback": [
      "\u001b[1;31m---------------------------------------------------------------------------\u001b[0m",
      "\u001b[1;31mTypeError\u001b[0m                                 Traceback (most recent call last)",
      "\u001b[1;32m~\\AppData\\Local\\Temp/ipykernel_15428/2869130024.py\u001b[0m in \u001b[0;36m<module>\u001b[1;34m\u001b[0m\n\u001b[0;32m      5\u001b[0m \u001b[0mb1\u001b[0m\u001b[1;33m=\u001b[0m\u001b[0mbook\u001b[0m\u001b[1;33m(\u001b[0m\u001b[1;36m100\u001b[0m\u001b[1;33m)\u001b[0m\u001b[1;33m\u001b[0m\u001b[1;33m\u001b[0m\u001b[0m\n\u001b[0;32m      6\u001b[0m \u001b[0mb2\u001b[0m\u001b[1;33m=\u001b[0m\u001b[0mbook\u001b[0m\u001b[1;33m(\u001b[0m\u001b[1;36m200\u001b[0m\u001b[1;33m)\u001b[0m\u001b[1;33m\u001b[0m\u001b[1;33m\u001b[0m\u001b[0m\n\u001b[1;32m----> 7\u001b[1;33m \u001b[0mprint\u001b[0m\u001b[1;33m(\u001b[0m\u001b[0mb1\u001b[0m\u001b[1;33m+\u001b[0m\u001b[0mb2\u001b[0m\u001b[1;33m)\u001b[0m\u001b[1;33m\u001b[0m\u001b[1;33m\u001b[0m\u001b[0m\n\u001b[0m",
      "\u001b[1;31mTypeError\u001b[0m: unsupported operand type(s) for +: 'book' and 'book'"
     ]
    }
   ],
   "source": [
    "#overloading we can use same operator\n",
    "class book:\n",
    "    def __init__(self,pages):\n",
    "        self.pages=pages\n",
    "b1=book(100)\n",
    "b2=book(200)\n",
    "print(b1+b2)"
   ]
  },
  {
   "cell_type": "code",
   "execution_count": 24,
   "id": "7daf0df6",
   "metadata": {},
   "outputs": [
    {
     "ename": "TypeError",
     "evalue": "__init__() takes 1 positional argument but 2 were given",
     "output_type": "error",
     "traceback": [
      "\u001b[1;31m---------------------------------------------------------------------------\u001b[0m",
      "\u001b[1;31mTypeError\u001b[0m                                 Traceback (most recent call last)",
      "\u001b[1;32m~\\AppData\\Local\\Temp/ipykernel_9720/339722929.py\u001b[0m in \u001b[0;36m<module>\u001b[1;34m\u001b[0m\n\u001b[0;32m      2\u001b[0m     \u001b[1;32mdef\u001b[0m \u001b[0m__init__\u001b[0m\u001b[1;33m(\u001b[0m\u001b[0mself\u001b[0m\u001b[1;33m)\u001b[0m\u001b[1;33m:\u001b[0m\u001b[1;33m\u001b[0m\u001b[1;33m\u001b[0m\u001b[0m\n\u001b[0;32m      3\u001b[0m         \u001b[0mself\u001b[0m\u001b[1;33m.\u001b[0m\u001b[0mpages\u001b[0m\u001b[1;33m=\u001b[0m\u001b[0mpages\u001b[0m\u001b[1;33m\u001b[0m\u001b[1;33m\u001b[0m\u001b[0m\n\u001b[1;32m----> 4\u001b[1;33m \u001b[0mb\u001b[0m\u001b[1;33m=\u001b[0m\u001b[0mbook\u001b[0m\u001b[1;33m(\u001b[0m\u001b[1;36m100\u001b[0m\u001b[1;33m)\u001b[0m\u001b[1;33m\u001b[0m\u001b[1;33m\u001b[0m\u001b[0m\n\u001b[0m\u001b[0;32m      5\u001b[0m \u001b[0mb1\u001b[0m\u001b[1;33m=\u001b[0m\u001b[0mbook\u001b[0m\u001b[1;33m(\u001b[0m\u001b[1;36m200\u001b[0m\u001b[1;33m)\u001b[0m\u001b[1;33m\u001b[0m\u001b[1;33m\u001b[0m\u001b[0m\n\u001b[0;32m      6\u001b[0m \u001b[0mprint\u001b[0m\u001b[1;33m(\u001b[0m\u001b[0mb\u001b[0m\u001b[1;33m+\u001b[0m\u001b[0mb1\u001b[0m\u001b[1;33m)\u001b[0m\u001b[1;33m\u001b[0m\u001b[1;33m\u001b[0m\u001b[0m\n",
      "\u001b[1;31mTypeError\u001b[0m: __init__() takes 1 positional argument but 2 were given"
     ]
    }
   ],
   "source": [
    "class book:\n",
    "    def __init__(self):\n",
    "        self.pages=pages\n",
    "b=book(100)\n",
    "b1=book(200)\n",
    "print(b+b1)"
   ]
  },
  {
   "cell_type": "code",
   "execution_count": 26,
   "id": "50ee8b89",
   "metadata": {},
   "outputs": [
    {
     "name": "stdout",
     "output_type": "stream",
     "text": [
      "300\n"
     ]
    }
   ],
   "source": [
    "class book:\n",
    "    def __init__(self,pages):\n",
    "        self.pages=pages\n",
    "    def __add__(self,other):\n",
    "        return self.pages+other.pages\n",
    "b=book(100)\n",
    "b1=book(200)\n",
    "print(b+b1)"
   ]
  },
  {
   "cell_type": "code",
   "execution_count": null,
   "id": "a20238f1",
   "metadata": {},
   "outputs": [],
   "source": []
  },
  {
   "cell_type": "code",
   "execution_count": null,
   "id": "e7a30bbc",
   "metadata": {},
   "outputs": [],
   "source": []
  },
  {
   "cell_type": "code",
   "execution_count": 10,
   "id": "a51793c7",
   "metadata": {},
   "outputs": [
    {
     "name": "stdout",
     "output_type": "stream",
     "text": [
      "300\n"
     ]
    }
   ],
   "source": [
    "class book:\n",
    "    def __init__(self,pages):\n",
    "        self.pages=pages\n",
    "    def __add__(self,other):\n",
    "        return self.pages+other.pages\n",
    "b1=book(100)\n",
    "b2=book(200)\n",
    "print(b1+b2)"
   ]
  },
  {
   "cell_type": "code",
   "execution_count": 1,
   "id": "00b9a57d",
   "metadata": {},
   "outputs": [
    {
     "name": "stdout",
     "output_type": "stream",
     "text": [
      "False\n",
      "False\n",
      "True\n",
      "False\n"
     ]
    }
   ],
   "source": [
    "class student:\n",
    "    def __init__(self,name,marks):\n",
    "        self.name=name\n",
    "        self.marks=marks\n",
    "    def __gt__(self,other):\n",
    "        return self.marks>other.marks\n",
    "    def __le__(self,other):\n",
    "        return self.marks<other.marks\n",
    "print(10>20)\n",
    "s1=student(\"durga\",100)\n",
    "s2=student(\"satya\",200)\n",
    "print(s1>s2)\n",
    "print(s1<=s2)\n",
    "print(s1>=s2)"
   ]
  },
  {
   "cell_type": "code",
   "execution_count": 15,
   "id": "7f1fa553",
   "metadata": {},
   "outputs": [
    {
     "name": "stdout",
     "output_type": "stream",
     "text": [
      "20000\n"
     ]
    }
   ],
   "source": [
    "class employee:\n",
    "    def __init__(self,name,salary):\n",
    "        self.name=name\n",
    "        self.salary=salary\n",
    "    def __mul__(self,other):\n",
    "        return self.salary*other.salary\n",
    "e=employee(\"satya\",100)\n",
    "e1=employee(\"sai\",200)\n",
    "print(e*e1)"
   ]
  },
  {
   "cell_type": "code",
   "execution_count": 16,
   "id": "5dd47db5",
   "metadata": {},
   "outputs": [
    {
     "name": "stdout",
     "output_type": "stream",
     "text": [
      "no arg\n",
      "one argument\n",
      "two argument\n"
     ]
    }
   ],
   "source": [
    "#method overloading when 2 methods having same name but different type of arguments then those\n",
    "#methods are called overloaded methods\n",
    "class test:\n",
    "    def m1(self):\n",
    "        print(\"no arg\")\n",
    "    def m2(self,a):\n",
    "        print(\"one argument\")\n",
    "    def m3(self,a,b):\n",
    "        print(\"two argument\")\n",
    "t=test()\n",
    "t.m1()\n",
    "t.m2(10)\n",
    "t.m3(10,20)"
   ]
  },
  {
   "cell_type": "code",
   "execution_count": 18,
   "id": "9d7397d1",
   "metadata": {},
   "outputs": [
    {
     "name": "stdout",
     "output_type": "stream",
     "text": [
      "30\n"
     ]
    }
   ],
   "source": [
    "#most of the times,if method with variable number of arguments required then we can handle\n",
    "#with default arguments or with variable number of arguments\n",
    "class Test:\n",
    "    def sum(self,a=None,b=None,c=None):\n",
    "        if a!=None and b!=None and c!=None:\n",
    "            print(a+b+c)\n",
    "        elif(a!=None and b!=None):\n",
    "            print(a+b)\n",
    "        else:\n",
    "            print(\"insufficient\")\n",
    "t=Test()\n",
    "t.sum(10,20)"
   ]
  },
  {
   "cell_type": "code",
   "execution_count": 19,
   "id": "173d34f5",
   "metadata": {},
   "outputs": [
    {
     "name": "stdout",
     "output_type": "stream",
     "text": [
      "80\n"
     ]
    }
   ],
   "source": [
    "class Test:\n",
    "    def sum(self,*a):\n",
    "        s=0\n",
    "        for x in a:\n",
    "            s+=x\n",
    "        print(s)\n",
    "t=Test()\n",
    "t.sum(10,20,20,30)"
   ]
  },
  {
   "cell_type": "code",
   "execution_count": 5,
   "id": "584bed5c",
   "metadata": {},
   "outputs": [
    {
     "ename": "TypeError",
     "evalue": "__init__() missing 1 required positional argument: 'b'",
     "output_type": "error",
     "traceback": [
      "\u001b[1;31m---------------------------------------------------------------------------\u001b[0m",
      "\u001b[1;31mTypeError\u001b[0m                                 Traceback (most recent call last)",
      "\u001b[1;32m~\\AppData\\Local\\Temp/ipykernel_15172/3793383560.py\u001b[0m in \u001b[0;36m<module>\u001b[1;34m\u001b[0m\n\u001b[0;32m      7\u001b[0m     \u001b[1;32mdef\u001b[0m \u001b[0m__init__\u001b[0m\u001b[1;33m(\u001b[0m\u001b[0mself\u001b[0m\u001b[1;33m,\u001b[0m\u001b[0ma\u001b[0m\u001b[1;33m,\u001b[0m\u001b[0mb\u001b[0m\u001b[1;33m)\u001b[0m\u001b[1;33m:\u001b[0m\u001b[1;33m\u001b[0m\u001b[1;33m\u001b[0m\u001b[0m\n\u001b[0;32m      8\u001b[0m         \u001b[0mprint\u001b[0m\u001b[1;33m(\u001b[0m\u001b[1;34m\"two arg constructor\"\u001b[0m\u001b[1;33m)\u001b[0m\u001b[1;33m\u001b[0m\u001b[1;33m\u001b[0m\u001b[0m\n\u001b[1;32m----> 9\u001b[1;33m \u001b[0mt1\u001b[0m\u001b[1;33m=\u001b[0m\u001b[0mtest\u001b[0m\u001b[1;33m(\u001b[0m\u001b[1;36m60\u001b[0m\u001b[1;33m)\u001b[0m\u001b[1;33m\u001b[0m\u001b[1;33m\u001b[0m\u001b[0m\n\u001b[0m",
      "\u001b[1;31mTypeError\u001b[0m: __init__() missing 1 required positional argument: 'b'"
     ]
    }
   ],
   "source": [
    "#constructor overloading\n",
    "class test:\n",
    "    def __init__(self):\n",
    "        print(\"no constructor\")\n",
    "    def __init__(self,a):\n",
    "        print(\"one arg constructor\")\n",
    "    def __init__(self,a,b):\n",
    "        print(\"two arg constructor\")\n",
    "t1=test(60)"
   ]
  },
  {
   "cell_type": "code",
   "execution_count": 23,
   "id": "a7c16a4b",
   "metadata": {},
   "outputs": [],
   "source": [
    "#method overriding\n",
    "#whatever methods in the parent class by default it will inherited into child class \n",
    "#if the parent class implementation is not satisfied then we can override the method in child class\n",
    "#is called method overriding"
   ]
  },
  {
   "cell_type": "code",
   "execution_count": 25,
   "id": "a0a4d767",
   "metadata": {},
   "outputs": [
    {
     "name": "stdout",
     "output_type": "stream",
     "text": [
      "gold+silver\n",
      "katrina\n"
     ]
    }
   ],
   "source": [
    "class p:\n",
    "    def property(self):\n",
    "        print(\"gold+silver\")\n",
    "    def marry(self):\n",
    "        print(\"apple\")\n",
    "class c(p):\n",
    "    def marry(self):\n",
    "        print(\"katrina\")\n",
    "c1=c()\n",
    "c1.property()\n",
    "c1.marry()"
   ]
  },
  {
   "cell_type": "code",
   "execution_count": 27,
   "id": "04f1d082",
   "metadata": {},
   "outputs": [
    {
     "name": "stdout",
     "output_type": "stream",
     "text": [
      "gold+silver\n",
      "girl\n"
     ]
    }
   ],
   "source": [
    "class p:\n",
    "    def property(self):\n",
    "        print(\"gold\")\n",
    "    def marry(self):\n",
    "        print(\"girl\")\n",
    "class c(p):\n",
    "    def property(self):\n",
    "        print(\"gold+silver\")\n",
    "    def marry(self):\n",
    "        print(\"girl\")\n",
    "c1=c()\n",
    "c1.property()\n",
    "c1.marry()"
   ]
  },
  {
   "cell_type": "code",
   "execution_count": null,
   "id": "796b6cfb",
   "metadata": {},
   "outputs": [],
   "source": []
  },
  {
   "cell_type": "code",
   "execution_count": 27,
   "id": "9119ef86",
   "metadata": {},
   "outputs": [
    {
     "name": "stdout",
     "output_type": "stream",
     "text": [
      "parent\n",
      "child\n"
     ]
    }
   ],
   "source": [
    "class person:\n",
    "    def __init__(self):\n",
    "        print(\"parent\")\n",
    "class c(person):\n",
    "    def __init__(self):\n",
    "        super().__init__()\n",
    "        print(\"child\")\n",
    "c1=c()\n"
   ]
  },
  {
   "cell_type": "code",
   "execution_count": 29,
   "id": "487b5f5d",
   "metadata": {},
   "outputs": [
    {
     "ename": "NameError",
     "evalue": "name 'abstractmethod' is not defined",
     "output_type": "error",
     "traceback": [
      "\u001b[1;31m---------------------------------------------------------------------------\u001b[0m",
      "\u001b[1;31mNameError\u001b[0m                                 Traceback (most recent call last)",
      "\u001b[1;32m~\\AppData\\Local\\Temp/ipykernel_15428/2989336576.py\u001b[0m in \u001b[0;36m<module>\u001b[1;34m\u001b[0m\n\u001b[0;32m      2\u001b[0m \u001b[1;31m#abstract methods\u001b[0m\u001b[1;33m\u001b[0m\u001b[1;33m\u001b[0m\u001b[0m\n\u001b[0;32m      3\u001b[0m \u001b[1;31m#@abstract method\u001b[0m\u001b[1;33m\u001b[0m\u001b[1;33m\u001b[0m\u001b[0m\n\u001b[1;32m----> 4\u001b[1;33m \u001b[1;32mclass\u001b[0m \u001b[0mtest\u001b[0m\u001b[1;33m:\u001b[0m\u001b[1;33m\u001b[0m\u001b[1;33m\u001b[0m\u001b[0m\n\u001b[0m\u001b[0;32m      5\u001b[0m     \u001b[1;33m@\u001b[0m\u001b[0mabstractmethod\u001b[0m\u001b[1;33m\u001b[0m\u001b[1;33m\u001b[0m\u001b[0m\n\u001b[0;32m      6\u001b[0m     \u001b[1;32mdef\u001b[0m \u001b[0mm1\u001b[0m\u001b[1;33m(\u001b[0m\u001b[0mself\u001b[0m\u001b[1;33m)\u001b[0m\u001b[1;33m:\u001b[0m\u001b[1;33m\u001b[0m\u001b[1;33m\u001b[0m\u001b[0m\n",
      "\u001b[1;32m~\\AppData\\Local\\Temp/ipykernel_15428/2989336576.py\u001b[0m in \u001b[0;36mtest\u001b[1;34m()\u001b[0m\n\u001b[0;32m      3\u001b[0m \u001b[1;31m#@abstract method\u001b[0m\u001b[1;33m\u001b[0m\u001b[1;33m\u001b[0m\u001b[0m\n\u001b[0;32m      4\u001b[0m \u001b[1;32mclass\u001b[0m \u001b[0mtest\u001b[0m\u001b[1;33m:\u001b[0m\u001b[1;33m\u001b[0m\u001b[1;33m\u001b[0m\u001b[0m\n\u001b[1;32m----> 5\u001b[1;33m     \u001b[1;33m@\u001b[0m\u001b[0mabstractmethod\u001b[0m\u001b[1;33m\u001b[0m\u001b[1;33m\u001b[0m\u001b[0m\n\u001b[0m\u001b[0;32m      6\u001b[0m     \u001b[1;32mdef\u001b[0m \u001b[0mm1\u001b[0m\u001b[1;33m(\u001b[0m\u001b[0mself\u001b[0m\u001b[1;33m)\u001b[0m\u001b[1;33m:\u001b[0m\u001b[1;33m\u001b[0m\u001b[1;33m\u001b[0m\u001b[0m\n\u001b[0;32m      7\u001b[0m         \u001b[1;32mpass\u001b[0m\u001b[1;33m\u001b[0m\u001b[1;33m\u001b[0m\u001b[0m\n",
      "\u001b[1;31mNameError\u001b[0m: name 'abstractmethod' is not defined"
     ]
    }
   ],
   "source": [
    "#abstract method: we dont know implementation but we define methods such type of methods are called\n",
    "#abstract methods\n",
    "#@abstract method\n",
    "class test:\n",
    "    @abstractmethod\n",
    "    def m1(self):\n",
    "        pass"
   ]
  },
  {
   "cell_type": "code",
   "execution_count": 30,
   "id": "37107b1c",
   "metadata": {},
   "outputs": [],
   "source": [
    "from abc import*\n",
    "class fruit:\n",
    "    @abstractmethod\n",
    "    def taste(self):\n",
    "        pass"
   ]
  },
  {
   "cell_type": "code",
   "execution_count": 31,
   "id": "1afe1094",
   "metadata": {},
   "outputs": [],
   "source": [
    "#child class are responsible to provide implementation for parent cls abstract methods"
   ]
  },
  {
   "cell_type": "code",
   "execution_count": 36,
   "id": "bb032898",
   "metadata": {},
   "outputs": [
    {
     "name": "stdout",
     "output_type": "stream",
     "text": [
      "hello\n"
     ]
    }
   ],
   "source": [
    "from abc import*\n",
    "class test:\n",
    "    def marks(self):\n",
    "        print(\"hello\")\n",
    "t=test()\n",
    "t.marks()"
   ]
  },
  {
   "cell_type": "code",
   "execution_count": 38,
   "id": "4aa3644e",
   "metadata": {},
   "outputs": [
    {
     "ename": "TypeError",
     "evalue": "Can't instantiate abstract class test with abstract method m1",
     "output_type": "error",
     "traceback": [
      "\u001b[1;31m---------------------------------------------------------------------------\u001b[0m",
      "\u001b[1;31mTypeError\u001b[0m                                 Traceback (most recent call last)",
      "\u001b[1;32m~\\AppData\\Local\\Temp/ipykernel_15428/3311636357.py\u001b[0m in \u001b[0;36m<module>\u001b[1;34m\u001b[0m\n\u001b[0;32m      4\u001b[0m     \u001b[1;32mdef\u001b[0m \u001b[0mm1\u001b[0m\u001b[1;33m(\u001b[0m\u001b[0mself\u001b[0m\u001b[1;33m)\u001b[0m\u001b[1;33m:\u001b[0m\u001b[1;33m\u001b[0m\u001b[1;33m\u001b[0m\u001b[0m\n\u001b[0;32m      5\u001b[0m         \u001b[0mprint\u001b[0m\u001b[1;33m(\u001b[0m\u001b[1;34m\"hello\"\u001b[0m\u001b[1;33m)\u001b[0m\u001b[1;33m\u001b[0m\u001b[1;33m\u001b[0m\u001b[0m\n\u001b[1;32m----> 6\u001b[1;33m \u001b[0mt\u001b[0m\u001b[1;33m=\u001b[0m\u001b[0mtest\u001b[0m\u001b[1;33m(\u001b[0m\u001b[1;33m)\u001b[0m\u001b[1;33m\u001b[0m\u001b[1;33m\u001b[0m\u001b[0m\n\u001b[0m\u001b[0;32m      7\u001b[0m \u001b[0mt\u001b[0m\u001b[1;33m.\u001b[0m\u001b[0mm1\u001b[0m\u001b[1;33m(\u001b[0m\u001b[1;33m)\u001b[0m\u001b[1;33m\u001b[0m\u001b[1;33m\u001b[0m\u001b[0m\n",
      "\u001b[1;31mTypeError\u001b[0m: Can't instantiate abstract class test with abstract method m1"
     ]
    }
   ],
   "source": [
    "from abc import*\n",
    "class test(ABC):\n",
    "    @abstractmethod\n",
    "    def m1(self):\n",
    "        print(\"hello\")\n",
    "t=test()\n",
    "t.m1()"
   ]
  },
  {
   "cell_type": "code",
   "execution_count": 39,
   "id": "0e4df53b",
   "metadata": {},
   "outputs": [
    {
     "ename": "TypeError",
     "evalue": "Can't instantiate abstract class vehicle with abstract method no_of_wheels",
     "output_type": "error",
     "traceback": [
      "\u001b[1;31m---------------------------------------------------------------------------\u001b[0m",
      "\u001b[1;31mTypeError\u001b[0m                                 Traceback (most recent call last)",
      "\u001b[1;32m~\\AppData\\Local\\Temp/ipykernel_15428/2347519668.py\u001b[0m in \u001b[0;36m<module>\u001b[1;34m\u001b[0m\n\u001b[0;32m      4\u001b[0m     \u001b[1;32mdef\u001b[0m \u001b[0mno_of_wheels\u001b[0m\u001b[1;33m(\u001b[0m\u001b[0mself\u001b[0m\u001b[1;33m)\u001b[0m\u001b[1;33m:\u001b[0m\u001b[1;33m\u001b[0m\u001b[1;33m\u001b[0m\u001b[0m\n\u001b[0;32m      5\u001b[0m         \u001b[0mprint\u001b[0m\u001b[1;33m(\u001b[0m\u001b[1;34m\"4\"\u001b[0m\u001b[1;33m)\u001b[0m\u001b[1;33m\u001b[0m\u001b[1;33m\u001b[0m\u001b[0m\n\u001b[1;32m----> 6\u001b[1;33m \u001b[0mv\u001b[0m\u001b[1;33m=\u001b[0m\u001b[0mvehicle\u001b[0m\u001b[1;33m(\u001b[0m\u001b[1;33m)\u001b[0m\u001b[1;33m\u001b[0m\u001b[1;33m\u001b[0m\u001b[0m\n\u001b[0m\u001b[0;32m      7\u001b[0m \u001b[0mv\u001b[0m\u001b[1;33m.\u001b[0m\u001b[0mno_of_wheels\u001b[0m\u001b[1;33m(\u001b[0m\u001b[1;33m)\u001b[0m\u001b[1;33m\u001b[0m\u001b[1;33m\u001b[0m\u001b[0m\n",
      "\u001b[1;31mTypeError\u001b[0m: Can't instantiate abstract class vehicle with abstract method no_of_wheels"
     ]
    }
   ],
   "source": [
    "from abc import*\n",
    "class vehicle(ABC):\n",
    "    @abstractmethod\n",
    "    def no_of_wheels(self):\n",
    "        print(\"4\")\n",
    "v=vehicle()\n",
    "v.no_of_wheels()"
   ]
  },
  {
   "cell_type": "code",
   "execution_count": 40,
   "id": "f9aac216",
   "metadata": {},
   "outputs": [],
   "source": [
    "#if we dont know anything implementation just we have requirement specification then we should go for interface\n",
    "#if we are talking about implementation but not completely then we should go for abstract class\n",
    "#if we are talking about implementation completely and ready to provide service then we should go for concrete class\n"
   ]
  },
  {
   "cell_type": "code",
   "execution_count": 43,
   "id": "7dbfe1c0",
   "metadata": {},
   "outputs": [
    {
     "name": "stdout",
     "output_type": "stream",
     "text": [
      "m1 implementation\n",
      "m2 implemrn\n",
      "m3\n"
     ]
    }
   ],
   "source": [
    "from abc import*\n",
    "class collegeautomation(ABC):\n",
    "    @abstractmethod\n",
    "    def m1(self):\n",
    "        pass\n",
    "    @abstractmethod\n",
    "    def m2(self):\n",
    "        pass\n",
    "    @abstractmethod\n",
    "    def m3(self):\n",
    "        pass\n",
    "class absc(collegeautomation):\n",
    "    def m1(self):\n",
    "        print(\"m1 implementation\")\n",
    "    def m2(self):\n",
    "        print(\"m2 implemrn\")\n",
    "    \n",
    "class ConcreteClass(absc):\n",
    "    def m3(self):\n",
    "        print(\"m3\")\n",
    "    \n",
    "c=ConcreteClass()\n",
    "c.m1()\n",
    "c.m2()\n",
    "c.m3()\n"
   ]
  },
  {
   "cell_type": "code",
   "execution_count": 44,
   "id": "8fa0e261",
   "metadata": {},
   "outputs": [],
   "source": [
    "#public means the attribute can access anywhere\n",
    "#protected means the attribute can access within the class and outside of the class only in child class\n",
    "#_variablename\n",
    "#private means the attribute can access within the class __variable name"
   ]
  },
  {
   "cell_type": "code",
   "execution_count": 47,
   "id": "c15ef1da",
   "metadata": {},
   "outputs": [
    {
     "name": "stdout",
     "output_type": "stream",
     "text": [
      "10\n",
      "20\n",
      "30\n",
      "10\n",
      "20\n"
     ]
    },
    {
     "ename": "AttributeError",
     "evalue": "type object 'Test' has no attribute '__z'",
     "output_type": "error",
     "traceback": [
      "\u001b[1;31m---------------------------------------------------------------------------\u001b[0m",
      "\u001b[1;31mAttributeError\u001b[0m                            Traceback (most recent call last)",
      "\u001b[1;32m~\\AppData\\Local\\Temp/ipykernel_15428/4093595475.py\u001b[0m in \u001b[0;36m<module>\u001b[1;34m\u001b[0m\n\u001b[0;32m     11\u001b[0m \u001b[0mprint\u001b[0m\u001b[1;33m(\u001b[0m\u001b[0mTest\u001b[0m\u001b[1;33m.\u001b[0m\u001b[0mx\u001b[0m\u001b[1;33m)\u001b[0m\u001b[1;33m\u001b[0m\u001b[1;33m\u001b[0m\u001b[0m\n\u001b[0;32m     12\u001b[0m \u001b[0mprint\u001b[0m\u001b[1;33m(\u001b[0m\u001b[0mTest\u001b[0m\u001b[1;33m.\u001b[0m\u001b[0m_y\u001b[0m\u001b[1;33m)\u001b[0m\u001b[1;33m\u001b[0m\u001b[1;33m\u001b[0m\u001b[0m\n\u001b[1;32m---> 13\u001b[1;33m \u001b[0mprint\u001b[0m\u001b[1;33m(\u001b[0m\u001b[0mTest\u001b[0m\u001b[1;33m.\u001b[0m\u001b[0m__z\u001b[0m\u001b[1;33m)\u001b[0m\u001b[1;33m\u001b[0m\u001b[1;33m\u001b[0m\u001b[0m\n\u001b[0m",
      "\u001b[1;31mAttributeError\u001b[0m: type object 'Test' has no attribute '__z'"
     ]
    }
   ],
   "source": [
    "class Test:\n",
    "    x=10\n",
    "    _y=20\n",
    "    __z=30\n",
    "    def m1(self):\n",
    "        print(Test.x)\n",
    "        print(Test._y)\n",
    "        print(Test.__z)\n",
    "t=Test()\n",
    "t.m1()\n",
    "print(Test.x)\n",
    "print(Test._y)\n",
    "print(Test.__z)"
   ]
  },
  {
   "cell_type": "code",
   "execution_count": 50,
   "id": "86591456",
   "metadata": {},
   "outputs": [
    {
     "data": {
      "text/plain": [
       "30"
      ]
     },
     "execution_count": 50,
     "metadata": {},
     "output_type": "execute_result"
    }
   ],
   "source": [
    "#we can access the private class from outside\n",
    "class test:\n",
    "    def __init__(self):\n",
    "        self.__z=30\n",
    "t=test()\n",
    "(t._test__z)"
   ]
  },
  {
   "cell_type": "code",
   "execution_count": 2,
   "id": "43b8e7fa",
   "metadata": {},
   "outputs": [
    {
     "name": "stdout",
     "output_type": "stream",
     "text": [
      "35\n",
      "40\n"
     ]
    }
   ],
   "source": [
    "from abc import ABC\n",
    "class car(ABC):\n",
    "    def milage(self):\n",
    "        pass\n",
    "class suzuki(car):\n",
    "    def milage(self):\n",
    "        print(\"35\")\n",
    "class duster(car):\n",
    "    def milage(self):\n",
    "        print(\"40\")\n",
    "s=suzuki()\n",
    "s.milage()\n",
    "d=duster()\n",
    "d.milage()"
   ]
  },
  {
   "cell_type": "code",
   "execution_count": 6,
   "id": "50899f86",
   "metadata": {},
   "outputs": [
    {
     "name": "stdout",
     "output_type": "stream",
     "text": [
      "method\n",
      "m2\n",
      "m3\n"
     ]
    }
   ],
   "source": [
    "from abc import *\n",
    "class car(ABC):\n",
    "    @abstractmethod\n",
    "    def milage(self):\n",
    "        pass\n",
    "    @abstractmethod\n",
    "    def m2(self):\n",
    "        pass\n",
    "    @abstractmethod\n",
    "    def m3(self):\n",
    "        pass\n",
    "class tesla(car):\n",
    "    def milage(self):\n",
    "        print(\"method\")\n",
    "    def m2(self):\n",
    "        print(\"m2\")\n",
    "    def m3(self):\n",
    "        print(\"m3\")\n",
    "t=tesla()\n",
    "t.milage()\n",
    "t.m2()\n",
    "t.m3()"
   ]
  },
  {
   "cell_type": "code",
   "execution_count": null,
   "id": "809605c3",
   "metadata": {},
   "outputs": [],
   "source": [
    "l=[1,2,3,4,5]\n"
   ]
  }
 ],
 "metadata": {
  "kernelspec": {
   "display_name": "Python 3 (ipykernel)",
   "language": "python",
   "name": "python3"
  },
  "language_info": {
   "codemirror_mode": {
    "name": "ipython",
    "version": 3
   },
   "file_extension": ".py",
   "mimetype": "text/x-python",
   "name": "python",
   "nbconvert_exporter": "python",
   "pygments_lexer": "ipython3",
   "version": "3.9.7"
  }
 },
 "nbformat": 4,
 "nbformat_minor": 5
}
