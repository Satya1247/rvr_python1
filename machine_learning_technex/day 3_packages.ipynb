{
 "cells": [
  {
   "cell_type": "code",
   "execution_count": 1,
   "id": "3fd9c826",
   "metadata": {},
   "outputs": [],
   "source": [
    "#function"
   ]
  },
  {
   "cell_type": "code",
   "execution_count": 2,
   "id": "de16e7ed",
   "metadata": {},
   "outputs": [],
   "source": [
    "#definition and calling the function"
   ]
  },
  {
   "cell_type": "code",
   "execution_count": 3,
   "id": "d4e1b25a",
   "metadata": {},
   "outputs": [
    {
     "name": "stdout",
     "output_type": "stream",
     "text": [
      "start\n",
      "satya\n",
      "stop\n"
     ]
    }
   ],
   "source": [
    "def name():\n",
    "    print(\"start\")\n",
    "    print(\"satya\")\n",
    "    print(\"stop\")\n",
    "name()"
   ]
  },
  {
   "cell_type": "code",
   "execution_count": 4,
   "id": "93b60e7b",
   "metadata": {},
   "outputs": [
    {
     "data": {
      "text/plain": [
       "8"
      ]
     },
     "execution_count": 4,
     "metadata": {},
     "output_type": "execute_result"
    }
   ],
   "source": [
    "def add(a,b):\n",
    "    return a+b\n",
    "add(5,3) ##a,b are formal arguments\n",
    "#5,3 are actual arguments"
   ]
  },
  {
   "cell_type": "code",
   "execution_count": 5,
   "id": "ca588495",
   "metadata": {},
   "outputs": [],
   "source": [
    "def student(name,age):\n",
    "    print(name)\n",
    "    print(age)"
   ]
  },
  {
   "cell_type": "code",
   "execution_count": 6,
   "id": "9f065ca3",
   "metadata": {},
   "outputs": [
    {
     "name": "stdout",
     "output_type": "stream",
     "text": [
      "12\n",
      "abc\n"
     ]
    }
   ],
   "source": [
    "student(12,\"abc\")"
   ]
  },
  {
   "cell_type": "code",
   "execution_count": 15,
   "id": "39d69336",
   "metadata": {},
   "outputs": [
    {
     "ename": "TypeError",
     "evalue": "can only concatenate str (not \"int\") to str",
     "output_type": "error",
     "traceback": [
      "\u001b[1;31m---------------------------------------------------------------------------\u001b[0m",
      "\u001b[1;31mTypeError\u001b[0m                                 Traceback (most recent call last)",
      "\u001b[1;32m~\\AppData\\Local\\Temp/ipykernel_2676/1603238167.py\u001b[0m in \u001b[0;36m<module>\u001b[1;34m\u001b[0m\n\u001b[0;32m      2\u001b[0m     \u001b[0mprint\u001b[0m\u001b[1;33m(\u001b[0m\u001b[1;34m\"name is\"\u001b[0m\u001b[1;33m+\u001b[0m\u001b[0mname\u001b[0m\u001b[1;33m)\u001b[0m\u001b[1;33m\u001b[0m\u001b[1;33m\u001b[0m\u001b[0m\n\u001b[0;32m      3\u001b[0m     \u001b[0mprint\u001b[0m\u001b[1;33m(\u001b[0m\u001b[1;34m\"age is:\"\u001b[0m\u001b[1;33m,\u001b[0m\u001b[0mage\u001b[0m\u001b[1;33m*\u001b[0m\u001b[1;36m2\u001b[0m\u001b[1;33m)\u001b[0m\u001b[1;33m\u001b[0m\u001b[1;33m\u001b[0m\u001b[0m\n\u001b[1;32m----> 4\u001b[1;33m \u001b[0mstudent\u001b[0m\u001b[1;33m(\u001b[0m\u001b[1;36m12\u001b[0m\u001b[1;33m,\u001b[0m\u001b[1;34m\"abc\"\u001b[0m\u001b[1;33m)\u001b[0m\u001b[1;33m\u001b[0m\u001b[1;33m\u001b[0m\u001b[0m\n\u001b[0m",
      "\u001b[1;32m~\\AppData\\Local\\Temp/ipykernel_2676/1603238167.py\u001b[0m in \u001b[0;36mstudent\u001b[1;34m(name, age)\u001b[0m\n\u001b[0;32m      1\u001b[0m \u001b[1;32mdef\u001b[0m \u001b[0mstudent\u001b[0m\u001b[1;33m(\u001b[0m\u001b[0mname\u001b[0m\u001b[1;33m,\u001b[0m\u001b[0mage\u001b[0m\u001b[1;33m)\u001b[0m\u001b[1;33m:\u001b[0m\u001b[1;33m\u001b[0m\u001b[1;33m\u001b[0m\u001b[0m\n\u001b[1;32m----> 2\u001b[1;33m     \u001b[0mprint\u001b[0m\u001b[1;33m(\u001b[0m\u001b[1;34m\"name is\"\u001b[0m\u001b[1;33m+\u001b[0m\u001b[0mname\u001b[0m\u001b[1;33m)\u001b[0m\u001b[1;33m\u001b[0m\u001b[1;33m\u001b[0m\u001b[0m\n\u001b[0m\u001b[0;32m      3\u001b[0m     \u001b[0mprint\u001b[0m\u001b[1;33m(\u001b[0m\u001b[1;34m\"age is:\"\u001b[0m\u001b[1;33m,\u001b[0m\u001b[0mage\u001b[0m\u001b[1;33m*\u001b[0m\u001b[1;36m2\u001b[0m\u001b[1;33m)\u001b[0m\u001b[1;33m\u001b[0m\u001b[1;33m\u001b[0m\u001b[0m\n\u001b[0;32m      4\u001b[0m \u001b[0mstudent\u001b[0m\u001b[1;33m(\u001b[0m\u001b[1;36m12\u001b[0m\u001b[1;33m,\u001b[0m\u001b[1;34m\"abc\"\u001b[0m\u001b[1;33m)\u001b[0m\u001b[1;33m\u001b[0m\u001b[1;33m\u001b[0m\u001b[0m\n",
      "\u001b[1;31mTypeError\u001b[0m: can only concatenate str (not \"int\") to str"
     ]
    }
   ],
   "source": [
    "def student(name,age):\n",
    "    print(\"name is\"+name)\n",
    "    print(\"age is:\",age*2)\n",
    "student(12,\"abc\")"
   ]
  },
  {
   "cell_type": "code",
   "execution_count": 16,
   "id": "4a4b19eb",
   "metadata": {},
   "outputs": [
    {
     "name": "stdout",
     "output_type": "stream",
     "text": [
      "name isabc\n",
      "age is: 24\n"
     ]
    }
   ],
   "source": [
    "student(\"abc\",12)"
   ]
  },
  {
   "cell_type": "code",
   "execution_count": 17,
   "id": "13c66d2b",
   "metadata": {},
   "outputs": [
    {
     "ename": "TypeError",
     "evalue": "student() missing 1 required positional argument: 'age'",
     "output_type": "error",
     "traceback": [
      "\u001b[1;31m---------------------------------------------------------------------------\u001b[0m",
      "\u001b[1;31mTypeError\u001b[0m                                 Traceback (most recent call last)",
      "\u001b[1;32m~\\AppData\\Local\\Temp/ipykernel_2676/1789371376.py\u001b[0m in \u001b[0;36m<module>\u001b[1;34m\u001b[0m\n\u001b[0;32m      2\u001b[0m     \u001b[0mprint\u001b[0m\u001b[1;33m(\u001b[0m\u001b[1;34m\"name is\"\u001b[0m\u001b[1;33m+\u001b[0m\u001b[0mname\u001b[0m\u001b[1;33m)\u001b[0m\u001b[1;33m\u001b[0m\u001b[1;33m\u001b[0m\u001b[0m\n\u001b[0;32m      3\u001b[0m     \u001b[0mprint\u001b[0m\u001b[1;33m(\u001b[0m\u001b[1;34m\"age is:\"\u001b[0m\u001b[1;33m,\u001b[0m\u001b[0mage\u001b[0m\u001b[1;33m*\u001b[0m\u001b[1;36m2\u001b[0m\u001b[1;33m)\u001b[0m\u001b[1;33m\u001b[0m\u001b[1;33m\u001b[0m\u001b[0m\n\u001b[1;32m----> 4\u001b[1;33m \u001b[0mstudent\u001b[0m\u001b[1;33m(\u001b[0m\u001b[1;34m\"abc\"\u001b[0m\u001b[1;33m)\u001b[0m\u001b[1;33m\u001b[0m\u001b[1;33m\u001b[0m\u001b[0m\n\u001b[0m",
      "\u001b[1;31mTypeError\u001b[0m: student() missing 1 required positional argument: 'age'"
     ]
    }
   ],
   "source": [
    "def student(name,age):\n",
    "    print(\"name is\"+name)\n",
    "    print(\"age is:\",age*2)\n",
    "student(\"abc\") #formal arguments not equal actua;"
   ]
  },
  {
   "cell_type": "code",
   "execution_count": 18,
   "id": "80b8f32b",
   "metadata": {},
   "outputs": [
    {
     "name": "stdout",
     "output_type": "stream",
     "text": [
      "name isabc\n",
      "age is: 24\n"
     ]
    }
   ],
   "source": [
    "def student(name,age=12):\n",
    "    print(\"name is\"+name)\n",
    "    print(\"age is:\",age*2)\n",
    "student(\"abc\")"
   ]
  },
  {
   "cell_type": "code",
   "execution_count": 20,
   "id": "87d83fc3",
   "metadata": {},
   "outputs": [
    {
     "name": "stdout",
     "output_type": "stream",
     "text": [
      "name isabc\n",
      "age is: 2222\n"
     ]
    }
   ],
   "source": [
    "def student(name=\"enter\",age=1111):\n",
    "    print(\"name is\"+name)\n",
    "    print(\"age is:\",age*2)\n",
    "student(\"abc\")"
   ]
  },
  {
   "cell_type": "code",
   "execution_count": 21,
   "id": "607d53a1",
   "metadata": {},
   "outputs": [
    {
     "name": "stdout",
     "output_type": "stream",
     "text": [
      "name isenter\n",
      "age is: 2222\n"
     ]
    }
   ],
   "source": [
    "student()"
   ]
  },
  {
   "cell_type": "code",
   "execution_count": 24,
   "id": "4b4e88df",
   "metadata": {},
   "outputs": [],
   "source": [
    "def arthimetic(a,b):\n",
    "    return a+b,a-b,a*b,a/b"
   ]
  },
  {
   "cell_type": "code",
   "execution_count": 25,
   "id": "eb13f1d4",
   "metadata": {},
   "outputs": [
    {
     "data": {
      "text/plain": [
       "(5, -1, 6, 0.6666666666666666)"
      ]
     },
     "execution_count": 25,
     "metadata": {},
     "output_type": "execute_result"
    }
   ],
   "source": [
    "arthimetic(2,3)"
   ]
  },
  {
   "cell_type": "code",
   "execution_count": 30,
   "id": "d388595c",
   "metadata": {},
   "outputs": [
    {
     "data": {
      "text/plain": [
       "14"
      ]
     },
     "execution_count": 30,
     "metadata": {},
     "output_type": "execute_result"
    }
   ],
   "source": [
    "def add(*a): \n",
    "    s=0\n",
    "    for i in a:\n",
    "        s+=i\n",
    "    return s\n",
    "add(2,3,4,5)"
   ]
  },
  {
   "cell_type": "code",
   "execution_count": 31,
   "id": "1892cbf1",
   "metadata": {},
   "outputs": [],
   "source": [
    "##this argument is also known as arbitrary arguments"
   ]
  },
  {
   "cell_type": "code",
   "execution_count": 32,
   "id": "82636030",
   "metadata": {},
   "outputs": [
    {
     "name": "stdout",
     "output_type": "stream",
     "text": [
      "2\n",
      "3\n",
      "(4, 5, 6)\n"
     ]
    }
   ],
   "source": [
    "def add(a,b,*c):\n",
    "    print(a)\n",
    "    print(b)\n",
    "    print(c)\n",
    "add(2,3,4,5,6)"
   ]
  },
  {
   "cell_type": "code",
   "execution_count": 34,
   "id": "7a1fdb42",
   "metadata": {},
   "outputs": [
    {
     "data": {
      "text/plain": [
       "14"
      ]
     },
     "execution_count": 34,
     "metadata": {},
     "output_type": "execute_result"
    }
   ],
   "source": [
    "def add(a,*b):\n",
    "    sum=0\n",
    "    for i in b:\n",
    "        sum+=i\n",
    "    return sum+a\n",
    "add(2,3,4,5)"
   ]
  },
  {
   "cell_type": "code",
   "execution_count": 35,
   "id": "b4d1e322",
   "metadata": {},
   "outputs": [
    {
     "data": {
      "text/plain": [
       "14"
      ]
     },
     "execution_count": 35,
     "metadata": {},
     "output_type": "execute_result"
    }
   ],
   "source": [
    "def add(**a):\n",
    "    s=0\n",
    "    for i in a.values():\n",
    "        s+=i\n",
    "    return s\n",
    "add(a=2,b=3,c=4,d=5)\n",
    "        "
   ]
  },
  {
   "cell_type": "code",
   "execution_count": 2,
   "id": "4b25f596",
   "metadata": {},
   "outputs": [
    {
     "name": "stdout",
     "output_type": "stream",
     "text": [
      "welcomeabc\n",
      "welcomeabc\n",
      "welcomepython\n"
     ]
    }
   ],
   "source": [
    "def welcome(*n):\n",
    "    for i in n:\n",
    "        print(\"welcome\" +i)\n",
    "welcome(\"abc\",\"abc\",\"python\")\n"
   ]
  },
  {
   "cell_type": "markdown",
   "id": "8f690488",
   "metadata": {},
   "source": []
  },
  {
   "cell_type": "code",
   "execution_count": 3,
   "id": "a5be036a",
   "metadata": {},
   "outputs": [],
   "source": [
    "#anonymous functions:function without name"
   ]
  },
  {
   "cell_type": "code",
   "execution_count": 8,
   "id": "f3d1acfc",
   "metadata": {},
   "outputs": [
    {
     "name": "stdout",
     "output_type": "stream",
     "text": [
      "25\n"
     ]
    }
   ],
   "source": [
    "s=lambda a:a*a\n",
    "print(s(5))"
   ]
  },
  {
   "cell_type": "code",
   "execution_count": 6,
   "id": "f5059787",
   "metadata": {},
   "outputs": [],
   "source": [
    "#namespace package can access same time at same place but\n",
    "#regular package we cant access same place at same time"
   ]
  },
  {
   "cell_type": "code",
   "execution_count": null,
   "id": "09ed59a5",
   "metadata": {},
   "outputs": [],
   "source": []
  }
 ],
 "metadata": {
  "kernelspec": {
   "display_name": "Python 3 (ipykernel)",
   "language": "python",
   "name": "python3"
  },
  "language_info": {
   "codemirror_mode": {
    "name": "ipython",
    "version": 3
   },
   "file_extension": ".py",
   "mimetype": "text/x-python",
   "name": "python",
   "nbconvert_exporter": "python",
   "pygments_lexer": "ipython3",
   "version": "3.9.7"
  }
 },
 "nbformat": 4,
 "nbformat_minor": 5
}
