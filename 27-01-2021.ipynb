{
 "cells": [
  {
   "cell_type": "markdown",
   "id": "christian-verification",
   "metadata": {},
   "source": [
    "# based on arguments:\n",
    "#1.default arguments\n",
    "#2.required or positional\n",
    "#3.variable length arg\n",
    "#4.keyword arguments"
   ]
  },
  {
   "cell_type": "code",
   "execution_count": 4,
   "id": "technical-cable",
   "metadata": {},
   "outputs": [
    {
     "data": {
      "text/plain": [
       "1200"
      ]
     },
     "execution_count": 4,
     "metadata": {},
     "output_type": "execute_result"
    }
   ],
   "source": [
    "## default arguments\n",
    "##default arguments which are passed at the time of function declaration\n",
    "def default(a=10,b=20):\n",
    "    return a*b\n",
    "default(30,40)"
   ]
  },
  {
   "cell_type": "code",
   "execution_count": 5,
   "id": "respected-celebrity",
   "metadata": {},
   "outputs": [
    {
     "data": {
      "text/plain": [
       "range(0, 10)"
      ]
     },
     "execution_count": 5,
     "metadata": {},
     "output_type": "execute_result"
    }
   ],
   "source": [
    "range(10)"
   ]
  },
  {
   "cell_type": "code",
   "execution_count": 6,
   "id": "taken-girlfriend",
   "metadata": {},
   "outputs": [
    {
     "ename": "TypeError",
     "evalue": "range expected 1 argument, got 0",
     "output_type": "error",
     "traceback": [
      "\u001b[1;31m---------------------------------------------------------------------------\u001b[0m",
      "\u001b[1;31mTypeError\u001b[0m                                 Traceback (most recent call last)",
      "\u001b[1;32m<ipython-input-6-5bcbe005bf48>\u001b[0m in \u001b[0;36m<module>\u001b[1;34m\u001b[0m\n\u001b[1;32m----> 1\u001b[1;33m \u001b[0mrange\u001b[0m\u001b[1;33m(\u001b[0m\u001b[1;33m)\u001b[0m\u001b[1;33m\u001b[0m\u001b[1;33m\u001b[0m\u001b[0m\n\u001b[0m",
      "\u001b[1;31mTypeError\u001b[0m: range expected 1 argument, got 0"
     ]
    }
   ],
   "source": [
    "range()"
   ]
  },
  {
   "cell_type": "code",
   "execution_count": 13,
   "id": "preceding-affairs",
   "metadata": {},
   "outputs": [
    {
     "data": {
      "text/plain": [
       "381"
      ]
     },
     "execution_count": 13,
     "metadata": {},
     "output_type": "execute_result"
    }
   ],
   "source": [
    "## 2.required or positional arg\n",
    "def Required(a,b=20,c=30):\n",
    "    return a**2+2*b*c\n",
    "Required(9,5) #here a is a required argument we have to assign a value when calling the function b,c have default arguments it is optional when we give the some value it is updated"
   ]
  },
  {
   "cell_type": "code",
   "execution_count": 14,
   "id": "rough-blood",
   "metadata": {},
   "outputs": [
    {
     "data": {
      "text/plain": [
       "385"
      ]
     },
     "execution_count": 14,
     "metadata": {},
     "output_type": "execute_result"
    }
   ],
   "source": [
    "def Required(c,a=20,b=20):##required arguments are place first\n",
    "    return a**2+2*b*c\n",
    "Required(9,5)"
   ]
  },
  {
   "cell_type": "code",
   "execution_count": 17,
   "id": "running-above",
   "metadata": {},
   "outputs": [
    {
     "name": "stdout",
     "output_type": "stream",
     "text": [
      "(10, 10)\n"
     ]
    },
    {
     "data": {
      "text/plain": [
       "40"
      ]
     },
     "execution_count": 17,
     "metadata": {},
     "output_type": "execute_result"
    }
   ],
   "source": [
    "## 3.variable length arg\n",
    "def var_len(a,b=20,*c):\n",
    "    print(c)\n",
    "    return a+b+sum(c)\n",
    "var_len(10,10,10,10)      ## * is a var_len argument we can give any number of arguments no limit while calling the function \n"
   ]
  },
  {
   "cell_type": "code",
   "execution_count": 19,
   "id": "specific-princess",
   "metadata": {},
   "outputs": [
    {
     "data": {
      "text/plain": [
       "(1, 2, 3, 4)"
      ]
     },
     "execution_count": 19,
     "metadata": {},
     "output_type": "execute_result"
    }
   ],
   "source": [
    "a=1,2,3,4 ## it is like tuple a is stored\n",
    "a"
   ]
  },
  {
   "cell_type": "code",
   "execution_count": 22,
   "id": "theoretical-bangkok",
   "metadata": {},
   "outputs": [
    {
     "name": "stdout",
     "output_type": "stream",
     "text": [
      "10 20 (10, 10, 10)\n"
     ]
    },
    {
     "data": {
      "text/plain": [
       "60"
      ]
     },
     "execution_count": 22,
     "metadata": {},
     "output_type": "execute_result"
    }
   ],
   "source": [
    "def var_len(a,*c,b=20):\n",
    "    print(a,b,c)\n",
    "    return a+b+sum(c)\n",
    "var_len(10,10,10,10)  "
   ]
  },
  {
   "cell_type": "code",
   "execution_count": 24,
   "id": "optimum-castle",
   "metadata": {},
   "outputs": [
    {
     "ename": "TypeError",
     "evalue": "var_len() missing 1 required keyword-only argument: 'a'",
     "output_type": "error",
     "traceback": [
      "\u001b[1;31m---------------------------------------------------------------------------\u001b[0m",
      "\u001b[1;31mTypeError\u001b[0m                                 Traceback (most recent call last)",
      "\u001b[1;32m<ipython-input-24-b26353964487>\u001b[0m in \u001b[0;36m<module>\u001b[1;34m\u001b[0m\n\u001b[0;32m      2\u001b[0m     \u001b[0mprint\u001b[0m\u001b[1;33m(\u001b[0m\u001b[0ma\u001b[0m\u001b[1;33m,\u001b[0m\u001b[0mb\u001b[0m\u001b[1;33m,\u001b[0m\u001b[0mc\u001b[0m\u001b[1;33m)\u001b[0m\u001b[1;33m\u001b[0m\u001b[1;33m\u001b[0m\u001b[0m\n\u001b[0;32m      3\u001b[0m     \u001b[1;32mreturn\u001b[0m \u001b[0ma\u001b[0m\u001b[1;33m+\u001b[0m\u001b[0mb\u001b[0m\u001b[1;33m+\u001b[0m\u001b[0msum\u001b[0m\u001b[1;33m(\u001b[0m\u001b[0mc\u001b[0m\u001b[1;33m)\u001b[0m\u001b[1;33m\u001b[0m\u001b[1;33m\u001b[0m\u001b[0m\n\u001b[1;32m----> 4\u001b[1;33m \u001b[0mvar_len\u001b[0m\u001b[1;33m(\u001b[0m\u001b[1;36m10\u001b[0m\u001b[1;33m,\u001b[0m\u001b[1;36m10\u001b[0m\u001b[1;33m,\u001b[0m\u001b[1;36m10\u001b[0m\u001b[1;33m,\u001b[0m\u001b[1;36m10\u001b[0m\u001b[1;33m)\u001b[0m  \u001b[1;31m## because it is not assigned required argument...order is first required argument,default,var_length\u001b[0m\u001b[1;33m\u001b[0m\u001b[1;33m\u001b[0m\u001b[0m\n\u001b[0m",
      "\u001b[1;31mTypeError\u001b[0m: var_len() missing 1 required keyword-only argument: 'a'"
     ]
    }
   ],
   "source": [
    "def var_len(*c,a,b=20):\n",
    "    print(a,b,c)\n",
    "    return a+b+sum(c)\n",
    "var_len(10,10,10,10)  ## because it is not assigned required argument...order is first required argument,default,var_length"
   ]
  },
  {
   "cell_type": "code",
   "execution_count": 42,
   "id": "alone-science",
   "metadata": {},
   "outputs": [
    {
     "data": {
      "text/plain": [
       "110"
      ]
     },
     "execution_count": 42,
     "metadata": {},
     "output_type": "execute_result"
    }
   ],
   "source": [
    "def var_len(a=20,b=20,*c):\n",
    "    return a+b+sum(c)\n",
    "m=var_len(20,20,10)\n",
    "def var_len1(d=20,e=40):\n",
    "    m=var_len(20,20,10)\n",
    "    return m+d+e\n",
    "var_len1()"
   ]
  },
  {
   "cell_type": "code",
   "execution_count": 45,
   "id": "rocky-plenty",
   "metadata": {},
   "outputs": [
    {
     "name": "stdout",
     "output_type": "stream",
     "text": [
      "90 233 (67, 89)\n"
     ]
    }
   ],
   "source": [
    "#4. keyword arg\n",
    "def var_len(a,*c,b=20):\n",
    "    return a,b,c\n",
    "a,b,c= var_len(90,67,89,b=233)\n",
    "print(a,b,c)"
   ]
  },
  {
   "cell_type": "code",
   "execution_count": 48,
   "id": "verbal-society",
   "metadata": {},
   "outputs": [
    {
     "data": {
      "text/plain": [
       "{'name': ['abc', 'def', 'cgh']}"
      ]
     },
     "execution_count": 48,
     "metadata": {},
     "output_type": "execute_result"
    }
   ],
   "source": [
    "def key_word(**name): ### dictionaries key vale\n",
    "    return name\n",
    "key_word(name=['abc','def','cgh'])"
   ]
  },
  {
   "cell_type": "code",
   "execution_count": 57,
   "id": "accredited-revelation",
   "metadata": {},
   "outputs": [
    {
     "data": {
      "text/plain": [
       "True"
      ]
     },
     "execution_count": 57,
     "metadata": {},
     "output_type": "execute_result"
    }
   ],
   "source": [
    "### perfect numbers\n",
    "def is_perfect(n):\n",
    "    s=0\n",
    "    for i in range(1,n):\n",
    "        if n%i==0:\n",
    "            s+=i\n",
    "    if s==n:\n",
    "            return True\n",
    "    else:\n",
    "            return False\n",
    "is_perfect(6)"
   ]
  },
  {
   "cell_type": "code",
   "execution_count": 59,
   "id": "under-marsh",
   "metadata": {},
   "outputs": [
    {
     "name": "stdout",
     "output_type": "stream",
     "text": [
      "6\n",
      "28\n",
      "496\n"
     ]
    }
   ],
   "source": [
    "def perfect_gen(start,end):\n",
    "    for i in range(start,end):\n",
    "        if is_perfect(i):\n",
    "            print(i)\n",
    "perfect_gen(start=1,end=1000)"
   ]
  },
  {
   "cell_type": "code",
   "execution_count": 4,
   "id": "competent-gamma",
   "metadata": {},
   "outputs": [
    {
     "data": {
      "text/plain": [
       "True"
      ]
     },
     "execution_count": 4,
     "metadata": {},
     "output_type": "execute_result"
    }
   ],
   "source": [
    "def is_prime(n):\n",
    "    for i in range(1,n):\n",
    "        c=0\n",
    "        if n%i==0:\n",
    "            c+=1\n",
    "    if c==0:\n",
    "        return True\n",
    "    else:\n",
    "        return False\n",
    "is_prime(5)\n",
    "        \n",
    "            \n",
    "        "
   ]
  },
  {
   "cell_type": "code",
   "execution_count": 65,
   "id": "downtown-graphic",
   "metadata": {},
   "outputs": [],
   "source": [
    "### strings"
   ]
  },
  {
   "cell_type": "code",
   "execution_count": 66,
   "id": "prescription-order",
   "metadata": {},
   "outputs": [
    {
     "name": "stdout",
     "output_type": "stream",
     "text": [
      "<class 'str'>\n"
     ]
    },
    {
     "data": {
      "text/plain": [
       "' '"
      ]
     },
     "execution_count": 66,
     "metadata": {},
     "output_type": "execute_result"
    }
   ],
   "source": [
    "s=' '\n",
    "print(type(s))\n",
    "s"
   ]
  },
  {
   "cell_type": "code",
   "execution_count": 68,
   "id": "powered-proxy",
   "metadata": {},
   "outputs": [
    {
     "name": "stdout",
     "output_type": "stream",
     "text": [
      "apssdc\n"
     ]
    },
    {
     "data": {
      "text/plain": [
       "'apssdc'"
      ]
     },
     "execution_count": 68,
     "metadata": {},
     "output_type": "execute_result"
    }
   ],
   "source": [
    "g='apssdc'\n",
    "print(g)\n",
    "g"
   ]
  },
  {
   "cell_type": "code",
   "execution_count": 71,
   "id": "permanent-launch",
   "metadata": {},
   "outputs": [
    {
     "data": {
      "text/plain": [
       "'c'"
      ]
     },
     "execution_count": 71,
     "metadata": {},
     "output_type": "execute_result"
    }
   ],
   "source": [
    "### accesing values\n",
    "g[5] ### forward indexing"
   ]
  },
  {
   "cell_type": "code",
   "execution_count": 72,
   "id": "adult-kernel",
   "metadata": {},
   "outputs": [
    {
     "data": {
      "text/plain": [
       "'c'"
      ]
     },
     "execution_count": 72,
     "metadata": {},
     "output_type": "execute_result"
    }
   ],
   "source": [
    "g[-1] ### backward indexing"
   ]
  },
  {
   "cell_type": "code",
   "execution_count": 75,
   "id": "regulated-ethiopia",
   "metadata": {},
   "outputs": [
    {
     "name": "stdout",
     "output_type": "stream",
     "text": [
      "apssdc\n"
     ]
    },
    {
     "data": {
      "text/plain": [
       "'sdc'"
      ]
     },
     "execution_count": 75,
     "metadata": {},
     "output_type": "execute_result"
    }
   ],
   "source": [
    "## slicing\n",
    "print(g)\n",
    "g[3:]"
   ]
  },
  {
   "cell_type": "code",
   "execution_count": 76,
   "id": "collaborative-advice",
   "metadata": {},
   "outputs": [
    {
     "data": {
      "text/plain": [
       "'apssdc'"
      ]
     },
     "execution_count": 76,
     "metadata": {},
     "output_type": "execute_result"
    }
   ],
   "source": [
    "g[0:6]"
   ]
  },
  {
   "cell_type": "code",
   "execution_count": 79,
   "id": "consistent-theta",
   "metadata": {},
   "outputs": [
    {
     "data": {
      "text/plain": [
       "'sd'"
      ]
     },
     "execution_count": 79,
     "metadata": {},
     "output_type": "execute_result"
    }
   ],
   "source": [
    "g[-3:-1]"
   ]
  },
  {
   "cell_type": "code",
   "execution_count": 80,
   "id": "closing-michigan",
   "metadata": {},
   "outputs": [
    {
     "data": {
      "text/plain": [
       "'cdsspa'"
      ]
     },
     "execution_count": 80,
     "metadata": {},
     "output_type": "execute_result"
    }
   ],
   "source": [
    "g[::-1] ## reverse"
   ]
  },
  {
   "cell_type": "code",
   "execution_count": 82,
   "id": "comparative-pittsburgh",
   "metadata": {},
   "outputs": [
    {
     "data": {
      "text/plain": [
       "'satya'"
      ]
     },
     "execution_count": 82,
     "metadata": {},
     "output_type": "execute_result"
    }
   ],
   "source": [
    "s1='satya'\n",
    "s1"
   ]
  },
  {
   "cell_type": "code",
   "execution_count": 86,
   "id": "military-hurricane",
   "metadata": {},
   "outputs": [
    {
     "name": "stdout",
     "output_type": "stream",
     "text": [
      "apsssdc\n",
      " rvr\n"
     ]
    }
   ],
   "source": [
    "s2=\"\"\"apsssdc\n",
    " rvr\"\"\"\n",
    "print(s2) ## multiline string"
   ]
  },
  {
   "cell_type": "code",
   "execution_count": 87,
   "id": "mounted-relation",
   "metadata": {},
   "outputs": [
    {
     "name": "stdout",
     "output_type": "stream",
     "text": [
      "satya\n"
     ]
    },
    {
     "data": {
      "text/plain": [
       "\"print('sai')\\nprint('apssdc')\""
      ]
     },
     "execution_count": 87,
     "metadata": {},
     "output_type": "execute_result"
    }
   ],
   "source": [
    "print('satya')\n",
    "'''print('sai')\n",
    "print('apssdc')''' ### multiline comment"
   ]
  },
  {
   "cell_type": "code",
   "execution_count": 89,
   "id": "sacred-postcard",
   "metadata": {},
   "outputs": [
    {
     "name": "stdout",
     "output_type": "stream",
     "text": [
      "apssdc\n"
     ]
    }
   ],
   "source": [
    "print(g)"
   ]
  },
  {
   "cell_type": "code",
   "execution_count": 90,
   "id": "settled-humor",
   "metadata": {},
   "outputs": [
    {
     "data": {
      "text/plain": [
       "['__add__',\n",
       " '__class__',\n",
       " '__contains__',\n",
       " '__delattr__',\n",
       " '__dir__',\n",
       " '__doc__',\n",
       " '__eq__',\n",
       " '__format__',\n",
       " '__ge__',\n",
       " '__getattribute__',\n",
       " '__getitem__',\n",
       " '__getnewargs__',\n",
       " '__gt__',\n",
       " '__hash__',\n",
       " '__init__',\n",
       " '__init_subclass__',\n",
       " '__iter__',\n",
       " '__le__',\n",
       " '__len__',\n",
       " '__lt__',\n",
       " '__mod__',\n",
       " '__mul__',\n",
       " '__ne__',\n",
       " '__new__',\n",
       " '__reduce__',\n",
       " '__reduce_ex__',\n",
       " '__repr__',\n",
       " '__rmod__',\n",
       " '__rmul__',\n",
       " '__setattr__',\n",
       " '__sizeof__',\n",
       " '__str__',\n",
       " '__subclasshook__',\n",
       " 'capitalize',\n",
       " 'casefold',\n",
       " 'center',\n",
       " 'count',\n",
       " 'encode',\n",
       " 'endswith',\n",
       " 'expandtabs',\n",
       " 'find',\n",
       " 'format',\n",
       " 'format_map',\n",
       " 'index',\n",
       " 'isalnum',\n",
       " 'isalpha',\n",
       " 'isascii',\n",
       " 'isdecimal',\n",
       " 'isdigit',\n",
       " 'isidentifier',\n",
       " 'islower',\n",
       " 'isnumeric',\n",
       " 'isprintable',\n",
       " 'isspace',\n",
       " 'istitle',\n",
       " 'isupper',\n",
       " 'join',\n",
       " 'ljust',\n",
       " 'lower',\n",
       " 'lstrip',\n",
       " 'maketrans',\n",
       " 'partition',\n",
       " 'replace',\n",
       " 'rfind',\n",
       " 'rindex',\n",
       " 'rjust',\n",
       " 'rpartition',\n",
       " 'rsplit',\n",
       " 'rstrip',\n",
       " 'split',\n",
       " 'splitlines',\n",
       " 'startswith',\n",
       " 'strip',\n",
       " 'swapcase',\n",
       " 'title',\n",
       " 'translate',\n",
       " 'upper',\n",
       " 'zfill']"
      ]
     },
     "execution_count": 90,
     "metadata": {},
     "output_type": "execute_result"
    }
   ],
   "source": [
    "dir(g)"
   ]
  },
  {
   "cell_type": "code",
   "execution_count": 93,
   "id": "stable-cargo",
   "metadata": {},
   "outputs": [
    {
     "data": {
      "text/plain": [
       "'Apssdc'"
      ]
     },
     "execution_count": 93,
     "metadata": {},
     "output_type": "execute_result"
    }
   ],
   "source": [
    "g.capitalize() ## starting letter is only converting to capital"
   ]
  },
  {
   "cell_type": "code",
   "execution_count": 94,
   "id": "developed-windsor",
   "metadata": {},
   "outputs": [
    {
     "data": {
      "text/plain": [
       "'apssdc'"
      ]
     },
     "execution_count": 94,
     "metadata": {},
     "output_type": "execute_result"
    }
   ],
   "source": [
    "g.lower()"
   ]
  },
  {
   "cell_type": "code",
   "execution_count": 97,
   "id": "sunset-silence",
   "metadata": {},
   "outputs": [
    {
     "data": {
      "text/plain": [
       "'ABCABC'"
      ]
     },
     "execution_count": 97,
     "metadata": {},
     "output_type": "execute_result"
    }
   ],
   "source": [
    "g1='abcABC'\n",
    "g1.upper()"
   ]
  },
  {
   "cell_type": "code",
   "execution_count": 102,
   "id": "proved-electron",
   "metadata": {},
   "outputs": [
    {
     "data": {
      "text/plain": [
       "'Satya Sai'"
      ]
     },
     "execution_count": 102,
     "metadata": {},
     "output_type": "execute_result"
    }
   ],
   "source": [
    "g2='satya sai'\n",
    "g2.title()  ## all starting letters converting to capital"
   ]
  },
  {
   "cell_type": "code",
   "execution_count": 107,
   "id": "deadly-winner",
   "metadata": {},
   "outputs": [
    {
     "name": "stdout",
     "output_type": "stream",
     "text": [
      "abcABC satya sai\n"
     ]
    }
   ],
   "source": [
    "g3=g1 +' '+ g2\n",
    "print(g3)"
   ]
  },
  {
   "cell_type": "code",
   "execution_count": 112,
   "id": "atomic-england",
   "metadata": {},
   "outputs": [
    {
     "data": {
      "text/plain": [
       "['abcABC', 'satya', 'sai']"
      ]
     },
     "execution_count": 112,
     "metadata": {},
     "output_type": "execute_result"
    }
   ],
   "source": [
    "g3.split(g\n",
    "        ) ## to split two strings and it is stored in list format "
   ]
  },
  {
   "cell_type": "code",
   "execution_count": 114,
   "id": "local-maple",
   "metadata": {},
   "outputs": [
    {
     "data": {
      "text/plain": [
       "['apssdc', 'satya', 'sai']"
      ]
     },
     "execution_count": 114,
     "metadata": {},
     "output_type": "execute_result"
    }
   ],
   "source": [
    "a='apssdc$satya$sai'\n",
    "a.split('$')"
   ]
  },
  {
   "cell_type": "code",
   "execution_count": 117,
   "id": "convertible-patrol",
   "metadata": {},
   "outputs": [
    {
     "data": {
      "text/plain": [
       "['12345sa13tya']"
      ]
     },
     "execution_count": 117,
     "metadata": {},
     "output_type": "execute_result"
    }
   ],
   "source": [
    "b='12345sa13tya'\n",
    "b.split('1,3')"
   ]
  },
  {
   "cell_type": "code",
   "execution_count": 5,
   "id": "instructional-processing",
   "metadata": {},
   "outputs": [
    {
     "name": "stdout",
     "output_type": "stream",
     "text": [
      "  python workshop  \n"
     ]
    }
   ],
   "source": [
    "z='  python workshop  '\n",
    "len(z)\n",
    "print(z)"
   ]
  },
  {
   "cell_type": "code",
   "execution_count": 4,
   "id": "instructional-wings",
   "metadata": {},
   "outputs": [
    {
     "data": {
      "text/plain": [
       "19"
      ]
     },
     "execution_count": 4,
     "metadata": {},
     "output_type": "execute_result"
    }
   ],
   "source": [
    "z.strip() ### remove spaces starting and ending\n",
    "len(z)"
   ]
  },
  {
   "cell_type": "code",
   "execution_count": 6,
   "id": "demanding-module",
   "metadata": {},
   "outputs": [
    {
     "data": {
      "text/plain": [
       "'python workshop  '"
      ]
     },
     "execution_count": 6,
     "metadata": {},
     "output_type": "execute_result"
    }
   ],
   "source": [
    "z.lstrip() only for left side"
   ]
  },
  {
   "cell_type": "code",
   "execution_count": 7,
   "id": "unusual-holmes",
   "metadata": {},
   "outputs": [
    {
     "data": {
      "text/plain": [
       "'  python workshop'"
      ]
     },
     "execution_count": 7,
     "metadata": {},
     "output_type": "execute_result"
    }
   ],
   "source": [
    "z.rstrip() only for right"
   ]
  },
  {
   "cell_type": "code",
   "execution_count": 17,
   "id": "intended-bankruptcy",
   "metadata": {},
   "outputs": [
    {
     "data": {
      "text/plain": [
       "'satya sai@kumar ece'"
      ]
     },
     "execution_count": 17,
     "metadata": {},
     "output_type": "execute_result"
    }
   ],
   "source": [
    "## join\n",
    "\n",
    "c=['satya sai','kumar ece']\n",
    "\"@\".join(c)"
   ]
  },
  {
   "cell_type": "code",
   "execution_count": null,
   "id": "affected-suite",
   "metadata": {},
   "outputs": [],
   "source": []
  }
 ],
 "metadata": {
  "kernelspec": {
   "display_name": "Python 3",
   "language": "python",
   "name": "python3"
  },
  "language_info": {
   "codemirror_mode": {
    "name": "ipython",
    "version": 3
   },
   "file_extension": ".py",
   "mimetype": "text/x-python",
   "name": "python",
   "nbconvert_exporter": "python",
   "pygments_lexer": "ipython3",
   "version": "3.8.1"
  }
 },
 "nbformat": 4,
 "nbformat_minor": 5
}
