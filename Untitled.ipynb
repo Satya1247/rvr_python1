{
 "cells": [
  {
   "cell_type": "code",
   "execution_count": 3,
   "id": "0a67295a",
   "metadata": {},
   "outputs": [
    {
     "name": "stdout",
     "output_type": "stream",
     "text": [
      "2 5\n",
      "14\n"
     ]
    }
   ],
   "source": [
    "(l,h)=map(int,input().split())\n",
    "sum=0\n",
    "for i in range(l,h+1):\n",
    "    sum+=i\n",
    "print(sum)"
   ]
  },
  {
   "cell_type": "code",
   "execution_count": 5,
   "id": "49a6c7ca",
   "metadata": {},
   "outputs": [
    {
     "name": "stdout",
     "output_type": "stream",
     "text": [
      "2001\n",
      "non leap\n"
     ]
    }
   ],
   "source": [
    "n=int(input())\n",
    "if n%400==0 or (n%4==0 and n%100!=0):\n",
    "    print(\"leap\")\n",
    "else:\n",
    "    print(\"non leap\")"
   ]
  },
  {
   "cell_type": "code",
   "execution_count": 15,
   "id": "6cadf30c",
   "metadata": {},
   "outputs": [
    {
     "name": "stdout",
     "output_type": "stream",
     "text": [
      "2\n",
      "prime\n"
     ]
    }
   ],
   "source": [
    "n=int(input())\n",
    "c=0\n",
    "if n<2:\n",
    "    c+=1\n",
    "else:\n",
    "    for i in range(2,n//2+1):\n",
    "        if n%i==0:\n",
    "            c+=1\n",
    "            break\n",
    "if c==1:\n",
    "    print(\"not prime\")\n",
    "else:\n",
    "    print(\"prime\")"
   ]
  },
  {
   "cell_type": "code",
   "execution_count": 20,
   "id": "99be728d",
   "metadata": {},
   "outputs": [
    {
     "name": "stdout",
     "output_type": "stream",
     "text": [
      "10\n",
      "not prime\n"
     ]
    }
   ],
   "source": [
    "n=int(input())\n",
    "import math\n",
    "c=0\n",
    "if n<2:\n",
    "    c+=1\n",
    "else:\n",
    "    for i in range(2,int(math.sqrt(n))+1):\n",
    "        if n%i==0:\n",
    "            c+=1\n",
    "            break\n",
    "if c==1:\n",
    "    print(\"not prime\")\n",
    "else:\n",
    "    print(\"prime\")\n",
    "        "
   ]
  },
  {
   "cell_type": "code",
   "execution_count": 29,
   "id": "5ef4dd14",
   "metadata": {},
   "outputs": [
    {
     "name": "stdout",
     "output_type": "stream",
     "text": [
      "11\n",
      "Prime\n"
     ]
    }
   ],
   "source": [
    "num=int(input())\n",
    "flag = 0\n",
    "if num<2:\n",
    "  flag = 1\n",
    "elif num == 2:\n",
    "  flag = 0\n",
    "else:\n",
    "  for i in range(3,int(pow(num,0.5)+1),2):\n",
    "    if num%i==0:\n",
    "      flag = 1\n",
    "      break\n",
    "\n",
    "if flag == 1:\n",
    "  print('Not Prime')\n",
    "else:\n",
    "  print(\"Prime\")"
   ]
  },
  {
   "cell_type": "code",
   "execution_count": 33,
   "id": "4429493a",
   "metadata": {},
   "outputs": [
    {
     "name": "stdout",
     "output_type": "stream",
     "text": [
      "11\n",
      "Prime\n"
     ]
    }
   ],
   "source": [
    "n=int(input())\n",
    "def checkprime(n,iter=2):\n",
    "    if n==iter:\n",
    "        return True\n",
    "    if n%iter==0:\n",
    "        return False\n",
    "    if n<2:\n",
    "        return False\n",
    "    return checkprime(n,iter+1)\n",
    "if checkprime(n)==True:\n",
    "    print(\"Prime\")\n",
    "else:\n",
    "    print(\"Not Prime\")\n",
    "    \n",
    "        \n",
    "        "
   ]
  },
  {
   "cell_type": "code",
   "execution_count": 34,
   "id": "56a85c4d",
   "metadata": {},
   "outputs": [
    {
     "name": "stdout",
     "output_type": "stream",
     "text": [
      "2 10\n",
      "[2, 3, 5, 7]\n"
     ]
    }
   ],
   "source": [
    "(l,h)=map(int,input().split())\n",
    "def primerange(l,h):\n",
    "    prime=[]\n",
    "    for i in range(l,h+1):\n",
    "        c=0\n",
    "        if i<2:\n",
    "            continue\n",
    "        elif i==2:\n",
    "            prime.append(i)\n",
    "            continue\n",
    "        else:\n",
    "            for j in range(2,i):\n",
    "                if i%j==0:\n",
    "                    c+=1\n",
    "                    break\n",
    "        if c==0:\n",
    "            prime.append(i)\n",
    "    return prime\n",
    "print(primerange(l,h))\n",
    "                \n",
    "            \n",
    "        "
   ]
  },
  {
   "cell_type": "code",
   "execution_count": 3,
   "id": "4e02ddd0",
   "metadata": {},
   "outputs": [
    {
     "name": "stdout",
     "output_type": "stream",
     "text": [
      "2 10\n",
      "[3, 5, 7]\n"
     ]
    }
   ],
   "source": [
    "(l,h)=map(int,input().split())\n",
    "def prime_range(l,h):\n",
    "    prime=[]\n",
    "    for i in range(l,h+1):\n",
    "        c=0\n",
    "        iter=2\n",
    "        if i<2:\n",
    "            continue\n",
    "        if i%2==0:\n",
    "            #prime.append(i)\n",
    "            continue\n",
    "        #iter=2\n",
    "        while iter<i//2+1:\n",
    "                if i%iter==0:\n",
    "                    c+=1\n",
    "                    break\n",
    "                iter+=1\n",
    "        if c==0:\n",
    "            prime.append(i)\n",
    "    return prime\n",
    "print(prime_range(l,h))\n",
    "            "
   ]
  },
  {
   "cell_type": "code",
   "execution_count": null,
   "id": "eb95001a",
   "metadata": {},
   "outputs": [],
   "source": []
  },
  {
   "cell_type": "code",
   "execution_count": 16,
   "id": "4d2a6b8b",
   "metadata": {},
   "outputs": [
    {
     "name": "stdout",
     "output_type": "stream",
     "text": [
      "123\n",
      "321\n"
     ]
    }
   ],
   "source": [
    "n=int(input())\n",
    "sum=0\n",
    "temp=n\n",
    "while n>0:\n",
    "    r=n%10\n",
    "    sum=sum*10+r\n",
    "    n=n//10\n",
    "print(sum)"
   ]
  },
  {
   "cell_type": "code",
   "execution_count": 19,
   "id": "77d61985",
   "metadata": {},
   "outputs": [
    {
     "name": "stdout",
     "output_type": "stream",
     "text": [
      "123\n",
      "321\n"
     ]
    }
   ],
   "source": [
    "#print(str(n)[::-1])\n",
    "n=int(input())\n",
    "print(str(n)[::-1])"
   ]
  },
  {
   "cell_type": "code",
   "execution_count": 30,
   "id": "61e2ea47",
   "metadata": {},
   "outputs": [
    {
     "name": "stdout",
     "output_type": "stream",
     "text": [
      "123\n",
      "Not Armstrong\n"
     ]
    }
   ],
   "source": [
    "number=int(input())\n",
    "num = number\n",
    "digit, sum = 0, 0\n",
    "length = len(str(num))\n",
    "for i in range(length):\n",
    "  digit = int(num%10)\n",
    "  num = num/10\n",
    "  sum += pow(digit,length)\n",
    "if sum==number:\n",
    "  print(\"Armstrong\")\n",
    "else:\n",
    "  print(\"Not Armstrong\")"
   ]
  },
  {
   "cell_type": "code",
   "execution_count": 2,
   "id": "73d85b2f",
   "metadata": {},
   "outputs": [
    {
     "name": "stdout",
     "output_type": "stream",
     "text": [
      "200\n",
      "1000\n",
      "370\n",
      "371\n",
      "407\n"
     ]
    }
   ],
   "source": [
    "l=int(input())\n",
    "h=int(input())\n",
    "for n in range(l,h+1):\n",
    "    order=len(str(n))\n",
    "    sum=0\n",
    "    temp=n\n",
    "    while temp>0:\n",
    "        r=temp%10\n",
    "        sum+=r**order\n",
    "        temp//=10\n",
    "    if n==sum:\n",
    "        print(n)"
   ]
  },
  {
   "cell_type": "code",
   "execution_count": 5,
   "id": "e3fcbb71",
   "metadata": {},
   "outputs": [
    {
     "name": "stdout",
     "output_type": "stream",
     "text": [
      "5\n",
      "120\n"
     ]
    }
   ],
   "source": [
    "n=int(input())\n",
    "fact=1\n",
    "for i in range(1,n+1):\n",
    "    fact=fact*i\n",
    "print(fact)\n",
    "    "
   ]
  },
  {
   "cell_type": "code",
   "execution_count": 9,
   "id": "e96a517b",
   "metadata": {},
   "outputs": [
    {
     "ename": "TypeError",
     "evalue": "'int' object is not callable",
     "output_type": "error",
     "traceback": [
      "\u001b[1;31m---------------------------------------------------------------------------\u001b[0m",
      "\u001b[1;31mTypeError\u001b[0m                                 Traceback (most recent call last)",
      "\u001b[1;32m~\\AppData\\Local\\Temp/ipykernel_9188/1403943119.py\u001b[0m in \u001b[0;36m<module>\u001b[1;34m\u001b[0m\n\u001b[0;32m      3\u001b[0m     \u001b[1;32mfor\u001b[0m \u001b[0mi\u001b[0m \u001b[1;32min\u001b[0m \u001b[0mrange\u001b[0m\u001b[1;33m(\u001b[0m\u001b[0mn\u001b[0m\u001b[1;33m)\u001b[0m\u001b[1;33m:\u001b[0m\u001b[1;33m\u001b[0m\u001b[1;33m\u001b[0m\u001b[0m\n\u001b[0;32m      4\u001b[0m         \u001b[1;32mreturn\u001b[0m \u001b[0mfact\u001b[0m\u001b[1;33m*\u001b[0m\u001b[0mfact\u001b[0m\u001b[1;33m(\u001b[0m\u001b[0mi\u001b[0m\u001b[1;33m-\u001b[0m\u001b[1;36m1\u001b[0m\u001b[1;33m)\u001b[0m\u001b[1;33m\u001b[0m\u001b[1;33m\u001b[0m\u001b[0m\n\u001b[1;32m----> 5\u001b[1;33m \u001b[0mprint\u001b[0m\u001b[1;33m(\u001b[0m\u001b[0mfacto\u001b[0m\u001b[1;33m(\u001b[0m\u001b[1;36m5\u001b[0m\u001b[1;33m)\u001b[0m\u001b[1;33m)\u001b[0m\u001b[1;33m\u001b[0m\u001b[1;33m\u001b[0m\u001b[0m\n\u001b[0m",
      "\u001b[1;32m~\\AppData\\Local\\Temp/ipykernel_9188/1403943119.py\u001b[0m in \u001b[0;36mfacto\u001b[1;34m(n)\u001b[0m\n\u001b[0;32m      2\u001b[0m     \u001b[0mfact\u001b[0m\u001b[1;33m=\u001b[0m\u001b[1;36m1\u001b[0m\u001b[1;33m\u001b[0m\u001b[1;33m\u001b[0m\u001b[0m\n\u001b[0;32m      3\u001b[0m     \u001b[1;32mfor\u001b[0m \u001b[0mi\u001b[0m \u001b[1;32min\u001b[0m \u001b[0mrange\u001b[0m\u001b[1;33m(\u001b[0m\u001b[0mn\u001b[0m\u001b[1;33m)\u001b[0m\u001b[1;33m:\u001b[0m\u001b[1;33m\u001b[0m\u001b[1;33m\u001b[0m\u001b[0m\n\u001b[1;32m----> 4\u001b[1;33m         \u001b[1;32mreturn\u001b[0m \u001b[0mfact\u001b[0m\u001b[1;33m*\u001b[0m\u001b[0mfact\u001b[0m\u001b[1;33m(\u001b[0m\u001b[0mi\u001b[0m\u001b[1;33m-\u001b[0m\u001b[1;36m1\u001b[0m\u001b[1;33m)\u001b[0m\u001b[1;33m\u001b[0m\u001b[1;33m\u001b[0m\u001b[0m\n\u001b[0m\u001b[0;32m      5\u001b[0m \u001b[0mprint\u001b[0m\u001b[1;33m(\u001b[0m\u001b[0mfacto\u001b[0m\u001b[1;33m(\u001b[0m\u001b[1;36m5\u001b[0m\u001b[1;33m)\u001b[0m\u001b[1;33m)\u001b[0m\u001b[1;33m\u001b[0m\u001b[1;33m\u001b[0m\u001b[0m\n",
      "\u001b[1;31mTypeError\u001b[0m: 'int' object is not callable"
     ]
    }
   ],
   "source": [
    "def facto(n):\n",
    "    fact=1\n",
    "    for i in range(n):\n",
    "        return fact*fact(i-1)\n",
    "print(facto(5))"
   ]
  },
  {
   "cell_type": "code",
   "execution_count": 15,
   "id": "16a15509",
   "metadata": {},
   "outputs": [
    {
     "name": "stdout",
     "output_type": "stream",
     "text": [
      "10\n",
      "2 5\n"
     ]
    }
   ],
   "source": [
    "n=int(input())\n",
    "l=[]\n",
    "for i in range(1,n+1):\n",
    "    if n%i==0:\n",
    "        l.append(i)\n",
    "def checkprime(n):\n",
    "    c=0\n",
    "    if n==0 or n==1:\n",
    "        c+=1\n",
    "    else:\n",
    "        for i in range(2,n//2+1):\n",
    "            if n%i==0:\n",
    "                c+=1\n",
    "                break\n",
    "    if c==1:\n",
    "        return False\n",
    "    else:\n",
    "        return True\n",
    "l1=[]\n",
    "for i in l:\n",
    "    if checkprime(i):\n",
    "        l1.append(i)\n",
    "print(*l1)    "
   ]
  },
  {
   "cell_type": "code",
   "execution_count": 23,
   "id": "9649239b",
   "metadata": {},
   "outputs": [
    {
     "name": "stdout",
     "output_type": "stream",
     "text": [
      "28\n",
      "perfect\n"
     ]
    }
   ],
   "source": [
    "n=int(input())\n",
    "l=[]\n",
    "for i in range(1,n):\n",
    "    if n%i==0:\n",
    "        l.append(i)\n",
    "sum=0\n",
    "for i in range(len(l)):\n",
    "    sum+=l[i]\n",
    "if sum ==n:\n",
    "    print(\"perfect\")\n",
    "else:\n",
    "    print(\"not\")"
   ]
  },
  {
   "cell_type": "code",
   "execution_count": 32,
   "id": "8eae08d5",
   "metadata": {},
   "outputs": [
    {
     "name": "stdout",
     "output_type": "stream",
     "text": [
      "376\n",
      "False\n",
      "Automorphic\n"
     ]
    }
   ],
   "source": [
    "from math import sqrt\n",
    "def isperfect_square(n):\n",
    "    if n>=0:\n",
    "        sr=int(sqrt(n))\n",
    "        return (sr*sr)==n\n",
    "    return False\n",
    "n=int(input())\n",
    "if isperfect_square(n):\n",
    "    print(True)\n",
    "else:\n",
    "    print(False)\n",
    "if str(n**2).endswith(str(n)):\n",
    "    print(\"Automorphic\")\n",
    "else:\n",
    "    print(\"not\")"
   ]
  },
  {
   "cell_type": "code",
   "execution_count": 36,
   "id": "32b308df",
   "metadata": {},
   "outputs": [
    {
     "name": "stdout",
     "output_type": "stream",
     "text": [
      "21001\n",
      "21111\n"
     ]
    }
   ],
   "source": [
    "n=int(input())\n",
    "n1=str(n)\n",
    "n2=list(n1)\n",
    "r=''\n",
    "for i in range(len(n1)):\n",
    "    if n2[i]==\"0\":\n",
    "        n2[i]=\"1\"\n",
    "    r+=n2[i]\n",
    "print(r)"
   ]
  },
  {
   "cell_type": "code",
   "execution_count": 37,
   "id": "f86b4721",
   "metadata": {},
   "outputs": [
    {
     "name": "stdout",
     "output_type": "stream",
     "text": [
      "210006\n",
      "211116\n"
     ]
    }
   ],
   "source": [
    "n=int(input())\n",
    "n1=str(n)\n",
    "r=n1.replace(\"0\",\"1\")\n",
    "print(r)"
   ]
  },
  {
   "cell_type": "code",
   "execution_count": 44,
   "id": "101aa063",
   "metadata": {},
   "outputs": [
    {
     "name": "stdout",
     "output_type": "stream",
     "text": [
      "15\n",
      "2 13\n"
     ]
    }
   ],
   "source": [
    "n=int(input())\n",
    "l=[]\n",
    "for i in range(2,n):\n",
    "    c=0\n",
    "    for j in range(2,i):\n",
    "        if i%j==0:\n",
    "            c+=1\n",
    "            break\n",
    "    if c==0:\n",
    "        l.append(i)\n",
    "for i in range(len(l)):\n",
    "    for j in range(i):\n",
    "        if l[i]+l[j]==n:\n",
    "            print(l[j],l[i])"
   ]
  },
  {
   "cell_type": "code",
   "execution_count": 46,
   "id": "f6c8fac5",
   "metadata": {},
   "outputs": [
    {
     "name": "stdout",
     "output_type": "stream",
     "text": [
      "141\n",
      "2\n"
     ]
    }
   ],
   "source": [
    "def cnt_decoding_digits(dig,a):\n",
    "    cnt=[0]*(a+1)\n",
    "    cnt[0],cnt[1]=1,1\n",
    "    for k in range(2,a+1):\n",
    "        cnt[k]=0\n",
    "        cnt[k]=cnt[k-1]\n",
    "        if dig[k-2]=='1' or (dig[k-2]=='2' and dig[k-1]<'7'):\n",
    "            cnt[k]+=cnt[k-2]\n",
    "    return cnt[a]\n",
    "dig=input()\n",
    "print(cnt_decoding_digits(dig,len(dig)))"
   ]
  },
  {
   "cell_type": "code",
   "execution_count": 50,
   "id": "59c50143",
   "metadata": {},
   "outputs": [
    {
     "name": "stdout",
     "output_type": "stream",
     "text": [
      "1121 : "
     ]
    },
    {
     "ename": "TypeError",
     "evalue": "unsupported operand type(s) for -: 'str' and 'int'",
     "output_type": "error",
     "traceback": [
      "\u001b[1;31m---------------------------------------------------------------------------\u001b[0m",
      "\u001b[1;31mTypeError\u001b[0m                                 Traceback (most recent call last)",
      "\u001b[1;32m~\\AppData\\Local\\Temp/ipykernel_9188/3115676723.py\u001b[0m in \u001b[0;36m<module>\u001b[1;34m\u001b[0m\n\u001b[0;32m     41\u001b[0m \u001b[1;33m\u001b[0m\u001b[0m\n\u001b[0;32m     42\u001b[0m \u001b[1;31m# Driver Code\u001b[0m\u001b[1;33m\u001b[0m\u001b[1;33m\u001b[0m\u001b[0m\n\u001b[1;32m---> 43\u001b[1;33m \u001b[0mconv_to_words\u001b[0m\u001b[1;33m(\u001b[0m\u001b[1;34m\"1121\"\u001b[0m\u001b[1;33m)\u001b[0m\u001b[1;33m\u001b[0m\u001b[1;33m\u001b[0m\u001b[0m\n\u001b[0m\u001b[0;32m     44\u001b[0m \u001b[1;33m\u001b[0m\u001b[0m\n\u001b[0;32m     45\u001b[0m \u001b[1;33m\u001b[0m\u001b[0m\n",
      "\u001b[1;32m~\\AppData\\Local\\Temp/ipykernel_9188/3115676723.py\u001b[0m in \u001b[0;36mconv_to_words\u001b[1;34m(num)\u001b[0m\n\u001b[0;32m     18\u001b[0m     \u001b[1;32mwhile\u001b[0m\u001b[1;33m(\u001b[0m\u001b[0mx\u001b[0m\u001b[1;33m<\u001b[0m\u001b[0mlen\u001b[0m\u001b[1;33m(\u001b[0m\u001b[0mnum\u001b[0m\u001b[1;33m)\u001b[0m\u001b[1;33m)\u001b[0m\u001b[1;33m:\u001b[0m\u001b[1;33m\u001b[0m\u001b[1;33m\u001b[0m\u001b[0m\n\u001b[0;32m     19\u001b[0m         \u001b[1;32mif\u001b[0m \u001b[0ml\u001b[0m\u001b[1;33m>=\u001b[0m\u001b[1;36m3\u001b[0m\u001b[1;33m:\u001b[0m\u001b[1;33m\u001b[0m\u001b[1;33m\u001b[0m\u001b[0m\n\u001b[1;32m---> 20\u001b[1;33m             \u001b[1;32mif\u001b[0m \u001b[0mord\u001b[0m\u001b[1;33m(\u001b[0m\u001b[0mnum\u001b[0m\u001b[1;33m[\u001b[0m\u001b[0mx\u001b[0m\u001b[1;33m]\u001b[0m\u001b[1;33m-\u001b[0m\u001b[1;36m48\u001b[0m\u001b[1;33m!=\u001b[0m\u001b[1;36m0\u001b[0m\u001b[1;33m)\u001b[0m\u001b[1;33m:\u001b[0m\u001b[1;33m\u001b[0m\u001b[1;33m\u001b[0m\u001b[0m\n\u001b[0m\u001b[0;32m     21\u001b[0m                 \u001b[0msum\u001b[0m \u001b[1;33m=\u001b[0m \u001b[1;33m(\u001b[0m\u001b[0mord\u001b[0m\u001b[1;33m(\u001b[0m\u001b[0mnum\u001b[0m\u001b[1;33m[\u001b[0m\u001b[0mx\u001b[0m\u001b[1;33m]\u001b[0m\u001b[1;33m)\u001b[0m \u001b[1;33m-\u001b[0m \u001b[1;36m48\u001b[0m \u001b[1;33m+\u001b[0m\u001b[0mord\u001b[0m\u001b[1;33m(\u001b[0m\u001b[0mnum\u001b[0m\u001b[1;33m[\u001b[0m\u001b[0mx\u001b[0m\u001b[1;33m+\u001b[0m\u001b[1;36m1\u001b[0m\u001b[1;33m]\u001b[0m\u001b[1;33m)\u001b[0m \u001b[1;33m-\u001b[0m \u001b[1;36m48\u001b[0m\u001b[1;33m)\u001b[0m\u001b[1;33m\u001b[0m\u001b[1;33m\u001b[0m\u001b[0m\n\u001b[0;32m     22\u001b[0m                 \u001b[0mprint\u001b[0m\u001b[1;33m(\u001b[0m\u001b[0mtwo_digits\u001b[0m\u001b[1;33m[\u001b[0m\u001b[0msum\u001b[0m\u001b[1;33m]\u001b[0m\u001b[1;33m)\u001b[0m\u001b[1;33m\u001b[0m\u001b[1;33m\u001b[0m\u001b[0m\n",
      "\u001b[1;31mTypeError\u001b[0m: unsupported operand type(s) for -: 'str' and 'int'"
     ]
    }
   ],
   "source": [
    "def conv_to_words(num):\n",
    "    l=len(num)\n",
    "    if l==0:\n",
    "        print(\"empty\")\n",
    "        return\n",
    "    if l>4:\n",
    "        print(\"more than 4 is not support\")\n",
    "        return\n",
    "    single_dig=[\"zero\",\"one\",\"two\",\"three\",\"four\",\"five\", \"six\", \"seven\", \"eight\", \"nine\"]\n",
    "    two_digits = [\"\", \"ten\", \"eleven\", \"twelve\", \"thirteen\", \"fourteen\", \"fifteen\", \"sixteen\", \"seventeen\", \"eighteen\", \"nineteen\"]\n",
    "    tens_multiple = [\"\", \"\", \"twenty\", \"thirty\", \"forty\", \"fifty\", \"sixty\", \"seventy\", \"eighty\", \"ninety\"]\n",
    "    tens_power = [\"hundred\", \"thousand\"]\n",
    "    print(num,\":\",end=\" \")\n",
    "    if l==1:\n",
    "        print(single_dig[ord(num[0]-48)])\n",
    "        return\n",
    "    x=0\n",
    "    while(x<len(num)):\n",
    "        if l>=3:\n",
    "            if ord(num[x]-48!=0):\n",
    "                sum = (ord(num[x]) - 48 +ord(num[x+1]) - 48)\n",
    "                print(two_digits[sum])\n",
    "                return\n",
    " \n",
    "            elif (ord(num[x]) - 48 == 2 and\n",
    "                  ord(num[x + 1]) - 48 == 0):\n",
    "                print(\"twenty\")\n",
    "                return\n",
    " \n",
    "            else:\n",
    "                i = ord(num[x]) - 48\n",
    "                if(i > 0):\n",
    "                    print(tens_multiple[i], end=\" \")\n",
    "                else:\n",
    "                    print(\"\", end=\"\")\n",
    "                x += 1\n",
    "                if(ord(num[x]) - 48 != 0):\n",
    "                    print(single_digits[ord(num[x]) - 48])\n",
    "        x += 1\n",
    " \n",
    " \n",
    "# Driver Code\n",
    "conv_to_words(\"1121\")\n",
    "                \n",
    "        "
   ]
  },
  {
   "cell_type": "code",
   "execution_count": 53,
   "id": "3060f9ce",
   "metadata": {},
   "outputs": [
    {
     "name": "stdout",
     "output_type": "stream",
     "text": [
      "()())\n",
      "False\n"
     ]
    }
   ],
   "source": [
    "def isbalanced(s):\n",
    "    c=0\n",
    "    ans=False\n",
    "    for i in s:\n",
    "        if i==\")\":\n",
    "            c+=1\n",
    "        elif i==\"(\":\n",
    "            c-=1\n",
    "        if c<0:\n",
    "            return ans\n",
    "        if c==0:\n",
    "            return not ans\n",
    "    return ans\n",
    "s=input()\n",
    "print(isbalanced(s))"
   ]
  },
  {
   "cell_type": "code",
   "execution_count": 54,
   "id": "d02179ce",
   "metadata": {},
   "outputs": [
    {
     "name": "stdout",
     "output_type": "stream",
     "text": [
      "5\n",
      "3\n",
      "1 2 3 4 5\n",
      "4\n",
      "5\n"
     ]
    }
   ],
   "source": [
    "n=int(input())\n",
    "r=int(input())\n",
    "l=list(map(int,input().split()))\n",
    "class Solution:\n",
    "    def rotate(self,l,r,n):\n",
    "        a=l[r:n]\n",
    "        b=l[0:r]\n",
    "        c=a[:]\n",
    "        for i in range(r):\n",
    "            c.append(b[i])\n",
    "        l[:]=c[:]\n",
    "ob=Solution()\n",
    "ob.rotate(l,r,n)\n",
    "for i in l:\n",
    "    print(i)\n",
    "\n",
    "    \n",
    "    "
   ]
  },
  {
   "cell_type": "code",
   "execution_count": 58,
   "id": "7d84633b",
   "metadata": {},
   "outputs": [
    {
     "name": "stdout",
     "output_type": "stream",
     "text": [
      "5\n",
      "2\n",
      "1 2 3 4 5\n",
      "[3, 4, 5, 1, 2]\n"
     ]
    }
   ],
   "source": [
    "n=int(input())\n",
    "r=int(input())\n",
    "l=list(map(int,input().split()))\n",
    "def rotate(l,r,n):\n",
    "    a=l[r:n]\n",
    "    b=l[0:r]\n",
    "    c=a[:]\n",
    "    for i in range(r):\n",
    "        c.append(b[i])\n",
    "    l[:]=c[:]\n",
    "    return l\n",
    "print(rotate(l,r,n))"
   ]
  },
  {
   "cell_type": "code",
   "execution_count": 61,
   "id": "e655716f",
   "metadata": {},
   "outputs": [
    {
     "name": "stdout",
     "output_type": "stream",
     "text": [
      "-4 1 5 2 -4 4 2\n",
      "3\n"
     ]
    }
   ],
   "source": [
    "def equilibrium(arr):\n",
    "    leftsum=0\n",
    "    rightsum=0\n",
    "    n=len(arr)\n",
    "    for i in range(n):\n",
    "        leftsum=0\n",
    "        rightsum=0\n",
    "        for j in range(i):\n",
    "            leftsum+=arr[j]\n",
    "        for j in range(i+1,n):\n",
    "            rightsum+=arr[j]\n",
    "        if leftsum==rightsum:\n",
    "            return i\n",
    "    return -1\n",
    "arr=list(map(int,input().split()))\n",
    "print(equilibrium(arr))"
   ]
  },
  {
   "cell_type": "code",
   "execution_count": 63,
   "id": "e674566b",
   "metadata": {},
   "outputs": [
    {
     "name": "stdout",
     "output_type": "stream",
     "text": [
      "-4 1 5 2 -4 4 2\n"
     ]
    },
    {
     "ename": "TypeError",
     "evalue": "'int' object is not callable",
     "output_type": "error",
     "traceback": [
      "\u001b[1;31m---------------------------------------------------------------------------\u001b[0m",
      "\u001b[1;31mTypeError\u001b[0m                                 Traceback (most recent call last)",
      "\u001b[1;32m~\\AppData\\Local\\Temp/ipykernel_9188/3314071006.py\u001b[0m in \u001b[0;36m<module>\u001b[1;34m\u001b[0m\n\u001b[0;32m      9\u001b[0m     \u001b[1;32mreturn\u001b[0m \u001b[1;33m-\u001b[0m\u001b[1;36m1\u001b[0m\u001b[1;33m\u001b[0m\u001b[1;33m\u001b[0m\u001b[0m\n\u001b[0;32m     10\u001b[0m \u001b[0marr\u001b[0m\u001b[1;33m=\u001b[0m\u001b[0mlist\u001b[0m\u001b[1;33m(\u001b[0m\u001b[0mmap\u001b[0m\u001b[1;33m(\u001b[0m\u001b[0mint\u001b[0m\u001b[1;33m,\u001b[0m\u001b[0minput\u001b[0m\u001b[1;33m(\u001b[0m\u001b[1;33m)\u001b[0m\u001b[1;33m.\u001b[0m\u001b[0msplit\u001b[0m\u001b[1;33m(\u001b[0m\u001b[1;33m)\u001b[0m\u001b[1;33m)\u001b[0m\u001b[1;33m)\u001b[0m\u001b[1;33m\u001b[0m\u001b[1;33m\u001b[0m\u001b[0m\n\u001b[1;32m---> 11\u001b[1;33m \u001b[0mprint\u001b[0m\u001b[1;33m(\u001b[0m\u001b[0mequilibrium\u001b[0m\u001b[1;33m(\u001b[0m\u001b[0marr\u001b[0m\u001b[1;33m)\u001b[0m\u001b[1;33m)\u001b[0m\u001b[1;33m\u001b[0m\u001b[1;33m\u001b[0m\u001b[0m\n\u001b[0m",
      "\u001b[1;32m~\\AppData\\Local\\Temp/ipykernel_9188/3314071006.py\u001b[0m in \u001b[0;36mequilibrium\u001b[1;34m(arr)\u001b[0m\n\u001b[0;32m      1\u001b[0m \u001b[1;32mdef\u001b[0m \u001b[0mequilibrium\u001b[0m\u001b[1;33m(\u001b[0m\u001b[0marr\u001b[0m\u001b[1;33m)\u001b[0m\u001b[1;33m:\u001b[0m\u001b[1;33m\u001b[0m\u001b[1;33m\u001b[0m\u001b[0m\n\u001b[1;32m----> 2\u001b[1;33m     \u001b[0mtotal_sum\u001b[0m\u001b[1;33m=\u001b[0m\u001b[0msum\u001b[0m\u001b[1;33m(\u001b[0m\u001b[0marr\u001b[0m\u001b[1;33m)\u001b[0m\u001b[1;33m\u001b[0m\u001b[1;33m\u001b[0m\u001b[0m\n\u001b[0m\u001b[0;32m      3\u001b[0m     \u001b[0mleftsum\u001b[0m\u001b[1;33m=\u001b[0m\u001b[1;36m0\u001b[0m\u001b[1;33m\u001b[0m\u001b[1;33m\u001b[0m\u001b[0m\n\u001b[0;32m      4\u001b[0m     \u001b[1;32mfor\u001b[0m \u001b[0mi\u001b[0m\u001b[1;33m,\u001b[0m\u001b[0mnum\u001b[0m \u001b[1;32min\u001b[0m \u001b[0menumerate\u001b[0m\u001b[1;33m(\u001b[0m\u001b[0marr\u001b[0m\u001b[1;33m)\u001b[0m\u001b[1;33m:\u001b[0m\u001b[1;33m\u001b[0m\u001b[1;33m\u001b[0m\u001b[0m\n\u001b[0;32m      5\u001b[0m         \u001b[0mtotal_sum\u001b[0m\u001b[1;33m-=\u001b[0m\u001b[0mnum\u001b[0m\u001b[1;33m\u001b[0m\u001b[1;33m\u001b[0m\u001b[0m\n",
      "\u001b[1;31mTypeError\u001b[0m: 'int' object is not callable"
     ]
    }
   ],
   "source": [
    "def equilibrium(arr):\n",
    "    total_sum=sum(arr)\n",
    "    leftsum=0\n",
    "    for i,num in enumerate(arr):\n",
    "        total_sum-=num\n",
    "        if leftsum==total_sum:\n",
    "            return i\n",
    "        leftsum+=num\n",
    "    return -1\n",
    "arr=list(map(int,input().split()))\n",
    "print(equilibrium(arr))"
   ]
  },
  {
   "cell_type": "code",
   "execution_count": 67,
   "id": "dc0e443e",
   "metadata": {},
   "outputs": [
    {
     "name": "stdout",
     "output_type": "stream",
     "text": [
      "100 20 30 40\n",
      "[4, 1, 2, 3]\n"
     ]
    }
   ],
   "source": [
    "def changearray(l):\n",
    "    l1=l.copy()\n",
    "    l1.sort()\n",
    "    for i in range(len(l)):\n",
    "        for j in range(len(l1)):\n",
    "            if l[i]==l1[j]:\n",
    "                l[i]=j+1\n",
    "                break\n",
    "    return l\n",
    "l=list(map(int,input().split()))\n",
    "print(changearray(l))"
   ]
  },
  {
   "cell_type": "code",
   "execution_count": 77,
   "id": "f85add1d",
   "metadata": {},
   "outputs": [
    {
     "name": "stdout",
     "output_type": "stream",
     "text": [
      "1 4 3 2 6 8\n",
      "[1, 2, 3, 4, 6, 8]\n",
      "[1, 2, 3, 4, 6, 8, [1, 2, 3], [8, 6, 4]]\n"
     ]
    }
   ],
   "source": [
    "l=list(map(int,input().split()))\n",
    "l.sort()\n",
    "print(l)\n",
    "n=len(l)\n",
    "mid=n//2\n",
    "l1=[]\n",
    "l2=[]\n",
    "for i in range(0,mid):\n",
    "    l1.insert(i,l[i])\n",
    "for i in range(mid,n):\n",
    "    l2.insert(i,l[i])\n",
    "    l2.sort(reverse=True)\n"
   ]
  },
  {
   "cell_type": "code",
   "execution_count": 80,
   "id": "4f57a9dd",
   "metadata": {},
   "outputs": [
    {
     "name": "stdout",
     "output_type": "stream",
     "text": [
      "5 8 5 7 8 10\n",
      "1:2\n",
      "5:1\n",
      "-4:2\n",
      "4:1\n",
      "None\n"
     ]
    }
   ],
   "source": [
    "def countdistinct(l,n):\n",
    "    l.sort()\n",
    "    i=0\n",
    "    while i<n:\n",
    "        count=1\n",
    "        while i<n-1 and l[i]==l[i+1]:\n",
    "            i+=1\n",
    "            count+=1\n",
    "        print(\"{0}:{1}\".format(arr[i],count))\n",
    "        i+=1\n",
    "l=list(map(int,input().split()))\n",
    "n=len(l)\n",
    "print(countdistinct(l,n))"
   ]
  },
  {
   "cell_type": "code",
   "execution_count": 82,
   "id": "e2dabae6",
   "metadata": {},
   "outputs": [
    {
     "name": "stdout",
     "output_type": "stream",
     "text": [
      "10   4\n",
      "30   2\n",
      "20   2\n"
     ]
    }
   ],
   "source": [
    "def countfrequency(arr,n):\n",
    "    mp=dict()\n",
    "    for i in range(n):\n",
    "        if arr[i] in mp.keys():\n",
    "            mp[arr[i]]+=1\n",
    "        else:\n",
    "            mp[arr[i]]=1\n",
    "    for x in mp:\n",
    "        print(x,\" \",mp[x])\n",
    "arr = [10, 30, 10, 20, 10, 20, 30, 10] \n",
    "n = len(arr) \n",
    "countfrequency(arr, n)"
   ]
  },
  {
   "cell_type": "code",
   "execution_count": 86,
   "id": "41f3d07b",
   "metadata": {},
   "outputs": [
    {
     "name": "stdout",
     "output_type": "stream",
     "text": [
      "10 20 30 40 40 50 50 50 10 10 10 10\n",
      "[10, 10, 10, 10, 10, 50, 50, 50, 40, 40, 20, 30]\n"
     ]
    }
   ],
   "source": [
    "from collections import Counter\n",
    "l=list(map(int,input().split()))\n",
    "res=[i for ic,c in Counter(l).most_common() for i in [ic]*c]\n",
    "print(res)"
   ]
  },
  {
   "cell_type": "code",
   "execution_count": 87,
   "id": "b06fdc99",
   "metadata": {},
   "outputs": [
    {
     "name": "stdout",
     "output_type": "stream",
     "text": [
      "10 20 30 40 40 50 50 50 10 10 10 10\n",
      "[10, 10, 10, 10, 10, 50, 50, 50, 40, 40, 20, 30]\n"
     ]
    }
   ],
   "source": [
    "from collections import Counter\n",
    "l=list(map(int,input().split()))\n",
    "res=sorted(l,key=l.count,reverse=True)\n",
    "print(res)"
   ]
  },
  {
   "cell_type": "code",
   "execution_count": 89,
   "id": "aae7ad8f",
   "metadata": {},
   "outputs": [
    {
     "name": "stdout",
     "output_type": "stream",
     "text": [
      "10 20 30 40 40 50 50 50 10 10 10 10\n",
      "5\n"
     ]
    }
   ],
   "source": [
    "def count(arr,n):\n",
    "    mp=dict()\n",
    "    count=0\n",
    "    for i in range(n):\n",
    "        if arr[i] in mp.keys():\n",
    "            mp[arr[i]]+=1\n",
    "        else:\n",
    "            mp[arr[i]]=1\n",
    "    print(len(mp))\n",
    "arr=list(map(int,input().split()))\n",
    "count(arr,n)"
   ]
  },
  {
   "cell_type": "code",
   "execution_count": 90,
   "id": "27dceeb4",
   "metadata": {},
   "outputs": [
    {
     "name": "stdout",
     "output_type": "stream",
     "text": [
      "10 20 30 40 40 50 50 50 10 10 10 10\n",
      "40\n",
      "50\n"
     ]
    }
   ],
   "source": [
    "def count(arr,n):\n",
    "    mp=dict()\n",
    "    for i in range(n):\n",
    "        if arr[i] in mp.keys():\n",
    "            mp[arr[i]]+=1\n",
    "        else:\n",
    "            mp[arr[i]]=1\n",
    "    for x in mp:\n",
    "        if mp[x]!=1:\n",
    "            print(x)\n",
    "arr=list(map(int,input().split()))\n",
    "count(arr,n)"
   ]
  },
  {
   "cell_type": "code",
   "execution_count": 91,
   "id": "4af07f58",
   "metadata": {},
   "outputs": [
    {
     "name": "stdout",
     "output_type": "stream",
     "text": [
      "1 2 3 4 5 6\n",
      "no of even number 3\n",
      "no of odd numbers 3\n"
     ]
    }
   ],
   "source": [
    "l=list(map(int,input().split()))\n",
    "e=[]\n",
    "o=[]\n",
    "for i in range(len(l)):\n",
    "    if i%2==0:\n",
    "        e.append(i)\n",
    "    else:\n",
    "        o.append(i)\n",
    "print(\"no of even number {}\".format(len(e)))\n",
    "print(\"no of odd numbers {}\".format(len(o)))"
   ]
  },
  {
   "cell_type": "code",
   "execution_count": 95,
   "id": "eb339b1e",
   "metadata": {},
   "outputs": [
    {
     "name": "stdout",
     "output_type": "stream",
     "text": [
      "(2, 1)\n",
      "(4, 3)\n",
      "(3, 4)\n",
      "(10, 7)\n",
      "(5, 2)\n",
      "(2, 5)\n"
     ]
    }
   ],
   "source": [
    "def sympairs(pairs):\n",
    "    s=set()\n",
    "    for (x,y) in pairs:\n",
    "        s.add((x,y))\n",
    "    for (y,x) in s:\n",
    "        print((x,y))\n",
    "pairs = [(3, 4), (1, 2), (5, 2), (7, 10), (4, 3), (2, 5)]\n",
    "sympairs(pairs)"
   ]
  },
  {
   "cell_type": "code",
   "execution_count": 98,
   "id": "0cf4a04b",
   "metadata": {},
   "outputs": [
    {
     "name": "stdout",
     "output_type": "stream",
     "text": [
      "1 2 3 -1 -2 -3 1 -8\n",
      "6\n"
     ]
    }
   ],
   "source": [
    "def maxsum(arr):\n",
    "    max=0\n",
    "    sum=0\n",
    "    for i in range(len(arr)):\n",
    "        sum+=arr[i]\n",
    "        if sum>max:\n",
    "            max=sum\n",
    "    print(max)\n",
    "arr=list(map(int,input().split()))\n",
    "maxsum(arr)"
   ]
  },
  {
   "cell_type": "code",
   "execution_count": 100,
   "id": "50ea88dd",
   "metadata": {},
   "outputs": [
    {
     "name": "stdout",
     "output_type": "stream",
     "text": [
      "Maximum sub-array product is 112\n"
     ]
    }
   ],
   "source": [
    "def maxSubarrayProduct(arr,n):\n",
    "    max_ending_here=arr[0]\n",
    "    min_ending_here=arr[0]\n",
    "    max_so_far=arr[0]\n",
    "    for i in range(n):\n",
    "        temp=max({arr[i],arr[i]*max_ending_here,arr[i]*min_ending_here})\n",
    "        min_ending_here=min({arr[i],arr[i]*max_ending_here,arr[i]*min_ending_here})\n",
    "        max_ending_here=temp\n",
    "        max_so_far=max(max_so_far,max_ending_here)\n",
    "    return max_so_far\n",
    "arr = [ 1, -2, -3, 0, 7, -8, -2 ]\n",
    "n = len(arr)\n",
    "print(\"Maximum sub-array product is\" , maxSubarrayProduct(arr, n))"
   ]
  },
  {
   "cell_type": "code",
   "execution_count": 102,
   "id": "6381f8d4",
   "metadata": {},
   "outputs": [
    {
     "name": "stdout",
     "output_type": "stream",
     "text": [
      "Yes\n"
     ]
    }
   ],
   "source": [
    "def disjoint(l1,l2,m,n):\n",
    "    l1.sort()\n",
    "    l2.sort()\n",
    "    i=0\n",
    "    j=0\n",
    "    while(i<m) and j<n:\n",
    "        if l[i]<l2[j]:\n",
    "            i+=1\n",
    "        elif l2[j]<l1[i]:\n",
    "            j+=1\n",
    "        else:#l[i]==l2[j]\n",
    "            return False\n",
    "    return True\n",
    "arr1 = [12, 34, 11, 9, 3]\n",
    "arr2 = [7, 2, 1, 5]\n",
    "m = len(arr1)\n",
    "n = len(arr2)\n",
    " \n",
    "print(\"Yes\") if disjoint(arr1, arr2, m,n) else print(\"no\")"
   ]
  },
  {
   "cell_type": "code",
   "execution_count": 104,
   "id": "0fd45259",
   "metadata": {},
   "outputs": [
    {
     "name": "stdout",
     "output_type": "stream",
     "text": [
      "z\n",
      "constant\n"
     ]
    }
   ],
   "source": [
    "s=input()\n",
    "s1=\"aeiouAIEOU\"\n",
    "if s in s1:\n",
    "    print(\"vowel\")\n",
    "else:\n",
    "    print(\"consonant\")"
   ]
  },
  {
   "cell_type": "code",
   "execution_count": 105,
   "id": "2dfc6fac",
   "metadata": {},
   "outputs": [
    {
     "data": {
      "text/plain": [
       "97"
      ]
     },
     "execution_count": 105,
     "metadata": {},
     "output_type": "execute_result"
    }
   ],
   "source": [
    "#ascii value\n",
    "ord(\"a\")"
   ]
  },
  {
   "cell_type": "code",
   "execution_count": 107,
   "id": "2e9c2154",
   "metadata": {},
   "outputs": [
    {
     "data": {
      "text/plain": [
       "'d'"
      ]
     },
     "execution_count": 107,
     "metadata": {},
     "output_type": "execute_result"
    }
   ],
   "source": [
    "#ascii to character\n",
    "chr(100)"
   ]
  },
  {
   "cell_type": "code",
   "execution_count": 108,
   "id": "69da0586",
   "metadata": {},
   "outputs": [
    {
     "name": "stdout",
     "output_type": "stream",
     "text": [
      "satya\n",
      "5\n"
     ]
    }
   ],
   "source": [
    "s=input()\n",
    "c=0\n",
    "for i in s:\n",
    "    c+=1\n",
    "print(c)"
   ]
  },
  {
   "cell_type": "code",
   "execution_count": 109,
   "id": "ba646b50",
   "metadata": {},
   "outputs": [
    {
     "name": "stdout",
     "output_type": "stream",
     "text": [
      "satYa\n",
      "satYa changes to SATyA\n"
     ]
    }
   ],
   "source": [
    "s=input()\n",
    "s1=\"\"\n",
    "for i in s:\n",
    "    if i.isupper():\n",
    "        i=i.lower()\n",
    "        s1+=i\n",
    "    else:\n",
    "        if i.islower():\n",
    "            i=i.upper()\n",
    "            s1+=i\n",
    "print(\"{} changes to {}\".format(s,s1))"
   ]
  },
  {
   "cell_type": "code",
   "execution_count": 110,
   "id": "00fc7e6e",
   "metadata": {},
   "outputs": [
    {
     "name": "stdout",
     "output_type": "stream",
     "text": [
      "saTya\n",
      "SAtYA\n"
     ]
    }
   ],
   "source": [
    "s=input()\n",
    "print(s.swapcase())"
   ]
  },
  {
   "cell_type": "code",
   "execution_count": 112,
   "id": "c911dfc0",
   "metadata": {},
   "outputs": [
    {
     "name": "stdout",
     "output_type": "stream",
     "text": [
      "satya\n",
      "2\n"
     ]
    }
   ],
   "source": [
    "s=input()\n",
    "s1=\"AEIOUaeiou\"\n",
    "c=0\n",
    "for i in s:\n",
    "    if i in s1:\n",
    "        c+=1\n",
    "print(c)"
   ]
  },
  {
   "cell_type": "code",
   "execution_count": 113,
   "id": "e1313184",
   "metadata": {},
   "outputs": [
    {
     "name": "stdout",
     "output_type": "stream",
     "text": [
      "satya\n",
      "sty\n"
     ]
    }
   ],
   "source": [
    "s=input()\n",
    "s1=\"AEIOUaeiou\"\n",
    "s2=\"\"\n",
    "for i in s:\n",
    "    if i not in s1:\n",
    "        s2+=i\n",
    "print(s2)\n",
    "        "
   ]
  },
  {
   "cell_type": "code",
   "execution_count": 115,
   "id": "e1d9460f",
   "metadata": {},
   "outputs": [
    {
     "name": "stdout",
     "output_type": "stream",
     "text": [
      "satya\n",
      "not\n"
     ]
    }
   ],
   "source": [
    "s=input()\n",
    "s1=s[::-1]\n",
    "if s==s1:\n",
    "    print(\"palindrome\")\n",
    "else:\n",
    "    print(\"not\")"
   ]
  },
  {
   "cell_type": "code",
   "execution_count": 116,
   "id": "82a888e0",
   "metadata": {},
   "outputs": [
    {
     "name": "stdout",
     "output_type": "stream",
     "text": [
      "satya123@\n",
      "satya\n"
     ]
    }
   ],
   "source": [
    "s=input()\n",
    "s1=\"abcdefghijklmnopqrstuvwxyz\"\n",
    "s2=\"\"\n",
    "for i in s:\n",
    "    if i in s1:\n",
    "        s2+=i\n",
    "print(s2)"
   ]
  },
  {
   "cell_type": "code",
   "execution_count": 117,
   "id": "aab23452",
   "metadata": {},
   "outputs": [
    {
     "name": "stdout",
     "output_type": "stream",
     "text": [
      "sa  tya\n",
      "satya\n"
     ]
    }
   ],
   "source": [
    "s=input()\n",
    "print(s.replace(\" \",\"\"))"
   ]
  },
  {
   "cell_type": "code",
   "execution_count": 118,
   "id": "ab6ba462",
   "metadata": {},
   "outputs": [
    {
     "name": "stdout",
     "output_type": "stream",
     "text": [
      "(2+3)*(5*6)\n",
      "2+3*5*6\n"
     ]
    }
   ],
   "source": [
    "s=input()\n",
    "s1=\"()\"\n",
    "s2=\"\"\n",
    "for i in s:\n",
    "    if i not in s1:\n",
    "        s2+=i\n",
    "print(s2)"
   ]
  },
  {
   "cell_type": "code",
   "execution_count": 120,
   "id": "f541d17d",
   "metadata": {},
   "outputs": [
    {
     "name": "stdout",
     "output_type": "stream",
     "text": [
      "123*456\n"
     ]
    },
    {
     "ename": "ValueError",
     "evalue": "invalid literal for int() with base 10: '123*456'",
     "output_type": "error",
     "traceback": [
      "\u001b[1;31m---------------------------------------------------------------------------\u001b[0m",
      "\u001b[1;31mValueError\u001b[0m                                Traceback (most recent call last)",
      "\u001b[1;32m~\\AppData\\Local\\Temp/ipykernel_9188/2844250651.py\u001b[0m in \u001b[0;36m<module>\u001b[1;34m\u001b[0m\n\u001b[0;32m      1\u001b[0m \u001b[0ms\u001b[0m\u001b[1;33m=\u001b[0m\u001b[0minput\u001b[0m\u001b[1;33m(\u001b[0m\u001b[1;33m)\u001b[0m\u001b[1;33m\u001b[0m\u001b[1;33m\u001b[0m\u001b[0m\n\u001b[1;32m----> 2\u001b[1;33m \u001b[0ms1\u001b[0m\u001b[1;33m=\u001b[0m\u001b[0mint\u001b[0m\u001b[1;33m(\u001b[0m\u001b[0ms\u001b[0m\u001b[1;33m)\u001b[0m\u001b[1;33m\u001b[0m\u001b[1;33m\u001b[0m\u001b[0m\n\u001b[0m\u001b[0;32m      3\u001b[0m \u001b[0mprint\u001b[0m\u001b[1;33m(\u001b[0m\u001b[0meval\u001b[0m\u001b[1;33m(\u001b[0m\u001b[0ms1\u001b[0m\u001b[1;33m)\u001b[0m\u001b[1;33m)\u001b[0m\u001b[1;33m\u001b[0m\u001b[1;33m\u001b[0m\u001b[0m\n",
      "\u001b[1;31mValueError\u001b[0m: invalid literal for int() with base 10: '123*456'"
     ]
    }
   ],
   "source": [
    "s=input()\n",
    "s1=int(s)\n",
    "print(eval(s1))"
   ]
  },
  {
   "cell_type": "code",
   "execution_count": 124,
   "id": "e7500c09",
   "metadata": {},
   "outputs": [
    {
     "name": "stdout",
     "output_type": "stream",
     "text": [
      "satya1234\n",
      "['1', '2', '3', '4']\n",
      "10\n"
     ]
    }
   ],
   "source": [
    "s=input()\n",
    "s1=\"123456789\"\n",
    "s2=[]\n",
    "for i in s:\n",
    "    if i in s1:\n",
    "        s2.append(i)\n",
    "print(s2)\n",
    "sum=0\n",
    "for i in s2:\n",
    "    sum+=int(i)\n",
    "print(sum)"
   ]
  },
  {
   "cell_type": "code",
   "execution_count": 127,
   "id": "49cc1f9d",
   "metadata": {},
   "outputs": [
    {
     "name": "stdout",
     "output_type": "stream",
     "text": [
      "satya\n",
      "SatyA\n"
     ]
    }
   ],
   "source": [
    "string=input()\n",
    "string=string[0:1].upper()+string[1:len(string)-1]+string[len(string)-1:len(string)].upper()\n",
    "print(string)"
   ]
  },
  {
   "cell_type": "code",
   "execution_count": 129,
   "id": "d4cf2464",
   "metadata": {},
   "outputs": [
    {
     "name": "stdout",
     "output_type": "stream",
     "text": [
      "satya\n",
      "s:1 a:2 t:1 y:1 a:2 "
     ]
    }
   ],
   "source": [
    "s=input()\n",
    "for i in s:\n",
    "    freq=s.count(i)\n",
    "    print(str(i)+\":\"+str(freq),end=\" \")"
   ]
  },
  {
   "cell_type": "code",
   "execution_count": 130,
   "id": "8d54882a",
   "metadata": {},
   "outputs": [
    {
     "name": "stdout",
     "output_type": "stream",
     "text": [
      "satya\n",
      "{'s': 1, 'a': 2, 't': 1, 'y': 1}\n"
     ]
    }
   ],
   "source": [
    "s=input()\n",
    "dict={}\n",
    "for i in s:\n",
    "    if i in dict:\n",
    "        dict[i]+=1\n",
    "    else:\n",
    "        dict[i]=1\n",
    "print(dict)"
   ]
  },
  {
   "cell_type": "code",
   "execution_count": 133,
   "id": "cac67eec",
   "metadata": {},
   "outputs": [
    {
     "name": "stdout",
     "output_type": "stream",
     "text": [
      "satya\n",
      "sty"
     ]
    }
   ],
   "source": [
    "s=input()\n",
    "for i in s:\n",
    "    c=0\n",
    "    for j in s:\n",
    "        if i==j:\n",
    "            c+=1\n",
    "        if c>1:\n",
    "            break\n",
    "    if c==1:\n",
    "        print(i,end=\"\")\n",
    "       "
   ]
  },
  {
   "cell_type": "code",
   "execution_count": 136,
   "id": "a883c9f4",
   "metadata": {},
   "outputs": [
    {
     "name": "stdout",
     "output_type": "stream",
     "text": [
      "satya\n",
      "sai\n",
      "not\n"
     ]
    }
   ],
   "source": [
    "s=input()\n",
    "s1=input()\n",
    "if sorted(s)==sorted(s1):\n",
    "    print(\"anagram\")\n",
    "else:\n",
    "    print(\"not\")"
   ]
  },
  {
   "cell_type": "code",
   "execution_count": 139,
   "id": "70d01768",
   "metadata": {},
   "outputs": [
    {
     "name": "stdout",
     "output_type": "stream",
     "text": [
      "listen\n",
      "silent\n",
      "Counter({'l': 1, 'i': 1, 's': 1, 't': 1, 'e': 1, 'n': 1})\n",
      "Counter({'s': 1, 'i': 1, 'l': 1, 'e': 1, 'n': 1, 't': 1})\n",
      "anagram\n"
     ]
    }
   ],
   "source": [
    "from collections import Counter\n",
    "def check(s1,s2):\n",
    "    print(Counter(s1))\n",
    "    print(Counter(s2))\n",
    "    if Counter(s1)==Counter(s2):\n",
    "        print(\"anagram\")\n",
    "    else:\n",
    "        print(\"not\")\n",
    "s=input()\n",
    "s1=input()\n",
    "check(s,s1)"
   ]
  },
  {
   "cell_type": "code",
   "execution_count": 140,
   "id": "da00f499",
   "metadata": {},
   "outputs": [
    {
     "name": "stdout",
     "output_type": "stream",
     "text": [
      "andhra pradesh\n",
      "enter which has to be replacedand\n",
      "enter with replace substringsat\n",
      "sathra pradesh\n"
     ]
    }
   ],
   "source": [
    "s=input()\n",
    "s1=input(\"enter which has to be replaced\")\n",
    "s2=input(\"enter with replace substring\")\n",
    "s=s.replace(s1,s2)\n",
    "print(s)"
   ]
  },
  {
   "cell_type": "code",
   "execution_count": 142,
   "id": "1cd426c9",
   "metadata": {},
   "outputs": [
    {
     "name": "stdout",
     "output_type": "stream",
     "text": [
      "satya\n",
      "enter which has to be replacedsat\n",
      "0\n",
      "1\n",
      "2\n",
      "1\n"
     ]
    }
   ],
   "source": [
    "s=input()\n",
    "s1=input(\"enter which has to be replaced\")\n",
    "for i in s:\n",
    "    if i in s1:\n",
    "        print(s.index(i))"
   ]
  },
  {
   "cell_type": "code",
   "execution_count": 144,
   "id": "b74b1cb2",
   "metadata": {},
   "outputs": [
    {
     "ename": "ModuleNotFoundError",
     "evalue": "No module named 'combinations'",
     "output_type": "error",
     "traceback": [
      "\u001b[1;31m---------------------------------------------------------------------------\u001b[0m",
      "\u001b[1;31mModuleNotFoundError\u001b[0m                       Traceback (most recent call last)",
      "\u001b[1;32m~\\AppData\\Local\\Temp/ipykernel_9188/1286446867.py\u001b[0m in \u001b[0;36m<module>\u001b[1;34m\u001b[0m\n\u001b[1;32m----> 1\u001b[1;33m \u001b[1;32mimport\u001b[0m \u001b[0mcombinations\u001b[0m\u001b[1;33m\u001b[0m\u001b[1;33m\u001b[0m\u001b[0m\n\u001b[0m",
      "\u001b[1;31mModuleNotFoundError\u001b[0m: No module named 'combinations'"
     ]
    }
   ],
   "source": []
  },
  {
   "cell_type": "code",
   "execution_count": 145,
   "id": "c2870c44",
   "metadata": {},
   "outputs": [
    {
     "name": "stdout",
     "output_type": "stream",
     "text": [
      "ABC\n",
      "ACB\n",
      "BAC\n",
      "BCA\n",
      "CAB\n",
      "CBA\n"
     ]
    }
   ],
   "source": [
    "ans=[]\n",
    "def permute(a,l,r):\n",
    "    if l==r:\n",
    "        ans.append(\"\".join(a))\n",
    "    else:\n",
    "        for i in range(l,r):\n",
    "            a[l],a[i]=a[i],a[l]\n",
    "            permute(a,l+1,r)\n",
    "            a[l],a[i]=a[i],a[l]\n",
    "string=\"ABC\"\n",
    "n=len(string)\n",
    "a=list(string)\n",
    "permute(a,0,n)\n",
    "for i in sorted(ans):\n",
    "    print(i)"
   ]
  },
  {
   "cell_type": "code",
   "execution_count": 147,
   "id": "6d50933d",
   "metadata": {},
   "outputs": [
    {
     "name": "stdout",
     "output_type": "stream",
     "text": [
      "1 2 1 2 1 0 0\n"
     ]
    },
    {
     "data": {
      "text/plain": [
       "[0, 0, 1, 1, 1, 2, 2]"
      ]
     },
     "execution_count": 147,
     "metadata": {},
     "output_type": "execute_result"
    }
   ],
   "source": [
    "l=list(map(int,input().split()))\n",
    "def count(l):\n",
    "    count_0=l.count(0)\n",
    "    count_1=l.count(1)\n",
    "    count_2=l.count(2)\n",
    "    l1=[]\n",
    "    for i in range(count_0):\n",
    "        l1.append(0)\n",
    "    for i in range(count_1):\n",
    "        l1.append(1)\n",
    "    for i in range(count_2):\n",
    "        l1.append(2)\n",
    "    return l1\n",
    "count(l)"
   ]
  },
  {
   "cell_type": "code",
   "execution_count": 150,
   "id": "74cd5316",
   "metadata": {},
   "outputs": [
    {
     "name": "stdout",
     "output_type": "stream",
     "text": [
      "1 2 1 2 1\n",
      "[1, 1, 1, 2, 2]\n"
     ]
    }
   ],
   "source": [
    "l=list(map(int,input().split()))\n",
    "l.sort()\n",
    "print(l)"
   ]
  },
  {
   "cell_type": "code",
   "execution_count": 152,
   "id": "f8e3573c",
   "metadata": {},
   "outputs": [
    {
     "name": "stdout",
     "output_type": "stream",
     "text": [
      "1 2 3 4 5\n",
      "2\n",
      "3\n"
     ]
    }
   ],
   "source": [
    "l=list(map(int,input().split()))\n",
    "k=int(input())\n",
    "n=len(l)\n",
    "l.sort()\n",
    "print(l[k])"
   ]
  },
  {
   "cell_type": "code",
   "execution_count": 153,
   "id": "f888ded2",
   "metadata": {},
   "outputs": [
    {
     "name": "stdout",
     "output_type": "stream",
     "text": [
      "1 2 3 4\n",
      "4 5 6 7\n",
      "{4, 5, 6, 7, 8}\n",
      "{4, 6}\n"
     ]
    }
   ],
   "source": [
    "l=list(map(int,input().split()))\n",
    "l1=list(map(int,input().split()))\n",
    "def union(l1,l2):\n",
    "    l1=set(l1)\n",
    "    l2=set(l2)\n",
    "    print(l1 | l2)\n",
    "def intersection(l1,l2):\n",
    "    l1=set(l1)\n",
    "    l2=set(l2)\n",
    "    print(l1&l2)\n",
    "union(l1,l2)\n",
    "intersection(l1,l2)"
   ]
  },
  {
   "cell_type": "code",
   "execution_count": 154,
   "id": "d936fa4b",
   "metadata": {},
   "outputs": [
    {
     "name": "stdout",
     "output_type": "stream",
     "text": [
      "-1 8 1 -7 -1 5 1 -3\n",
      "8\n"
     ]
    }
   ],
   "source": [
    "def find(arr,l):\n",
    "    max=0\n",
    "    sum=0\n",
    "    for i in range(l):\n",
    "        sum+=arr[i]\n",
    "        if sum>max:\n",
    "            max=sum\n",
    "    print(max)\n",
    "arr=list(map(int,input().split()))\n",
    "l=len(arr)\n",
    "find(arr,l)"
   ]
  },
  {
   "cell_type": "code",
   "execution_count": 157,
   "id": "d7ee3192",
   "metadata": {},
   "outputs": [
    {
     "name": "stdout",
     "output_type": "stream",
     "text": [
      "-1 8 1 -7 -1 5 1 -3\n"
     ]
    },
    {
     "ename": "TypeError",
     "evalue": "'int' object is not callable",
     "output_type": "error",
     "traceback": [
      "\u001b[1;31m---------------------------------------------------------------------------\u001b[0m",
      "\u001b[1;31mTypeError\u001b[0m                                 Traceback (most recent call last)",
      "\u001b[1;32m~\\AppData\\Local\\Temp/ipykernel_9188/110258973.py\u001b[0m in \u001b[0;36m<module>\u001b[1;34m\u001b[0m\n\u001b[0;32m     12\u001b[0m \u001b[0marray\u001b[0m\u001b[1;33m=\u001b[0m\u001b[0mlist\u001b[0m\u001b[1;33m(\u001b[0m\u001b[0mmap\u001b[0m\u001b[1;33m(\u001b[0m\u001b[0mint\u001b[0m\u001b[1;33m,\u001b[0m\u001b[0minput\u001b[0m\u001b[1;33m(\u001b[0m\u001b[1;33m)\u001b[0m\u001b[1;33m.\u001b[0m\u001b[0msplit\u001b[0m\u001b[1;33m(\u001b[0m\u001b[1;33m)\u001b[0m\u001b[1;33m)\u001b[0m\u001b[1;33m)\u001b[0m\u001b[1;33m\u001b[0m\u001b[1;33m\u001b[0m\u001b[0m\n\u001b[0;32m     13\u001b[0m \u001b[0ml\u001b[0m\u001b[1;33m=\u001b[0m\u001b[0mlen\u001b[0m\u001b[1;33m(\u001b[0m\u001b[0marray\u001b[0m\u001b[1;33m)\u001b[0m\u001b[1;33m\u001b[0m\u001b[1;33m\u001b[0m\u001b[0m\n\u001b[1;32m---> 14\u001b[1;33m \u001b[0mfindsubarraymax\u001b[0m\u001b[1;33m(\u001b[0m\u001b[0marray\u001b[0m\u001b[1;33m,\u001b[0m\u001b[0ml\u001b[0m\u001b[1;33m)\u001b[0m\u001b[1;33m\u001b[0m\u001b[1;33m\u001b[0m\u001b[0m\n\u001b[0m",
      "\u001b[1;32m~\\AppData\\Local\\Temp/ipykernel_9188/110258973.py\u001b[0m in \u001b[0;36mfindsubarraymax\u001b[1;34m(arr, l)\u001b[0m\n\u001b[0;32m      4\u001b[0m     \u001b[1;32mfor\u001b[0m \u001b[0mi\u001b[0m \u001b[1;32min\u001b[0m \u001b[0mrange\u001b[0m\u001b[1;33m(\u001b[0m\u001b[0ml\u001b[0m\u001b[1;33m)\u001b[0m\u001b[1;33m:\u001b[0m\u001b[1;33m\u001b[0m\u001b[1;33m\u001b[0m\u001b[0m\n\u001b[0;32m      5\u001b[0m         \u001b[1;32mfor\u001b[0m \u001b[0mj\u001b[0m \u001b[1;32min\u001b[0m \u001b[0mrange\u001b[0m\u001b[1;33m(\u001b[0m\u001b[0mi\u001b[0m\u001b[1;33m,\u001b[0m\u001b[0ml\u001b[0m\u001b[1;33m)\u001b[0m\u001b[1;33m:\u001b[0m\u001b[1;33m\u001b[0m\u001b[1;33m\u001b[0m\u001b[0m\n\u001b[1;32m----> 6\u001b[1;33m             \u001b[0ma\u001b[0m\u001b[1;33m=\u001b[0m\u001b[0msum\u001b[0m\u001b[1;33m(\u001b[0m\u001b[0marray\u001b[0m\u001b[1;33m[\u001b[0m\u001b[0mi\u001b[0m\u001b[1;33m:\u001b[0m\u001b[0mj\u001b[0m\u001b[1;33m+\u001b[0m\u001b[1;36m1\u001b[0m\u001b[1;33m]\u001b[0m\u001b[1;33m)\u001b[0m\u001b[1;33m\u001b[0m\u001b[1;33m\u001b[0m\u001b[0m\n\u001b[0m\u001b[0;32m      7\u001b[0m             \u001b[1;32mif\u001b[0m \u001b[0ma\u001b[0m\u001b[1;33m>\u001b[0m\u001b[0mmax_sum\u001b[0m\u001b[1;33m:\u001b[0m\u001b[1;33m\u001b[0m\u001b[1;33m\u001b[0m\u001b[0m\n\u001b[0;32m      8\u001b[0m                 \u001b[0mmax_sum\u001b[0m\u001b[1;33m=\u001b[0m\u001b[0ma\u001b[0m\u001b[1;33m\u001b[0m\u001b[1;33m\u001b[0m\u001b[0m\n",
      "\u001b[1;31mTypeError\u001b[0m: 'int' object is not callable"
     ]
    }
   ],
   "source": [
    "def findsubarraymax(arr,l):\n",
    "    max_sum=-1\n",
    "    ans=[]\n",
    "    for i in range(l):\n",
    "        for j in range(i,l):\n",
    "            a=sum(array[i:j+1])\n",
    "            if a>max_sum:\n",
    "                max_sum=a\n",
    "                ans=array[i:j+1]\n",
    "    print(ans)\n",
    "    print(max_sum)\n",
    "array=list(map(int,input().split()))\n",
    "l=len(array)\n",
    "findsubarraymax(array,l)"
   ]
  },
  {
   "cell_type": "code",
   "execution_count": 160,
   "id": "6ed27a55",
   "metadata": {},
   "outputs": [
    {
     "name": "stdout",
     "output_type": "stream",
     "text": [
      "Array = [-1, 8, 1, -7, -1, 5, 1, -3]\n"
     ]
    },
    {
     "ename": "TypeError",
     "evalue": "'int' object is not callable",
     "output_type": "error",
     "traceback": [
      "\u001b[1;31m---------------------------------------------------------------------------\u001b[0m",
      "\u001b[1;31mTypeError\u001b[0m                                 Traceback (most recent call last)",
      "\u001b[1;32m~\\AppData\\Local\\Temp/ipykernel_9188/3220108982.py\u001b[0m in \u001b[0;36m<module>\u001b[1;34m\u001b[0m\n\u001b[0;32m     15\u001b[0m \u001b[0marray\u001b[0m \u001b[1;33m=\u001b[0m \u001b[1;33m[\u001b[0m\u001b[1;33m-\u001b[0m\u001b[1;36m1\u001b[0m\u001b[1;33m,\u001b[0m \u001b[1;36m8\u001b[0m\u001b[1;33m,\u001b[0m \u001b[1;36m1\u001b[0m\u001b[1;33m,\u001b[0m \u001b[1;33m-\u001b[0m\u001b[1;36m7\u001b[0m\u001b[1;33m,\u001b[0m \u001b[1;33m-\u001b[0m\u001b[1;36m1\u001b[0m\u001b[1;33m,\u001b[0m \u001b[1;36m5\u001b[0m\u001b[1;33m,\u001b[0m \u001b[1;36m1\u001b[0m\u001b[1;33m,\u001b[0m \u001b[1;33m-\u001b[0m\u001b[1;36m3\u001b[0m\u001b[1;33m]\u001b[0m\u001b[1;33m\u001b[0m\u001b[1;33m\u001b[0m\u001b[0m\n\u001b[0;32m     16\u001b[0m \u001b[0mprint\u001b[0m\u001b[1;33m(\u001b[0m\u001b[1;34m\"Array =\"\u001b[0m\u001b[1;33m,\u001b[0m \u001b[0marray\u001b[0m\u001b[1;33m)\u001b[0m\u001b[1;33m\u001b[0m\u001b[1;33m\u001b[0m\u001b[0m\n\u001b[1;32m---> 17\u001b[1;33m \u001b[0mfind\u001b[0m\u001b[1;33m(\u001b[0m\u001b[0marray\u001b[0m\u001b[1;33m,\u001b[0m \u001b[0mlen\u001b[0m\u001b[1;33m(\u001b[0m\u001b[0marray\u001b[0m\u001b[1;33m)\u001b[0m\u001b[1;33m)\u001b[0m\u001b[1;33m\u001b[0m\u001b[1;33m\u001b[0m\u001b[0m\n\u001b[0m",
      "\u001b[1;32m~\\AppData\\Local\\Temp/ipykernel_9188/3220108982.py\u001b[0m in \u001b[0;36mfind\u001b[1;34m(arr, l)\u001b[0m\n\u001b[0;32m      4\u001b[0m     \u001b[1;32mfor\u001b[0m \u001b[0mi\u001b[0m \u001b[1;32min\u001b[0m \u001b[0mrange\u001b[0m\u001b[1;33m(\u001b[0m\u001b[0ml\u001b[0m\u001b[1;33m)\u001b[0m\u001b[1;33m:\u001b[0m\u001b[1;33m\u001b[0m\u001b[1;33m\u001b[0m\u001b[0m\n\u001b[0;32m      5\u001b[0m         \u001b[1;32mfor\u001b[0m \u001b[0mj\u001b[0m \u001b[1;32min\u001b[0m \u001b[0mrange\u001b[0m\u001b[1;33m(\u001b[0m\u001b[0mi\u001b[0m\u001b[1;33m,\u001b[0m \u001b[0ml\u001b[0m\u001b[1;33m)\u001b[0m\u001b[1;33m:\u001b[0m\u001b[1;33m\u001b[0m\u001b[1;33m\u001b[0m\u001b[0m\n\u001b[1;32m----> 6\u001b[1;33m             \u001b[0ma\u001b[0m \u001b[1;33m=\u001b[0m \u001b[0msum\u001b[0m\u001b[1;33m(\u001b[0m\u001b[0marr\u001b[0m\u001b[1;33m[\u001b[0m\u001b[0mi\u001b[0m\u001b[1;33m:\u001b[0m\u001b[0mj\u001b[0m \u001b[1;33m+\u001b[0m \u001b[1;36m1\u001b[0m\u001b[1;33m]\u001b[0m\u001b[1;33m)\u001b[0m\u001b[1;33m\u001b[0m\u001b[1;33m\u001b[0m\u001b[0m\n\u001b[0m\u001b[0;32m      7\u001b[0m             \u001b[1;32mif\u001b[0m \u001b[0ma\u001b[0m \u001b[1;33m>\u001b[0m \u001b[0mmax_sum\u001b[0m\u001b[1;33m:\u001b[0m\u001b[1;33m\u001b[0m\u001b[1;33m\u001b[0m\u001b[0m\n\u001b[0;32m      8\u001b[0m                 \u001b[0mmax_sum\u001b[0m \u001b[1;33m=\u001b[0m \u001b[0ma\u001b[0m\u001b[1;33m\u001b[0m\u001b[1;33m\u001b[0m\u001b[0m\n",
      "\u001b[1;31mTypeError\u001b[0m: 'int' object is not callable"
     ]
    }
   ],
   "source": [
    "def find(arr, l):\n",
    "    max_sum = -1\n",
    "    ans = []\n",
    "    for i in range(l):\n",
    "        for j in range(i, l):\n",
    "            a = sum(arr[i:j + 1])\n",
    "            if a > max_sum:\n",
    "                max_sum = a\n",
    "                ans = arr[i:j + 1]\n",
    "\n",
    "    print(\"Sub array which will give maximum sum\", ans)\n",
    "    print(\"Maximum sum = \", max_sum)\n",
    "\n",
    "\n",
    "array = [-1, 8, 1, -7, -1, 5, 1, -3]\n",
    "print(\"Array =\", array)\n",
    "find(array, len(array))"
   ]
  },
  {
   "cell_type": "code",
   "execution_count": 159,
   "id": "8cadb3ee",
   "metadata": {},
   "outputs": [
    {
     "data": {
      "text/plain": [
       "10"
      ]
     },
     "execution_count": 159,
     "metadata": {},
     "output_type": "execute_result"
    }
   ],
   "source": [
    "def profit(arr,k):\n",
    "    n=(min(arr)+max(arr))//2\n",
    "    new=[]\n",
    "    for i in arr:\n",
    "        if max(arr)-min(arr)<k:\n",
    "            return max(arr)-min(arr)\n",
    "        elif i>=n:\n",
    "            new.append(i-k)\n",
    "        else:\n",
    "            new.append(i+k)\n",
    "    return max(new)-min(new)\n",
    "array=[2,9,16]\n",
    "k=6\n",
    "profit(arr,k)\n",
    "    "
   ]
  },
  {
   "cell_type": "code",
   "execution_count": 164,
   "id": "b35fc0c2",
   "metadata": {},
   "outputs": [
    {
     "name": "stdout",
     "output_type": "stream",
     "text": [
      "Minimum no of jumps required to reach end of the array :  3\n"
     ]
    }
   ],
   "source": [
    "def jump(arr):\n",
    "    n=len(arr)\n",
    "    i=0\n",
    "    c=0\n",
    "    while i<len(arr)-1:\n",
    "        if i+arr[i]<n:\n",
    "            c+=1\n",
    "            if arr[i]==1:\n",
    "                i+=arr[i]\n",
    "            else:\n",
    "                i+=arr.index(max(arr[i+1:arr[i]+i+1]))-i\n",
    "        else:\n",
    "            c+=1\n",
    "            i+=arr[i]\n",
    "    return c\n",
    "arr = [1, 3, 5, 8, 9, 2, 6, 7, 6, 8, 9]\n",
    "print(\"Minimum no of jumps required to reach end of the array : \", jump(arr))"
   ]
  },
  {
   "cell_type": "code",
   "execution_count": null,
   "id": "552fc2dd",
   "metadata": {},
   "outputs": [],
   "source": []
  }
 ],
 "metadata": {
  "kernelspec": {
   "display_name": "Python 3 (ipykernel)",
   "language": "python",
   "name": "python3"
  },
  "language_info": {
   "codemirror_mode": {
    "name": "ipython",
    "version": 3
   },
   "file_extension": ".py",
   "mimetype": "text/x-python",
   "name": "python",
   "nbconvert_exporter": "python",
   "pygments_lexer": "ipython3",
   "version": "3.9.7"
  }
 },
 "nbformat": 4,
 "nbformat_minor": 5
}
