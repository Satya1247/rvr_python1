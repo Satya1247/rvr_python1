{
 "cells": [
  {
   "cell_type": "code",
   "execution_count": 1,
   "id": "viral-stone",
   "metadata": {},
   "outputs": [
    {
     "name": "stdout",
     "output_type": "stream",
     "text": [
      "hello world\n"
     ]
    }
   ],
   "source": [
    "print(\"hello world\")"
   ]
  },
  {
   "cell_type": "markdown",
   "id": "contrary-doubt",
   "metadata": {},
   "source": [
    "## itterations\n",
    "-for,while"
   ]
  },
  {
   "cell_type": "code",
   "execution_count": 2,
   "id": "great-bubble",
   "metadata": {},
   "outputs": [
    {
     "data": {
      "text/plain": [
       "range(0, 10)"
      ]
     },
     "execution_count": 2,
     "metadata": {},
     "output_type": "execute_result"
    }
   ],
   "source": [
    "range(10)"
   ]
  },
  {
   "cell_type": "markdown",
   "id": "stainless-fancy",
   "metadata": {},
   "source": [
    "### syntax \n",
    "for var in range(initial value,end value,difference value):\n",
    "    ## statements"
   ]
  },
  {
   "cell_type": "code",
   "execution_count": 3,
   "id": "chief-shareware",
   "metadata": {},
   "outputs": [
    {
     "name": "stdout",
     "output_type": "stream",
     "text": [
      "hello world\n",
      "hello world\n",
      "hello world\n",
      "hello world\n",
      "hello world\n",
      "hello world\n",
      "hello world\n",
      "hello world\n",
      "hello world\n",
      "hello world\n"
     ]
    }
   ],
   "source": [
    "for i in range(1,11):\n",
    "    print(\"hello world\")"
   ]
  },
  {
   "cell_type": "code",
   "execution_count": 11,
   "id": "subsequent-kuwait",
   "metadata": {},
   "outputs": [],
   "source": [
    "for i in range(1,101,-2):\n",
    "    print(i,end=' ')"
   ]
  },
  {
   "cell_type": "code",
   "execution_count": 15,
   "id": "understanding-terry",
   "metadata": {},
   "outputs": [
    {
     "name": "stdout",
     "output_type": "stream",
     "text": [
      "2 4 6 8 10 12 14 16 18 20 22 24 26 28 30 32 34 36 38 40 42 44 46 48 50 52 54 56 58 60 62 64 66 68 70 72 74 76 78 80 82 84 86 88 90 92 94 96 98 100 "
     ]
    }
   ],
   "source": [
    "for i in range(1,101):\n",
    "    if i%2==0:\n",
    "        print(i,end=' ')"
   ]
  },
  {
   "cell_type": "code",
   "execution_count": 16,
   "id": "super-armor",
   "metadata": {},
   "outputs": [
    {
     "name": "stdout",
     "output_type": "stream",
     "text": [
      "1 3 5 7 9 11 13 15 17 19 21 23 25 27 29 31 33 35 37 39 41 43 45 47 49 51 53 55 57 59 61 63 65 67 69 71 73 75 77 79 81 83 85 87 89 91 93 95 97 99 "
     ]
    }
   ],
   "source": [
    "for i in range(1,101):\n",
    "    if i%2!=0:\n",
    "        print(i,end=' ')"
   ]
  },
  {
   "cell_type": "code",
   "execution_count": 26,
   "id": "accepting-duncan",
   "metadata": {},
   "outputs": [
    {
     "name": "stdout",
     "output_type": "stream",
     "text": [
      "enter a table number13\n",
      "enter table length20\n",
      "13 *1=13\n",
      "13 *2=26\n",
      "13 *3=39\n",
      "13 *4=52\n",
      "13 *5=65\n",
      "13 *6=78\n",
      "13 *7=91\n",
      "13 *8=104\n",
      "13 *9=117\n",
      "13 *10=130\n",
      "13 *11=143\n",
      "13 *12=156\n",
      "13 *13=169\n",
      "13 *14=182\n",
      "13 *15=195\n",
      "13 *16=208\n",
      "13 *17=221\n",
      "13 *18=234\n",
      "13 *19=247\n",
      "13 *20=260\n"
     ]
    }
   ],
   "source": [
    "t=int(input('enter a table number'))\n",
    "t_len=int(input('enter table length'))\n",
    "for i in range(1,t_len+1):\n",
    "    print('{} *{}={}'.format(t,i,t*i))"
   ]
  },
  {
   "cell_type": "code",
   "execution_count": 5,
   "id": "hybrid-happiness",
   "metadata": {},
   "outputs": [
    {
     "name": "stdout",
     "output_type": "stream",
     "text": [
      "enter a number8\n",
      "1 2 4 8 factors 4\n"
     ]
    }
   ],
   "source": [
    "n=int(input('enter a number'))\n",
    "c=0\n",
    "for i in range(1,n+1):\n",
    "    if n%i==0:\n",
    "        c+=1\n",
    "        print(i,end=\" \")\n",
    "print('factors',c)\n",
    "    "
   ]
  },
  {
   "cell_type": "code",
   "execution_count": 7,
   "id": "public-inclusion",
   "metadata": {},
   "outputs": [
    {
     "name": "stdout",
     "output_type": "stream",
     "text": [
      "enter a number6\n",
      "1 2 3 6 factors 4\n",
      "not prime\n"
     ]
    }
   ],
   "source": [
    "n=int(input('enter a number'))\n",
    "c=0\n",
    "for i in range(1,n+1):\n",
    "    if n%i==0:\n",
    "        c+=1\n",
    "        print(i,end=\" \")\n",
    "print('factors',c)\n",
    "if c==2:\n",
    "    print('prime')\n",
    "else:\n",
    "    print('not prime')\n",
    "    "
   ]
  },
  {
   "cell_type": "code",
   "execution_count": 7,
   "id": "noble-principle",
   "metadata": {},
   "outputs": [
    {
     "name": "stdout",
     "output_type": "stream",
     "text": [
      "enter number5\n"
     ]
    }
   ],
   "source": [
    "n=int(input('enter number'))\n",
    "sum=0\n",
    "for i in range(n):\n",
    "    r=n%10\n",
    "    sum=sum+r\n",
    "    n=n/10\n",
    "if sum==n:\n",
    "    print('perfect')    "
   ]
  },
  {
   "cell_type": "markdown",
   "id": "hindu-expense",
   "metadata": {},
   "source": [
    "## while condition:\n",
    "## statements"
   ]
  },
  {
   "cell_type": "code",
   "execution_count": 5,
   "id": "revolutionary-kruger",
   "metadata": {},
   "outputs": [
    {
     "name": "stdout",
     "output_type": "stream",
     "text": [
      "1\n",
      "2\n",
      "3\n",
      "4\n",
      "5\n",
      "6\n",
      "7\n",
      "8\n",
      "9\n",
      "10\n"
     ]
    }
   ],
   "source": [
    "i=1\n",
    "while i<11:\n",
    "    print(i)\n",
    "    i+=1"
   ]
  },
  {
   "cell_type": "code",
   "execution_count": null,
   "id": "medical-zambia",
   "metadata": {},
   "outputs": [],
   "source": []
  }
 ],
 "metadata": {
  "kernelspec": {
   "display_name": "Python 3",
   "language": "python",
   "name": "python3"
  },
  "language_info": {
   "codemirror_mode": {
    "name": "ipython",
    "version": 3
   },
   "file_extension": ".py",
   "mimetype": "text/x-python",
   "name": "python",
   "nbconvert_exporter": "python",
   "pygments_lexer": "ipython3",
   "version": "3.8.1"
  }
 },
 "nbformat": 4,
 "nbformat_minor": 5
}
