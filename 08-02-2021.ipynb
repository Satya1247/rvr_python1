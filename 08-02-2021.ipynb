{
 "cells": [
  {
   "cell_type": "markdown",
   "id": "excited-hudson",
   "metadata": {},
   "source": [
    "### sets\n",
    "-special functions\n",
    "-modules and packages"
   ]
  },
  {
   "cell_type": "code",
   "execution_count": 8,
   "id": "secondary-possible",
   "metadata": {},
   "outputs": [
    {
     "data": {
      "text/plain": [
       "{1: 2, 2: 1, 3: 2, 4: 2, 5: 1, 6: 2}"
      ]
     },
     "execution_count": 8,
     "metadata": {},
     "output_type": "execute_result"
    }
   ],
   "source": [
    "l=[1,2,3,4,1,3,5,6,4,6]  ## list to dictionary\n",
    "d ={1:2,2:2,3:2,4:2,5:1,6:2} ###how many times repeats\n",
    "s=str(l)\n",
    "s  ## list can be converted to string ,any data type can be convert string\n",
    "d1={}\n",
    "for i in l:\n",
    "    d1[i]=l.count(i)\n",
    "d1"
   ]
  },
  {
   "cell_type": "code",
   "execution_count": 10,
   "id": "packed-labor",
   "metadata": {},
   "outputs": [
    {
     "data": {
      "text/plain": [
       "dict"
      ]
     },
     "execution_count": 10,
     "metadata": {},
     "output_type": "execute_result"
    }
   ],
   "source": [
    "s={}\n",
    "type(s)"
   ]
  },
  {
   "cell_type": "code",
   "execution_count": 16,
   "id": "positive-annual",
   "metadata": {},
   "outputs": [
    {
     "data": {
      "text/plain": [
       "{1, 12.5, 'hello'}"
      ]
     },
     "execution_count": 16,
     "metadata": {},
     "output_type": "execute_result"
    }
   ],
   "source": [
    "##in sets there is no empty dictionary\n",
    "s={1,'hello',12.5,1}\n",
    "type(s)  ## it is a collection of heterogenious data\n",
    "s ## it is a unordered data,we cant access values using index,,not support slicing due to unordered data ,duplicates are not allowed"
   ]
  },
  {
   "cell_type": "markdown",
   "id": "aggregate-tract",
   "metadata": {},
   "source": [
    " ## it is a collection of heterogenious data\n",
    "    ## it is a unordered data,we cant access values using index,,not support slicing due to unordered data ,duplicates are not allowed"
   ]
  },
  {
   "cell_type": "code",
   "execution_count": 22,
   "id": "assisted-emission",
   "metadata": {},
   "outputs": [
    {
     "data": {
      "text/plain": [
       "(4, 2, 3)"
      ]
     },
     "execution_count": 22,
     "metadata": {},
     "output_type": "execute_result"
    }
   ],
   "source": [
    "t=(1,2,3)\n",
    "t=list(t)\n",
    "t[0]=4\n",
    "t\n",
    "t=tuple(t)\n",
    "t"
   ]
  },
  {
   "cell_type": "code",
   "execution_count": 25,
   "id": "corporate-showcase",
   "metadata": {},
   "outputs": [
    {
     "data": {
      "text/plain": [
       "[1, 'hello', 12.5]"
      ]
     },
     "execution_count": 25,
     "metadata": {},
     "output_type": "execute_result"
    }
   ],
   "source": [
    "s=list(s)\n",
    "s"
   ]
  },
  {
   "cell_type": "code",
   "execution_count": 26,
   "id": "modified-trailer",
   "metadata": {},
   "outputs": [
    {
     "data": {
      "text/plain": [
       "{12.5, 9, 'hello'}"
      ]
     },
     "execution_count": 26,
     "metadata": {},
     "output_type": "execute_result"
    }
   ],
   "source": [
    "s[0]=9\n",
    "s=set(s)\n",
    "s"
   ]
  },
  {
   "cell_type": "code",
   "execution_count": 29,
   "id": "excited-attitude",
   "metadata": {},
   "outputs": [
    {
     "data": {
      "text/plain": [
       "['__and__',\n",
       " '__class__',\n",
       " '__contains__',\n",
       " '__delattr__',\n",
       " '__dir__',\n",
       " '__doc__',\n",
       " '__eq__',\n",
       " '__format__',\n",
       " '__ge__',\n",
       " '__getattribute__',\n",
       " '__gt__',\n",
       " '__hash__',\n",
       " '__iand__',\n",
       " '__init__',\n",
       " '__init_subclass__',\n",
       " '__ior__',\n",
       " '__isub__',\n",
       " '__iter__',\n",
       " '__ixor__',\n",
       " '__le__',\n",
       " '__len__',\n",
       " '__lt__',\n",
       " '__ne__',\n",
       " '__new__',\n",
       " '__or__',\n",
       " '__rand__',\n",
       " '__reduce__',\n",
       " '__reduce_ex__',\n",
       " '__repr__',\n",
       " '__ror__',\n",
       " '__rsub__',\n",
       " '__rxor__',\n",
       " '__setattr__',\n",
       " '__sizeof__',\n",
       " '__str__',\n",
       " '__sub__',\n",
       " '__subclasshook__',\n",
       " '__xor__',\n",
       " 'add',\n",
       " 'clear',\n",
       " 'copy',\n",
       " 'difference',\n",
       " 'difference_update',\n",
       " 'discard',\n",
       " 'intersection',\n",
       " 'intersection_update',\n",
       " 'isdisjoint',\n",
       " 'issubset',\n",
       " 'issuperset',\n",
       " 'pop',\n",
       " 'remove',\n",
       " 'symmetric_difference',\n",
       " 'symmetric_difference_update',\n",
       " 'union',\n",
       " 'update']"
      ]
     },
     "execution_count": 29,
     "metadata": {},
     "output_type": "execute_result"
    }
   ],
   "source": [
    "dir(s)"
   ]
  },
  {
   "cell_type": "markdown",
   "id": "worse-austin",
   "metadata": {},
   "source": [
    "# set is mutable"
   ]
  },
  {
   "cell_type": "code",
   "execution_count": 35,
   "id": "automotive-denver",
   "metadata": {},
   "outputs": [
    {
     "data": {
      "text/plain": [
       "{2, 4, 6, 8}"
      ]
     },
     "execution_count": 35,
     "metadata": {},
     "output_type": "execute_result"
    }
   ],
   "source": [
    "s1={1,2,3}\n",
    "s2={2,4,6}\n",
    "s2.add(8)\n",
    "s2\n",
    "s3=s2.copy()\n",
    "s3.add(12)\n",
    "s3"
   ]
  },
  {
   "cell_type": "code",
   "execution_count": 38,
   "id": "formed-affairs",
   "metadata": {},
   "outputs": [
    {
     "data": {
      "text/plain": [
       "{2, 4, 6, 8}"
      ]
     },
     "execution_count": 38,
     "metadata": {},
     "output_type": "execute_result"
    }
   ],
   "source": [
    "s2"
   ]
  },
  {
   "cell_type": "code",
   "execution_count": 39,
   "id": "surprising-destination",
   "metadata": {},
   "outputs": [
    {
     "data": {
      "text/plain": [
       "{1, 3}"
      ]
     },
     "execution_count": 39,
     "metadata": {},
     "output_type": "execute_result"
    }
   ],
   "source": [
    "s1.difference(s2)  ## s1-s2  s1,s2 common remaing elements in s1 is output"
   ]
  },
  {
   "cell_type": "code",
   "execution_count": 40,
   "id": "electric-homework",
   "metadata": {},
   "outputs": [
    {
     "data": {
      "text/plain": [
       "{4, 6, 8}"
      ]
     },
     "execution_count": 40,
     "metadata": {},
     "output_type": "execute_result"
    }
   ],
   "source": [
    "s2.difference(s1)"
   ]
  },
  {
   "cell_type": "code",
   "execution_count": 41,
   "id": "regular-father",
   "metadata": {},
   "outputs": [],
   "source": [
    "s2.difference_update(s1)"
   ]
  },
  {
   "cell_type": "code",
   "execution_count": 42,
   "id": "completed-shaft",
   "metadata": {},
   "outputs": [
    {
     "data": {
      "text/plain": [
       "{4, 6, 8}"
      ]
     },
     "execution_count": 42,
     "metadata": {},
     "output_type": "execute_result"
    }
   ],
   "source": [
    "s2"
   ]
  },
  {
   "cell_type": "code",
   "execution_count": 45,
   "id": "preceding-stream",
   "metadata": {},
   "outputs": [],
   "source": [
    "s2.discard(2)"
   ]
  },
  {
   "cell_type": "code",
   "execution_count": 46,
   "id": "turkish-dating",
   "metadata": {},
   "outputs": [
    {
     "data": {
      "text/plain": [
       "{4, 6, 8}"
      ]
     },
     "execution_count": 46,
     "metadata": {},
     "output_type": "execute_result"
    }
   ],
   "source": [
    "s2"
   ]
  },
  {
   "cell_type": "code",
   "execution_count": 48,
   "id": "minor-trunk",
   "metadata": {},
   "outputs": [
    {
     "data": {
      "text/plain": [
       "{2}"
      ]
     },
     "execution_count": 48,
     "metadata": {},
     "output_type": "execute_result"
    }
   ],
   "source": [
    "s1.intersection(s3)"
   ]
  },
  {
   "cell_type": "code",
   "execution_count": 51,
   "id": "frank-reliance",
   "metadata": {},
   "outputs": [],
   "source": [
    "s1.intersection_update(s3)"
   ]
  },
  {
   "cell_type": "code",
   "execution_count": 54,
   "id": "quantitative-updating",
   "metadata": {},
   "outputs": [
    {
     "data": {
      "text/plain": [
       "set()"
      ]
     },
     "execution_count": 54,
     "metadata": {},
     "output_type": "execute_result"
    }
   ],
   "source": [
    "s3\n",
    "s1"
   ]
  },
  {
   "cell_type": "code",
   "execution_count": 56,
   "id": "mysterious-shift",
   "metadata": {},
   "outputs": [
    {
     "data": {
      "text/plain": [
       "False"
      ]
     },
     "execution_count": 56,
     "metadata": {},
     "output_type": "execute_result"
    }
   ],
   "source": [
    "s3.isdisjoint(s2)  ## THERE IS A COMMON "
   ]
  },
  {
   "cell_type": "code",
   "execution_count": 58,
   "id": "institutional-metropolitan",
   "metadata": {},
   "outputs": [
    {
     "name": "stdout",
     "output_type": "stream",
     "text": [
      "{8, 4, 6}\n",
      "{2, 4, 6, 8, 12}\n"
     ]
    },
    {
     "data": {
      "text/plain": [
       "True"
      ]
     },
     "execution_count": 58,
     "metadata": {},
     "output_type": "execute_result"
    }
   ],
   "source": [
    "print(s2)  ## s2 is a subset\n",
    "print(s3)  ### is a superset\n",
    "s2.issubset(s3)"
   ]
  },
  {
   "cell_type": "code",
   "execution_count": 59,
   "id": "polar-automation",
   "metadata": {},
   "outputs": [
    {
     "data": {
      "text/plain": [
       "False"
      ]
     },
     "execution_count": 59,
     "metadata": {},
     "output_type": "execute_result"
    }
   ],
   "source": [
    "s3.issubset(s2)"
   ]
  },
  {
   "cell_type": "code",
   "execution_count": 60,
   "id": "narrow-rubber",
   "metadata": {},
   "outputs": [
    {
     "data": {
      "text/plain": [
       "True"
      ]
     },
     "execution_count": 60,
     "metadata": {},
     "output_type": "execute_result"
    }
   ],
   "source": [
    "s3.issuperset(s2)"
   ]
  },
  {
   "cell_type": "code",
   "execution_count": 61,
   "id": "returning-signature",
   "metadata": {},
   "outputs": [
    {
     "data": {
      "text/plain": [
       "9"
      ]
     },
     "execution_count": 61,
     "metadata": {},
     "output_type": "execute_result"
    }
   ],
   "source": [
    "s.pop()"
   ]
  },
  {
   "cell_type": "code",
   "execution_count": 62,
   "id": "destroyed-polymer",
   "metadata": {},
   "outputs": [
    {
     "data": {
      "text/plain": [
       "{12.5, 'hello'}"
      ]
     },
     "execution_count": 62,
     "metadata": {},
     "output_type": "execute_result"
    }
   ],
   "source": [
    "s"
   ]
  },
  {
   "cell_type": "code",
   "execution_count": 64,
   "id": "arbitrary-mirror",
   "metadata": {},
   "outputs": [
    {
     "data": {
      "text/plain": [
       "{6, 8, 12}"
      ]
     },
     "execution_count": 64,
     "metadata": {},
     "output_type": "execute_result"
    }
   ],
   "source": [
    "s3.pop()\n",
    "s3## random element delete"
   ]
  },
  {
   "cell_type": "code",
   "execution_count": 65,
   "id": "laughing-viewer",
   "metadata": {},
   "outputs": [],
   "source": [
    "s.remove(12.5)"
   ]
  },
  {
   "cell_type": "code",
   "execution_count": 73,
   "id": "gross-forward",
   "metadata": {},
   "outputs": [
    {
     "data": {
      "text/plain": [
       "set()"
      ]
     },
     "execution_count": 73,
     "metadata": {},
     "output_type": "execute_result"
    }
   ],
   "source": [
    "s\n"
   ]
  },
  {
   "cell_type": "code",
   "execution_count": 75,
   "id": "latin-authorization",
   "metadata": {},
   "outputs": [
    {
     "name": "stdout",
     "output_type": "stream",
     "text": [
      "{8, 4, 6}\n",
      "{6, 8, 12}\n"
     ]
    },
    {
     "data": {
      "text/plain": [
       "{4, 12}"
      ]
     },
     "execution_count": 75,
     "metadata": {},
     "output_type": "execute_result"
    }
   ],
   "source": [
    "print(s2)  ## both sets are compared common elements removed\n",
    "print(s3)\n",
    "s2.symmetric_difference(s3)"
   ]
  },
  {
   "cell_type": "code",
   "execution_count": 76,
   "id": "written-worcester",
   "metadata": {},
   "outputs": [],
   "source": [
    "s2.symmetric_difference_update(s3)"
   ]
  },
  {
   "cell_type": "code",
   "execution_count": 77,
   "id": "urban-institute",
   "metadata": {},
   "outputs": [
    {
     "data": {
      "text/plain": [
       "{4, 12}"
      ]
     },
     "execution_count": 77,
     "metadata": {},
     "output_type": "execute_result"
    }
   ],
   "source": [
    "s2"
   ]
  },
  {
   "cell_type": "code",
   "execution_count": 78,
   "id": "imposed-circumstances",
   "metadata": {},
   "outputs": [
    {
     "data": {
      "text/plain": [
       "{4, 6, 8, 12}"
      ]
     },
     "execution_count": 78,
     "metadata": {},
     "output_type": "execute_result"
    }
   ],
   "source": [
    "s2.union(s3)"
   ]
  },
  {
   "cell_type": "code",
   "execution_count": 79,
   "id": "accompanied-england",
   "metadata": {},
   "outputs": [
    {
     "data": {
      "text/plain": [
       "{1, 2, 3}"
      ]
     },
     "execution_count": 79,
     "metadata": {},
     "output_type": "execute_result"
    }
   ],
   "source": [
    "a={1,2,3}\n",
    "b={1,2,3}\n",
    "a.union(b)"
   ]
  },
  {
   "cell_type": "markdown",
   "id": "medium-gibraltar",
   "metadata": {},
   "source": [
    "# special functions\n",
    "-comprehensions,lambda,itterator"
   ]
  },
  {
   "cell_type": "code",
   "execution_count": 83,
   "id": "uniform-lingerie",
   "metadata": {},
   "outputs": [
    {
     "data": {
      "text/plain": [
       "[1, 2, 3, 4, 5, 6, 7, 8, 9, 10]"
      ]
     },
     "execution_count": 83,
     "metadata": {},
     "output_type": "execute_result"
    }
   ],
   "source": [
    "l=[]\n",
    "for i in range(0,10):\n",
    "    i+=1\n",
    "    l.append(i)\n",
    "l"
   ]
  },
  {
   "cell_type": "code",
   "execution_count": 86,
   "id": "mediterranean-manual",
   "metadata": {},
   "outputs": [
    {
     "name": "stdout",
     "output_type": "stream",
     "text": [
      "2\n",
      "4\n",
      "6\n",
      "8\n",
      "10\n"
     ]
    }
   ],
   "source": [
    "for i in l:\n",
    "    if i%2==0:\n",
    "        print(i)"
   ]
  },
  {
   "cell_type": "code",
   "execution_count": 91,
   "id": "sought-reverse",
   "metadata": {},
   "outputs": [
    {
     "data": {
      "text/plain": [
       "[1, 3, 5, 7, 9]"
      ]
     },
     "execution_count": 91,
     "metadata": {},
     "output_type": "execute_result"
    }
   ],
   "source": [
    "### comprehensions\n",
    "##we compressing the code\n",
    "l=[i for i in range(1,10+1) if i%2!=0]\n",
    "l"
   ]
  },
  {
   "cell_type": "code",
   "execution_count": 97,
   "id": "duplicate-dublin",
   "metadata": {},
   "outputs": [
    {
     "data": {
      "text/plain": [
       "True"
      ]
     },
     "execution_count": 97,
     "metadata": {},
     "output_type": "execute_result"
    }
   ],
   "source": [
    "def is_prime(n):\n",
    "    c=0\n",
    "    for i in range(1,n):\n",
    "        if n%i==0:\n",
    "            c+=1\n",
    "    if c==1:\n",
    "        return True\n",
    "    else:\n",
    "        return False\n",
    "is_prime(3)"
   ]
  },
  {
   "cell_type": "code",
   "execution_count": 104,
   "id": "hired-tiger",
   "metadata": {},
   "outputs": [
    {
     "name": "stdout",
     "output_type": "stream",
     "text": [
      "[2, 3, 5, 7, 11, 13, 17, 19, 23, 29, 31, 37, 41, 43, 47, 53, 59, 61, 67, 71, 73, 79, 83, 89, 97]\n"
     ]
    },
    {
     "data": {
      "text/plain": [
       "25"
      ]
     },
     "execution_count": 104,
     "metadata": {},
     "output_type": "execute_result"
    }
   ],
   "source": [
    "prime_list=[i for i in range(1,100) if is_prime(i)]\n",
    "print(prime_list)\n",
    "len(prime_list)"
   ]
  },
  {
   "cell_type": "code",
   "execution_count": 107,
   "id": "reported-tsunami",
   "metadata": {},
   "outputs": [
    {
     "name": "stdout",
     "output_type": "stream",
     "text": [
      "{2, 3, 5, 7, 11, 13, 17, 19, 23, 29, 31, 37, 41, 43, 47, 53, 59, 61, 67, 71, 73, 79, 83, 89, 97}\n"
     ]
    }
   ],
   "source": [
    "prime_list={i for i in range(1,100) if is_prime(i)}  ## sets\n",
    "print(prime_list)"
   ]
  },
  {
   "cell_type": "code",
   "execution_count": 108,
   "id": "responsible-conviction",
   "metadata": {},
   "outputs": [
    {
     "data": {
      "text/plain": [
       "{2: 8, 3: 27, 5: 125, 7: 343}"
      ]
     },
     "execution_count": 108,
     "metadata": {},
     "output_type": "execute_result"
    }
   ],
   "source": [
    "d={i:i**3 for i in range(1,11) if is_prime(i)}\n",
    "d"
   ]
  },
  {
   "cell_type": "code",
   "execution_count": 109,
   "id": "single-distributor",
   "metadata": {},
   "outputs": [
    {
     "data": {
      "text/plain": [
       "{'a': 1, 'b': 2, 'c': 3, 'd': 4}"
      ]
     },
     "execution_count": 109,
     "metadata": {},
     "output_type": "execute_result"
    }
   ],
   "source": [
    "s='abbcccdddd'\n",
    "d1={}\n",
    "for i in s:\n",
    "    d1[i]=s.count(i)\n",
    "d1\n"
   ]
  },
  {
   "cell_type": "code",
   "execution_count": 117,
   "id": "adult-january",
   "metadata": {},
   "outputs": [
    {
     "data": {
      "text/plain": [
       "{'a': 1, 'b': 2, 'c': 3, 'd': 4}"
      ]
     },
     "execution_count": 117,
     "metadata": {},
     "output_type": "execute_result"
    }
   ],
   "source": [
    "d={i:s.count(i) for i in s}\n",
    "d"
   ]
  },
  {
   "cell_type": "code",
   "execution_count": 118,
   "id": "hollow-waste",
   "metadata": {},
   "outputs": [],
   "source": [
    "### lambda\n",
    "syntax:var=lambda arg:expression \n"
   ]
  },
  {
   "cell_type": "code",
   "execution_count": 125,
   "id": "rental-brass",
   "metadata": {},
   "outputs": [
    {
     "data": {
      "text/plain": [
       "18"
      ]
     },
     "execution_count": 125,
     "metadata": {},
     "output_type": "execute_result"
    }
   ],
   "source": [
    "\"\"\"def add(a,b):\n",
    "    return a+b\n",
    "add(1,2)\"\"\"\n",
    "c=lambda a,b,c:a+b+c\n",
    "c(3,6,9)"
   ]
  },
  {
   "cell_type": "code",
   "execution_count": 128,
   "id": "revolutionary-marathon",
   "metadata": {},
   "outputs": [
    {
     "name": "stdout",
     "output_type": "stream",
     "text": [
      "A\n",
      "P\n",
      "S\n",
      "S\n",
      "D\n",
      "C\n"
     ]
    }
   ],
   "source": [
    "### itterators\n",
    "s='APSSDC'\n",
    "for i in s:\n",
    "    print(i)"
   ]
  },
  {
   "cell_type": "code",
   "execution_count": null,
   "id": "greenhouse-romantic",
   "metadata": {},
   "outputs": [],
   "source": []
  }
 ],
 "metadata": {
  "kernelspec": {
   "display_name": "Python 3",
   "language": "python",
   "name": "python3"
  },
  "language_info": {
   "codemirror_mode": {
    "name": "ipython",
    "version": 3
   },
   "file_extension": ".py",
   "mimetype": "text/x-python",
   "name": "python",
   "nbconvert_exporter": "python",
   "pygments_lexer": "ipython3",
   "version": "3.8.1"
  }
 },
 "nbformat": 4,
 "nbformat_minor": 5
}
