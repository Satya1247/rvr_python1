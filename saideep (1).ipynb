{
 "cells": [
  {
   "cell_type": "markdown",
   "id": "67135043",
   "metadata": {},
   "source": [
    "task 1 : print numbers usig while"
   ]
  },
  {
   "cell_type": "code",
   "execution_count": 3,
   "id": "de2f0f4c",
   "metadata": {},
   "outputs": [
    {
     "name": "stdout",
     "output_type": "stream",
     "text": [
      "100 101 102 103 104 105 106 107 108 109 110 111 112 113 114 115 116 117 118 119 120 121 122 123 124 125 126 127 128 129 130 131 132 133 134 135 136 137 138 139 140 141 142 143 144 145 146 147 148 149 150 151 152 153 154 155 "
     ]
    }
   ],
   "source": [
    "i=100\n",
    "l=[]\n",
    "while i<=200:\n",
    "    if i==156:\n",
    "        break\n",
    "    else:    \n",
    "        print(i,end=\" \")\n",
    "        l.append(i)\n",
    "        i+=1"
   ]
  },
  {
   "cell_type": "markdown",
   "id": "0b72ccaa",
   "metadata": {},
   "source": [
    "#Task 2"
   ]
  },
  {
   "cell_type": "markdown",
   "id": "412d5ee0",
   "metadata": {},
   "source": [
    "#Refer task 1 and print even and odd number"
   ]
  },
  {
   "cell_type": "code",
   "execution_count": 8,
   "id": "277828b3",
   "metadata": {},
   "outputs": [
    {
     "name": "stdout",
     "output_type": "stream",
     "text": [
      "even numbers are [100, 102, 104, 106, 108, 110, 112, 114, 116, 118, 120, 122, 124, 126, 128, 130, 132, 134, 136, 138, 140, 142, 144, 146, 148, 150, 152, 154]\n",
      "odd numbers are [101, 103, 105, 107, 109, 111, 113, 115, 117, 119, 121, 123, 125, 127, 129, 131, 133, 135, 137, 139, 141, 143, 145, 147, 149, 151, 153, 155]\n"
     ]
    }
   ],
   "source": [
    "even=[]\n",
    "odd=[]\n",
    "for i in l:\n",
    "    if i%2==0:\n",
    "        even.append(i)\n",
    "    else:\n",
    "        odd.append(i)\n",
    "print(\"even numbers are {}\".format(even))\n",
    "print(\"odd numbers are {}\".format(odd))"
   ]
  },
  {
   "cell_type": "markdown",
   "id": "c5e9407b",
   "metadata": {},
   "source": [
    "Task 3\n",
    "Take value from the user and Seprate them into Positive & negative number."
   ]
  },
  {
   "cell_type": "code",
   "execution_count": 9,
   "id": "941a7e20",
   "metadata": {},
   "outputs": [
    {
     "name": "stdout",
     "output_type": "stream",
     "text": [
      "enter a number-5\n",
      "Negative number\n"
     ]
    }
   ],
   "source": [
    "n=int(input(\"enter a number\"))\n",
    "if n>=0:\n",
    "    print(\"Positive number\")\n",
    "else:\n",
    "    print(\"Negative number\")"
   ]
  },
  {
   "cell_type": "markdown",
   "id": "56ff33f6",
   "metadata": {},
   "source": [
    "task 4 : print this tuple in reverse format"
   ]
  },
  {
   "cell_type": "code",
   "execution_count": 2,
   "id": "267173a0",
   "metadata": {},
   "outputs": [
    {
     "name": "stdout",
     "output_type": "stream",
     "text": [
      "('mango', 'melon', 'kiwi', 'orange', 'cherry', 'banana', 'apple')\n"
     ]
    }
   ],
   "source": [
    "thistuple=(\"apple\",\"banana\",\"cherry\",\"orange\",\"kiwi\",\"melon\",\"mango\")\n",
    "print(thistuple[::-1])"
   ]
  },
  {
   "cell_type": "markdown",
   "id": "062b509b",
   "metadata": {},
   "source": [
    "Task 5\n",
    "Calculate mean, median, mode and standard deviation of given list.\n",
    "A=[2,5,6,9,7,3]\n",
    "B=[2,5,3,2,8,3,2,1,9,4,2,5,6]\n",
    "C=[1,1.5,2,2.5,3,3.5,4,5,6,4.5,5]"
   ]
  },
  {
   "cell_type": "code",
   "execution_count": 25,
   "id": "dad1ed41",
   "metadata": {},
   "outputs": [
    {
     "name": "stdout",
     "output_type": "stream",
     "text": [
      "3\n",
      "2 5 3 9 7 6\n",
      "mean of those numbers is 5.333333333333333\n",
      "median of those numbers is 5.5\n",
      "No mode\n",
      "2 5 3 2 8 3 2 1 9 4 2 5 6\n",
      "mean of those numbers is 4.0\n",
      "median of those numbers is 3.0\n",
      "Mode is2.0\n",
      "1 1.5 2 2.5 3 3.5 4 5 6 4.5 5\n",
      "mean of those numbers is 3.4545454545454546\n",
      "median of those numbers is 3.5\n",
      "Mode is5.0\n"
     ]
    }
   ],
   "source": [
    "from collections import Counter\n",
    "def mean(l):\n",
    "    n=len(l)\n",
    "    sum1=sum(l)\n",
    "    mean=sum1/n\n",
    "    print(\"mean of those numbers is {}\".format(mean))\n",
    "def median(l):\n",
    "    n=len(l)\n",
    "    l.sort()\n",
    "    if n%2==0:\n",
    "        median0=l[n//2]\n",
    "        median1=l[n//2-1]\n",
    "        median=(median0+median1)/2\n",
    "    else:\n",
    "        median=l[n//2]\n",
    "    print(\"median of those numbers is {}\".format(median))\n",
    "def mode(arr):\n",
    "    n=len(arr)\n",
    "    data = Counter(arr) \n",
    "    get_mode = dict(data) \n",
    "\n",
    "    mode = [k for k, v in get_mode.items() if v == max(list(data.values()))] \n",
    "\n",
    "  \n",
    "\n",
    "    if len(mode) == n: \n",
    "        mode = \"No mode\"\n",
    "\n",
    "    else: \n",
    "        mode = \"Mode is\" + ', '.join(map(str, mode)) \n",
    "    print(mode)\n",
    "t=int(input())\n",
    "for i in range(t):\n",
    "    l=list(map(float,input().split()))\n",
    "    mean(l)\n",
    "    median(l)\n",
    "    mode(l)\n",
    "\n",
    "        "
   ]
  },
  {
   "cell_type": "markdown",
   "id": "6c840dab",
   "metadata": {},
   "source": [
    "Task 6:\n",
    "Write a program to find compound interest\n",
    "\n",
    "A = P(1 + R/100) t\n",
    "\n",
    "Compound Interest = A – P Where,\n",
    "\n",
    "A is amount\n",
    "\n",
    "P is principle amount\n",
    "\n",
    "R is the rate and\n",
    "\n",
    "T is the time span"
   ]
  },
  {
   "cell_type": "code",
   "execution_count": 29,
   "id": "1004c68a",
   "metadata": {},
   "outputs": [
    {
     "data": {
      "text/plain": [
       "61.208000000000084"
      ]
     },
     "execution_count": 29,
     "metadata": {},
     "output_type": "execute_result"
    }
   ],
   "source": [
    "def compound_interest(P,R,T):\n",
    "    A=P*pow((1+R/100),T)\n",
    "    CI=A-P\n",
    "    return CI\n",
    "compound_interest(1000,2,3)"
   ]
  },
  {
   "cell_type": "markdown",
   "id": "624d5abd",
   "metadata": {},
   "source": [
    "#task 7 : sum all elements in the list"
   ]
  },
  {
   "cell_type": "code",
   "execution_count": 4,
   "id": "2fee1cf0",
   "metadata": {},
   "outputs": [
    {
     "name": "stdout",
     "output_type": "stream",
     "text": [
      "35\n"
     ]
    }
   ],
   "source": [
    "sum=0\n",
    "list=[2,3,4,-4,5,6,7,12]\n",
    "for i in list:\n",
    "    sum+=i\n",
    "print(sum)    "
   ]
  },
  {
   "cell_type": "markdown",
   "id": "4d8d1683",
   "metadata": {},
   "source": [
    "task 8: A company decided to give bonus of 5% to employee if his/her year of service is more than 5 years.\n",
    "       Ask user for their salary and year of service and print the net bonus amount"
   ]
  },
  {
   "cell_type": "code",
   "execution_count": 20,
   "id": "8ad8a2ca",
   "metadata": {},
   "outputs": [
    {
     "name": "stdout",
     "output_type": "stream",
     "text": [
      "Enter your salary = 50000\n",
      "Enter your year of service = 10\n",
      "Your Net bonus is 2500.0\n"
     ]
    }
   ],
   "source": [
    "salary = int(input(\"Enter your salary = \"))\n",
    "\n",
    "year = int(input(\"Enter your year of service = \"))\n",
    "\n",
    "if year>5:\n",
    "\n",
    "   print(\"Your Net bonus is\",0.05*salary)"
   ]
  },
  {
   "cell_type": "markdown",
   "id": "194db492",
   "metadata": {},
   "source": [
    "tas9 : Take values of length and breadth of a rectangle from user and check if it is square or not.\n",
    "     Take two int values from user and print greatest among them.\n"
   ]
  },
  {
   "cell_type": "code",
   "execution_count": 5,
   "id": "1094c35e",
   "metadata": {},
   "outputs": [
    {
     "name": "stdout",
     "output_type": "stream",
     "text": [
      "enter the length20\n",
      "enter the bredth20\n",
      "it is square\n"
     ]
    }
   ],
   "source": [
    "length=int(input(\"enter the length\"))\n",
    "breadth=int(input(\"enter the bredth\"))\n",
    "if length==breadth:\n",
    "    print(\"it is square\")\n",
    "else:\n",
    "    print(\"it is rectangle\")"
   ]
  },
  {
   "cell_type": "markdown",
   "id": "bfb84991",
   "metadata": {},
   "source": [
    "task 10 : "
   ]
  },
  {
   "cell_type": "code",
   "execution_count": 21,
   "id": "5cd2e9a2",
   "metadata": {},
   "outputs": [
    {
     "name": "stdout",
     "output_type": "stream",
     "text": [
      "Number of classes held:50\n",
      "Number of classes attended:40\n",
      "The student is allowed to sit in the exam hall\n"
     ]
    }
   ],
   "source": [
    "a=int(input(\"Number of classes held:\"))\n",
    "\n",
    "b=int(input(\"Number of classes attended:\"))\n",
    "\n",
    "percentage=b/a*100\n",
    "\n",
    "if percentage>=75:\n",
    "\n",
    "        print(\"The student is allowed to sit in the exam hall\")\n",
    "\n",
    "else:\n",
    "\n",
    "        print(\"The student is not allowed to sit in the exam hall\")"
   ]
  },
  {
   "cell_type": "markdown",
   "id": "cb7a6104",
   "metadata": {},
   "source": [
    "task 11: Write a program to find prime factor of a number.\n",
    "    If a factor of a number is prime number then it is its prime factor.\n",
    "     Write a program to print all prime number in between 1 to 100. \n"
   ]
  },
  {
   "cell_type": "code",
   "execution_count": 22,
   "id": "54a7435e",
   "metadata": {},
   "outputs": [
    {
     "name": "stdout",
     "output_type": "stream",
     "text": [
      "2\n",
      "2\n",
      "2\n",
      "5\n",
      "5\n"
     ]
    }
   ],
   "source": [
    "import math  \n",
    "def prime_factors(num):    \n",
    "    while num % 2 == 0:  \n",
    "        print(2,)  \n",
    "        num = num / 2  \n",
    "  \n",
    "    for i in range(3, int(math.sqrt(num)) + 1, 2):   \n",
    "        while num % i == 0:  \n",
    "            print(i,)  \n",
    "            num = num / i  \n",
    "    if num > 2:  \n",
    "        print(num)   \n",
    "num = 200  \n",
    "prime_factors(num) "
   ]
  },
  {
   "cell_type": "markdown",
   "id": "094bf8ae",
   "metadata": {},
   "source": [
    "task 12: Write a program to print Fibonacci series up to n terms."
   ]
  },
  {
   "cell_type": "code",
   "execution_count": 23,
   "id": "af230d37",
   "metadata": {},
   "outputs": [
    {
     "name": "stdout",
     "output_type": "stream",
     "text": [
      "enter a num10\n",
      "Fibonacci Series: 0 1 1 2 3 5 8 13 21 34 \n"
     ]
    }
   ],
   "source": [
    "num=int(input(\"enter a num\"))\n",
    "n1, n2 = 0, 1\n",
    "print(\"Fibonacci Series:\", n1, n2, end=\" \")\n",
    "for i in range(2, num):\n",
    "    n3 = n1 + n2\n",
    "    n1 = n2\n",
    "    n2 = n3\n",
    "    print(n3, end=\" \")\n",
    "\n",
    "print()"
   ]
  },
  {
   "cell_type": "markdown",
   "id": "8b09e4f5",
   "metadata": {},
   "source": [
    "task 13:"
   ]
  },
  {
   "cell_type": "code",
   "execution_count": 24,
   "id": "3884b2b1",
   "metadata": {},
   "outputs": [
    {
     "name": "stdout",
     "output_type": "stream",
     "text": [
      "*\r\n",
      "**\r\n",
      "***\r\n",
      "****\r\n"
     ]
    }
   ],
   "source": [
    "def pypart(n):\n",
    "    for i in range(n):\n",
    "        for j in range(i+1):\n",
    "            print(\"*\",end=\"\")\n",
    "        print(\"\\r\")\n",
    "n=4\n",
    "pypart(n)\n",
    "            "
   ]
  },
  {
   "cell_type": "code",
   "execution_count": 25,
   "id": "a95f391e",
   "metadata": {},
   "outputs": [
    {
     "name": "stdout",
     "output_type": "stream",
     "text": [
      "    * \n",
      "   * * \n",
      "  * * * \n",
      " * * * * \n",
      "  * * * \n",
      "   * * \n",
      "    * \n"
     ]
    }
   ],
   "source": [
    "rows = 3\n",
    "k = 2 * rows - 2\n",
    "for i in range(0, rows):\n",
    "    for j in range(0, k):\n",
    "        print(end=\" \")\n",
    "    k = k - 1\n",
    "    for j in range(0, i + 1):\n",
    "        print(\"* \", end=\"\")\n",
    "    print(\"\")\n",
    "    \n",
    "k = rows - 2\n",
    "\n",
    "for i in range(rows, -1, -1):\n",
    "    for j in range(k, 0, -1):\n",
    "        print(end=\" \")\n",
    "    k = k + 1\n",
    "    for j in range(0, i + 1):\n",
    "        print(\"* \", end=\"\")\n",
    "    print(\"\")"
   ]
  },
  {
   "cell_type": "markdown",
   "id": "fd59d637",
   "metadata": {},
   "source": [
    "task 14 : Create a function that accepts a string and calculate the number of upper case letters and lower case letters.\n"
   ]
  },
  {
   "cell_type": "code",
   "execution_count": 8,
   "id": "c7e27926",
   "metadata": {},
   "outputs": [
    {
     "name": "stdout",
     "output_type": "stream",
     "text": [
      "Original String :  The quick Brown Fox\n",
      "No. of Upper case characters :  3\n",
      "No. of Lower case Characters :  13\n"
     ]
    }
   ],
   "source": [
    "def string_test(s):\n",
    "    d={\"UPPER_CASE\":0, \"LOWER_CASE\":0}\n",
    "    for c in s:\n",
    "        if c.isupper():\n",
    "           d[\"UPPER_CASE\"]+=1\n",
    "        elif c.islower():\n",
    "           d[\"LOWER_CASE\"]+=1\n",
    "        else:\n",
    "           pass\n",
    "    print (\"Original String : \", s)\n",
    "    print (\"No. of Upper case characters : \", d[\"UPPER_CASE\"])\n",
    "    print (\"No. of Lower case Characters : \", d[\"LOWER_CASE\"])\n",
    "\n",
    "string_test('The quick Brown Fox')"
   ]
  },
  {
   "cell_type": "markdown",
   "id": "0a728533",
   "metadata": {},
   "source": [
    "task 15: Write a Python program to convert radian to degree with using math module.\n",
    "   "
   ]
  },
  {
   "cell_type": "code",
   "execution_count": 9,
   "id": "367af607",
   "metadata": {},
   "outputs": [
    {
     "name": "stdout",
     "output_type": "stream",
     "text": [
      "Input radians: 10\n",
      "572.7272727272727\n"
     ]
    }
   ],
   "source": [
    "pi=22/7\n",
    "radian = float(input(\"Input radians: \"))\n",
    "degree = radian*(180/pi)\n",
    "print(degree)"
   ]
  },
  {
   "cell_type": "code",
   "execution_count": null,
   "id": "bf4bc8cb",
   "metadata": {},
   "outputs": [],
   "source": []
  }
 ],
 "metadata": {
  "kernelspec": {
   "display_name": "Python 3 (ipykernel)",
   "language": "python",
   "name": "python3"
  },
  "language_info": {
   "codemirror_mode": {
    "name": "ipython",
    "version": 3
   },
   "file_extension": ".py",
   "mimetype": "text/x-python",
   "name": "python",
   "nbconvert_exporter": "python",
   "pygments_lexer": "ipython3",
   "version": "3.9.7"
  }
 },
 "nbformat": 4,
 "nbformat_minor": 5
}
