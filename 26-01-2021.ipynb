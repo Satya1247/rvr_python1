{
 "cells": [
  {
   "cell_type": "code",
   "execution_count": 2,
   "id": "necessary-trading",
   "metadata": {},
   "outputs": [
    {
     "name": "stdout",
     "output_type": "stream",
     "text": [
      "enter6\n",
      "perfect\n"
     ]
    }
   ],
   "source": [
    "n=int(input('enter'))\n",
    "s=0\n",
    "for i in range(1,n):\n",
    "    if n%i==0:\n",
    "        s+=i\n",
    "if s==n:\n",
    "    print('perfect')\n",
    "elif s>n:\n",
    "    print('abundant')\n",
    "else:\n",
    "    print('deficient')"
   ]
  },
  {
   "cell_type": "code",
   "execution_count": 1,
   "id": "varying-skill",
   "metadata": {},
   "outputs": [
    {
     "name": "stdout",
     "output_type": "stream",
     "text": [
      "enter table upto7\n",
      "table length20\n",
      "1*1=1\n",
      "1*2=2\n",
      "1*3=3\n",
      "1*4=4\n",
      "1*5=5\n",
      "1*6=6\n",
      "1*7=7\n",
      "1*8=8\n",
      "1*9=9\n",
      "1*10=10\n",
      "1*11=11\n",
      "1*12=12\n",
      "1*13=13\n",
      "1*14=14\n",
      "1*15=15\n",
      "1*16=16\n",
      "1*17=17\n",
      "1*18=18\n",
      "1*19=19\n",
      "1*20=20\n",
      "2*1=2\n",
      "2*2=4\n",
      "2*3=6\n",
      "2*4=8\n",
      "2*5=10\n",
      "2*6=12\n",
      "2*7=14\n",
      "2*8=16\n",
      "2*9=18\n",
      "2*10=20\n",
      "2*11=22\n",
      "2*12=24\n",
      "2*13=26\n",
      "2*14=28\n",
      "2*15=30\n",
      "2*16=32\n",
      "2*17=34\n",
      "2*18=36\n",
      "2*19=38\n",
      "2*20=40\n",
      "3*1=3\n",
      "3*2=6\n",
      "3*3=9\n",
      "3*4=12\n",
      "3*5=15\n",
      "3*6=18\n",
      "3*7=21\n",
      "3*8=24\n",
      "3*9=27\n",
      "3*10=30\n",
      "3*11=33\n",
      "3*12=36\n",
      "3*13=39\n",
      "3*14=42\n",
      "3*15=45\n",
      "3*16=48\n",
      "3*17=51\n",
      "3*18=54\n",
      "3*19=57\n",
      "3*20=60\n",
      "4*1=4\n",
      "4*2=8\n",
      "4*3=12\n",
      "4*4=16\n",
      "4*5=20\n",
      "4*6=24\n",
      "4*7=28\n",
      "4*8=32\n",
      "4*9=36\n",
      "4*10=40\n",
      "4*11=44\n",
      "4*12=48\n",
      "4*13=52\n",
      "4*14=56\n",
      "4*15=60\n",
      "4*16=64\n",
      "4*17=68\n",
      "4*18=72\n",
      "4*19=76\n",
      "4*20=80\n",
      "5*1=5\n",
      "5*2=10\n",
      "5*3=15\n",
      "5*4=20\n",
      "5*5=25\n",
      "5*6=30\n",
      "5*7=35\n",
      "5*8=40\n",
      "5*9=45\n",
      "5*10=50\n",
      "5*11=55\n",
      "5*12=60\n",
      "5*13=65\n",
      "5*14=70\n",
      "5*15=75\n",
      "5*16=80\n",
      "5*17=85\n",
      "5*18=90\n",
      "5*19=95\n",
      "5*20=100\n",
      "6*1=6\n",
      "6*2=12\n",
      "6*3=18\n",
      "6*4=24\n",
      "6*5=30\n",
      "6*6=36\n",
      "6*7=42\n",
      "6*8=48\n",
      "6*9=54\n",
      "6*10=60\n",
      "6*11=66\n",
      "6*12=72\n",
      "6*13=78\n",
      "6*14=84\n",
      "6*15=90\n",
      "6*16=96\n",
      "6*17=102\n",
      "6*18=108\n",
      "6*19=114\n",
      "6*20=120\n",
      "7*1=7\n",
      "7*2=14\n",
      "7*3=21\n",
      "7*4=28\n",
      "7*5=35\n",
      "7*6=42\n",
      "7*7=49\n",
      "7*8=56\n",
      "7*9=63\n",
      "7*10=70\n",
      "7*11=77\n",
      "7*12=84\n",
      "7*13=91\n",
      "7*14=98\n",
      "7*15=105\n",
      "7*16=112\n",
      "7*17=119\n",
      "7*18=126\n",
      "7*19=133\n",
      "7*20=140\n"
     ]
    }
   ],
   "source": [
    "t=int(input('enter table upto'))\n",
    "t_len=int(input('table length'))\n",
    "for i in range(1,t+1):\n",
    "    for j in range(1,t_len+1):\n",
    "        print('{}*{}={}'.format(i,j,i*j))"
   ]
  },
  {
   "cell_type": "code",
   "execution_count": 3,
   "id": "vulnerable-philip",
   "metadata": {},
   "outputs": [
    {
     "name": "stdout",
     "output_type": "stream",
     "text": [
      "enter10\n",
      "10\n",
      "9\n",
      "8\n",
      "7\n",
      "6\n",
      "5\n",
      "4\n",
      "3\n",
      "2\n",
      "1\n"
     ]
    }
   ],
   "source": [
    "n=int(input('enter'))\n",
    "i=n\n",
    "while i>0:\n",
    "    print(i)\n",
    "    i-=1"
   ]
  },
  {
   "cell_type": "markdown",
   "id": "minimal-concert",
   "metadata": {},
   "source": [
    "## jumping statements\n",
    "-break\n",
    "-continue"
   ]
  },
  {
   "cell_type": "code",
   "execution_count": 11,
   "id": "fallen-germany",
   "metadata": {},
   "outputs": [
    {
     "name": "stdout",
     "output_type": "stream",
     "text": [
      "1 2 3 4 "
     ]
    }
   ],
   "source": [
    "for i in range(1,10):\n",
    "    if i==5:\n",
    "        break\n",
    "    print(i,end=' ')"
   ]
  },
  {
   "cell_type": "code",
   "execution_count": 9,
   "id": "identified-relation",
   "metadata": {},
   "outputs": [
    {
     "name": "stdout",
     "output_type": "stream",
     "text": [
      "1 2 3 4 6 7 8 9 "
     ]
    }
   ],
   "source": [
    "for i in range(1,10):\n",
    "    if i==5:\n",
    "        continue\n",
    "    print(i,end=' ')"
   ]
  },
  {
   "cell_type": "code",
   "execution_count": null,
   "id": "viral-synthetic",
   "metadata": {},
   "outputs": [],
   "source": [
    "## functions\n",
    "-block/set of code to perform some operations\n",
    "-uses/advantages:\n",
    "-code reusability\n",
    "-readability of the program\n",
    "-code reduce\n",
    "-time saved\n",
    "-memory saved\n",
    "-types of the functions\n",
    "  -1.inbuilt/default functions\n",
    "    --ex:print,sum,max,min,input\n",
    "  -2.user defined functions\n",
    "    --1.function creation\n",
    "        --@function declaration\n",
    "          def function name(arguments):\n",
    "        --@function definition\n",
    "          statements\n",
    "      2.function calling\n",
    "        --by using function name\n",
    "  -3.special functions:\n",
    "    -lambda,comprehensions,iterators,map\n"
   ]
  },
  {
   "cell_type": "code",
   "execution_count": 14,
   "id": "recent-priority",
   "metadata": {},
   "outputs": [
    {
     "name": "stdout",
     "output_type": "stream",
     "text": [
      "8\n"
     ]
    }
   ],
   "source": [
    "# function creation\n",
    "def add(a,b):\n",
    "    print(a+b)\n",
    "add(4,4)"
   ]
  },
  {
   "cell_type": "code",
   "execution_count": 23,
   "id": "lucky-provincial",
   "metadata": {},
   "outputs": [
    {
     "name": "stdout",
     "output_type": "stream",
     "text": [
      "9\n",
      "5 4\n"
     ]
    }
   ],
   "source": [
    "def add(a,b):\n",
    "    print(a+b)\n",
    "    return a,b ##a,b are stored in like tuples\n",
    "a,b=add(5,4)\n",
    "print(a,b)"
   ]
  },
  {
   "cell_type": "code",
   "execution_count": 13,
   "id": "assured-module",
   "metadata": {},
   "outputs": [
    {
     "name": "stdout",
     "output_type": "stream",
     "text": [
      "8\n"
     ]
    }
   ],
   "source": [
    "add(5,3)"
   ]
  },
  {
   "cell_type": "code",
   "execution_count": 15,
   "id": "tender-starter",
   "metadata": {},
   "outputs": [
    {
     "name": "stdout",
     "output_type": "stream",
     "text": [
      "4\n"
     ]
    }
   ],
   "source": [
    "def sub(a,b):\n",
    "    print(a-b)\n",
    "sub(6,2)"
   ]
  },
  {
   "cell_type": "markdown",
   "id": "hazardous-henry",
   "metadata": {},
   "source": [
    "## types of user defined function:\n",
    "# 1.with return and without argumment\n",
    "--2.\n",
    "--3.\n",
    "--4."
   ]
  },
  {
   "cell_type": "code",
   "execution_count": 22,
   "id": "virtual-training",
   "metadata": {},
   "outputs": [
    {
     "name": "stdout",
     "output_type": "stream",
     "text": [
      "enter a value5\n",
      "number is factor of 10\n",
      "enter a value3\n",
      "number is not a factor of 10\n",
      "None\n"
     ]
    }
   ],
   "source": [
    "# without argument without return value\n",
    "def f1():\n",
    "    n=int(input('enter a value'))\n",
    "    if 10%n==0:\n",
    "        print('number is factor of 10')\n",
    "    else:\n",
    "        print('number is not a factor of 10')\n",
    "f1()\n",
    "n=f1()\n",
    "print(n)"
   ]
  },
  {
   "cell_type": "code",
   "execution_count": 31,
   "id": "aquatic-cradle",
   "metadata": {},
   "outputs": [
    {
     "name": "stdout",
     "output_type": "stream",
     "text": [
      "enter10\n",
      "enter n25\n",
      "addition is: 15\n",
      "5\n",
      "50\n",
      "2.0\n"
     ]
    }
   ],
   "source": [
    "# without argument with return value\n",
    "def f2():\n",
    "    n1=int(input('enter'))\n",
    "    n2=int(input('enter n2'))\n",
    "    return n1+n2,n1-n2,n1*n2,n1/n2\n",
    "add,sub,mul,div=f2()\n",
    "print('addition is:',add)\n",
    "print(sub)\n",
    "print(mul)\n",
    "print(div)\n"
   ]
  },
  {
   "cell_type": "code",
   "execution_count": 43,
   "id": "flying-framework",
   "metadata": {},
   "outputs": [
    {
     "name": "stdout",
     "output_type": "stream",
     "text": [
      "enter5\n",
      "enter6\n",
      "11\n"
     ]
    }
   ],
   "source": [
    "n1=int(input('enter'))\n",
    "n2=int(input('enter'))\n",
    "def f2(n1,n2):\n",
    "        print(n1+n2)\n",
    "f2(n1,n2)    \n",
    "   "
   ]
  },
  {
   "cell_type": "code",
   "execution_count": 44,
   "id": "bulgarian-partition",
   "metadata": {},
   "outputs": [
    {
     "name": "stdout",
     "output_type": "stream",
     "text": [
      "enter5\n",
      "enter6\n",
      "11\n",
      "-1\n",
      "30\n",
      "0.8333333333333334\n"
     ]
    }
   ],
   "source": [
    "n1=int(input('enter'))\n",
    "n2=int(input('enter'))\n",
    "def f2(n1,n2):\n",
    "    return n1+n2,n1-n2,n1*n2,n1/n2\n",
    "add,sub,mul,div=f2(n1,n2)\n",
    "print(add)\n",
    "print(sub)\n",
    "print(mul)\n",
    "print(div)\n",
    "      "
   ]
  },
  {
   "cell_type": "code",
   "execution_count": null,
   "id": "parliamentary-soundtrack",
   "metadata": {},
   "outputs": [],
   "source": []
  }
 ],
 "metadata": {
  "kernelspec": {
   "display_name": "Python 3",
   "language": "python",
   "name": "python3"
  },
  "language_info": {
   "codemirror_mode": {
    "name": "ipython",
    "version": 3
   },
   "file_extension": ".py",
   "mimetype": "text/x-python",
   "name": "python",
   "nbconvert_exporter": "python",
   "pygments_lexer": "ipython3",
   "version": "3.8.1"
  }
 },
 "nbformat": 4,
 "nbformat_minor": 5
}
